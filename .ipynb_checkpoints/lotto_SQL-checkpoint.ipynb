{
 "cells": [
  {
   "cell_type": "code",
   "execution_count": 1,
   "metadata": {},
   "outputs": [],
   "source": [
    "import os\n",
    "import json\n",
    "import pandas as pd\n",
    "from datetime import datetime\n",
    "import pandasql as ps"
   ]
  },
  {
   "cell_type": "code",
   "execution_count": 2,
   "metadata": {},
   "outputs": [],
   "source": [
    "pd.set_option('display.float_format', lambda x: '%.0f' % x)"
   ]
  },
  {
   "cell_type": "code",
   "execution_count": 3,
   "metadata": {},
   "outputs": [],
   "source": [
    "CURRENT_WORKING_DIRECTORY = os.getcwd()\n",
    "INPUTS = CURRENT_WORKING_DIRECTORY + \"\\\\inputs\"\n",
    "SEPARATOR=\";\"\n",
    "PLAYERS = \"Players.csv\"\n",
    "SELFBANS = \"Selfbans.csv\"\n",
    "TRANSACTIONS = \"Transactions.csv\""
   ]
  },
  {
   "cell_type": "code",
   "execution_count": 4,
   "metadata": {},
   "outputs": [],
   "source": [
    "CONFIG_FILE = \"config.json\"\n",
    "with open(CURRENT_WORKING_DIRECTORY + \"\\\\\" + CONFIG_FILE, encoding='utf-8') as f:\n",
    "    CONFIG = json.load(f)"
   ]
  },
  {
   "cell_type": "code",
   "execution_count": 5,
   "metadata": {},
   "outputs": [],
   "source": [
    "PLAYERS_DATES = CONFIG[\"PLAYERS\"][\"DATES\"]\n",
    "PLAYERS_SEPARATOR = CONFIG[\"PLAYERS\"][\"SEPARATOR\"]\n",
    "PLAYERS_DTYPE = CONFIG[\"PLAYERS\"][\"DTYPE\"] "
   ]
  },
  {
   "cell_type": "code",
   "execution_count": 6,
   "metadata": {},
   "outputs": [],
   "source": [
    "SELFBANS_DATES = CONFIG[\"SELFBANS\"][\"DATES\"]\n",
    "SELFBANS_SEPARATOR = CONFIG[\"SELFBANS\"][\"SEPARATOR\"]\n",
    "SELFBANS_DTYPE = CONFIG[\"SELFBANS\"][\"DTYPE\"] "
   ]
  },
  {
   "cell_type": "code",
   "execution_count": 7,
   "metadata": {},
   "outputs": [],
   "source": [
    "TRANSACTIONS_DATES = CONFIG[\"TRANSACTIONS\"][\"DATES\"]\n",
    "TRANSACTIONS_SEPARATOR = CONFIG[\"TRANSACTIONS\"][\"SEPARATOR\"]\n",
    "TRANSACTIONS_DTYPE = CONFIG[\"TRANSACTIONS\"][\"DTYPE\"] "
   ]
  },
  {
   "cell_type": "code",
   "execution_count": 8,
   "metadata": {},
   "outputs": [],
   "source": [
    "def myparser(x):\n",
    "    \"\"\"\n",
    "    \"\"\"\n",
    "#     try:\n",
    "#         datetime.utcfromtimestamp(int(x))\n",
    "#     except:\n",
    "#         return pd.NaT\n",
    "#    return dt.datetime.strptime(x, '%Y-%m-%d %H:%M:%S')\n",
    "    return datetime.utcfromtimestamp(int(x))"
   ]
  },
  {
   "cell_type": "markdown",
   "metadata": {},
   "source": [
    "## PLAYERS"
   ]
  },
  {
   "cell_type": "code",
   "execution_count": 9,
   "metadata": {
    "pycharm": {
     "name": "#%%\n"
    }
   },
   "outputs": [],
   "source": [
    "players = pd.read_csv(\n",
    "    INPUTS + \"\\\\\" + PLAYERS,\n",
    "    delimiter=PLAYERS_SEPARATOR,\n",
    "    parse_dates=PLAYERS_DATES,\n",
    "    dtype=PLAYERS_DTYPE,\n",
    "    date_parser=myparser\n",
    ")"
   ]
  },
  {
   "cell_type": "code",
   "execution_count": 10,
   "metadata": {},
   "outputs": [
    {
     "name": "stdout",
     "output_type": "stream",
     "text": [
      "<class 'pandas.core.frame.DataFrame'>\n",
      "RangeIndex: 29 entries, 0 to 28\n",
      "Data columns (total 10 columns):\n",
      " #   Column             Non-Null Count  Dtype         \n",
      "---  ------             --------------  -----         \n",
      " 0   AccountId          29 non-null     object        \n",
      " 1   PlayerNr           29 non-null     object        \n",
      " 2   Country            29 non-null     object        \n",
      " 3   DateOfBirth        29 non-null     datetime64[ns]\n",
      " 4   Source             29 non-null     object        \n",
      " 5   Selfban_start      29 non-null     datetime64[ns]\n",
      " 6   Selfban_end        29 non-null     datetime64[ns]\n",
      " 7   First_genre        29 non-null     object        \n",
      " 8   Registration_date  29 non-null     datetime64[ns]\n",
      " 9   Currency           29 non-null     object        \n",
      "dtypes: datetime64[ns](4), object(6)\n",
      "memory usage: 2.4+ KB\n"
     ]
    }
   ],
   "source": [
    "players.info()"
   ]
  },
  {
   "cell_type": "code",
   "execution_count": 22,
   "metadata": {},
   "outputs": [
    {
     "data": {
      "text/html": [
       "<div>\n",
       "<style scoped>\n",
       "    .dataframe tbody tr th:only-of-type {\n",
       "        vertical-align: middle;\n",
       "    }\n",
       "\n",
       "    .dataframe tbody tr th {\n",
       "        vertical-align: top;\n",
       "    }\n",
       "\n",
       "    .dataframe thead th {\n",
       "        text-align: right;\n",
       "    }\n",
       "</style>\n",
       "<table border=\"1\" class=\"dataframe\">\n",
       "  <thead>\n",
       "    <tr style=\"text-align: right;\">\n",
       "      <th></th>\n",
       "      <th>AccountId</th>\n",
       "      <th>PlayerNr</th>\n",
       "      <th>Country</th>\n",
       "      <th>DateOfBirth</th>\n",
       "      <th>Source</th>\n",
       "      <th>Selfban_start</th>\n",
       "      <th>Selfban_end</th>\n",
       "      <th>First_genre</th>\n",
       "      <th>Registration_date</th>\n",
       "      <th>Currency</th>\n",
       "    </tr>\n",
       "  </thead>\n",
       "  <tbody>\n",
       "    <tr>\n",
       "      <th>0</th>\n",
       "      <td>1</td>\n",
       "      <td>101</td>\n",
       "      <td>PL</td>\n",
       "      <td>1988-02-07 00:31:26</td>\n",
       "      <td>Facebook</td>\n",
       "      <td>2022-02-06 23:17:49</td>\n",
       "      <td>2022-02-08 03:04:29</td>\n",
       "      <td>arcade</td>\n",
       "      <td>2022-02-06 23:17:49</td>\n",
       "      <td>PLN</td>\n",
       "    </tr>\n",
       "    <tr>\n",
       "      <th>1</th>\n",
       "      <td>2</td>\n",
       "      <td>102</td>\n",
       "      <td>UK</td>\n",
       "      <td>1988-02-08 04:18:06</td>\n",
       "      <td>direct</td>\n",
       "      <td>2022-02-06 06:37:49</td>\n",
       "      <td>2022-02-07 10:24:29</td>\n",
       "      <td>arcade</td>\n",
       "      <td>2021-12-22 16:11:09</td>\n",
       "      <td>GBP</td>\n",
       "    </tr>\n",
       "    <tr>\n",
       "      <th>2</th>\n",
       "      <td>3</td>\n",
       "      <td>103</td>\n",
       "      <td>FR</td>\n",
       "      <td>1988-02-09 08:04:46</td>\n",
       "      <td>web</td>\n",
       "      <td>2022-02-05 13:57:49</td>\n",
       "      <td>2022-02-06 17:44:29</td>\n",
       "      <td>arcade</td>\n",
       "      <td>2021-11-06 09:04:29</td>\n",
       "      <td>EUR</td>\n",
       "    </tr>\n",
       "    <tr>\n",
       "      <th>3</th>\n",
       "      <td>4</td>\n",
       "      <td>104</td>\n",
       "      <td>DE</td>\n",
       "      <td>1988-02-10 11:51:26</td>\n",
       "      <td>Facebook</td>\n",
       "      <td>2022-02-04 21:17:49</td>\n",
       "      <td>2022-02-06 01:04:29</td>\n",
       "      <td>arcade</td>\n",
       "      <td>2021-09-21 01:57:49</td>\n",
       "      <td>PLN</td>\n",
       "    </tr>\n",
       "    <tr>\n",
       "      <th>4</th>\n",
       "      <td>5</td>\n",
       "      <td>105</td>\n",
       "      <td>DK</td>\n",
       "      <td>1988-02-11 15:38:06</td>\n",
       "      <td>direct</td>\n",
       "      <td>2022-02-04 04:37:49</td>\n",
       "      <td>2022-02-05 08:24:29</td>\n",
       "      <td>arcade</td>\n",
       "      <td>2021-08-05 18:51:09</td>\n",
       "      <td>GBP</td>\n",
       "    </tr>\n",
       "  </tbody>\n",
       "</table>\n",
       "</div>"
      ],
      "text/plain": [
       "  AccountId PlayerNr Country         DateOfBirth    Source  \\\n",
       "0         1      101      PL 1988-02-07 00:31:26  Facebook   \n",
       "1         2      102      UK 1988-02-08 04:18:06    direct   \n",
       "2         3      103      FR 1988-02-09 08:04:46       web   \n",
       "3         4      104      DE 1988-02-10 11:51:26  Facebook   \n",
       "4         5      105      DK 1988-02-11 15:38:06    direct   \n",
       "\n",
       "        Selfban_start         Selfban_end First_genre   Registration_date  \\\n",
       "0 2022-02-06 23:17:49 2022-02-08 03:04:29      arcade 2022-02-06 23:17:49   \n",
       "1 2022-02-06 06:37:49 2022-02-07 10:24:29      arcade 2021-12-22 16:11:09   \n",
       "2 2022-02-05 13:57:49 2022-02-06 17:44:29      arcade 2021-11-06 09:04:29   \n",
       "3 2022-02-04 21:17:49 2022-02-06 01:04:29      arcade 2021-09-21 01:57:49   \n",
       "4 2022-02-04 04:37:49 2022-02-05 08:24:29      arcade 2021-08-05 18:51:09   \n",
       "\n",
       "  Currency  \n",
       "0      PLN  \n",
       "1      GBP  \n",
       "2      EUR  \n",
       "3      PLN  \n",
       "4      GBP  "
      ]
     },
     "execution_count": 22,
     "metadata": {},
     "output_type": "execute_result"
    }
   ],
   "source": [
    "players.head(5)"
   ]
  },
  {
   "cell_type": "code",
   "execution_count": 42,
   "metadata": {},
   "outputs": [
    {
     "data": {
      "text/plain": [
       "array(['1', '2', '3', '4', '5', '6', '7', '8', '9', '10', '11', '12',\n",
       "       '13', '14', '15', '16', '17', '18', '19', '20', '21', '22', '23',\n",
       "       '24', '25', '26', '27', '28', '29'], dtype=object)"
      ]
     },
     "execution_count": 42,
     "metadata": {},
     "output_type": "execute_result"
    }
   ],
   "source": [
    "players[\"AccountId\"].unique()"
   ]
  },
  {
   "cell_type": "code",
   "execution_count": 41,
   "metadata": {},
   "outputs": [
    {
     "data": {
      "text/plain": [
       "29"
      ]
     },
     "execution_count": 41,
     "metadata": {},
     "output_type": "execute_result"
    }
   ],
   "source": [
    "players[\"AccountId\"].nunique()"
   ]
  },
  {
   "cell_type": "code",
   "execution_count": 44,
   "metadata": {},
   "outputs": [
    {
     "data": {
      "text/plain": [
       "array(['101', '102', '103', '104', '105', '106', '107', '108', '109',\n",
       "       '110', '111', '112', '113', '114', '115', '116', '117', '118',\n",
       "       '119', '120', '121', '122', '123', '124', '125', '126', '127',\n",
       "       '128', '129'], dtype=object)"
      ]
     },
     "execution_count": 44,
     "metadata": {},
     "output_type": "execute_result"
    }
   ],
   "source": [
    "players[\"PlayerNr\"].unique()"
   ]
  },
  {
   "cell_type": "code",
   "execution_count": 45,
   "metadata": {},
   "outputs": [
    {
     "data": {
      "text/plain": [
       "29"
      ]
     },
     "execution_count": 45,
     "metadata": {},
     "output_type": "execute_result"
    }
   ],
   "source": [
    "players[\"PlayerNr\"].nunique()"
   ]
  },
  {
   "cell_type": "code",
   "execution_count": 63,
   "metadata": {},
   "outputs": [
    {
     "data": {
      "text/plain": [
       "array(['Facebook', 'direct', 'web'], dtype=object)"
      ]
     },
     "execution_count": 63,
     "metadata": {},
     "output_type": "execute_result"
    }
   ],
   "source": [
    "players[\"Source\"].unique()"
   ]
  },
  {
   "cell_type": "code",
   "execution_count": 64,
   "metadata": {},
   "outputs": [
    {
     "data": {
      "text/plain": [
       "3"
      ]
     },
     "execution_count": 64,
     "metadata": {},
     "output_type": "execute_result"
    }
   ],
   "source": [
    "players[\"Source\"].nunique()"
   ]
  },
  {
   "cell_type": "code",
   "execution_count": 61,
   "metadata": {},
   "outputs": [
    {
     "data": {
      "text/plain": [
       "array(['arcade'], dtype=object)"
      ]
     },
     "execution_count": 61,
     "metadata": {},
     "output_type": "execute_result"
    }
   ],
   "source": [
    "players[\"First_genre\"].unique()"
   ]
  },
  {
   "cell_type": "code",
   "execution_count": 62,
   "metadata": {},
   "outputs": [
    {
     "data": {
      "text/plain": [
       "1"
      ]
     },
     "execution_count": 62,
     "metadata": {},
     "output_type": "execute_result"
    }
   ],
   "source": [
    "players[\"First_genre\"].nunique()"
   ]
  },
  {
   "cell_type": "code",
   "execution_count": 65,
   "metadata": {},
   "outputs": [
    {
     "data": {
      "text/plain": [
       "array(['PLN', 'GBP', 'EUR'], dtype=object)"
      ]
     },
     "execution_count": 65,
     "metadata": {},
     "output_type": "execute_result"
    }
   ],
   "source": [
    "players[\"Currency\"].unique()"
   ]
  },
  {
   "cell_type": "code",
   "execution_count": 66,
   "metadata": {},
   "outputs": [
    {
     "data": {
      "text/plain": [
       "3"
      ]
     },
     "execution_count": 66,
     "metadata": {},
     "output_type": "execute_result"
    }
   ],
   "source": [
    "players[\"Currency\"].nunique()"
   ]
  },
  {
   "cell_type": "markdown",
   "metadata": {},
   "source": [
    "## SELFBANS"
   ]
  },
  {
   "cell_type": "code",
   "execution_count": 12,
   "metadata": {},
   "outputs": [],
   "source": [
    "selfbans = pd.read_csv(\n",
    "    INPUTS + \"\\\\\" + SELFBANS,\n",
    "    delimiter=SELFBANS_SEPARATOR,\n",
    "    dtype=SELFBANS_DTYPE,\n",
    "    parse_dates=SELFBANS_DATES,\n",
    "    date_parser=myparser\n",
    ")"
   ]
  },
  {
   "cell_type": "code",
   "execution_count": 13,
   "metadata": {},
   "outputs": [
    {
     "name": "stdout",
     "output_type": "stream",
     "text": [
      "<class 'pandas.core.frame.DataFrame'>\n",
      "RangeIndex: 58 entries, 0 to 57\n",
      "Data columns (total 3 columns):\n",
      " #   Column         Non-Null Count  Dtype         \n",
      "---  ------         --------------  -----         \n",
      " 0   AccountId      58 non-null     object        \n",
      " 1   Selfban_start  58 non-null     datetime64[ns]\n",
      " 2   Selfban_end    58 non-null     datetime64[ns]\n",
      "dtypes: datetime64[ns](2), object(1)\n",
      "memory usage: 1.5+ KB\n"
     ]
    }
   ],
   "source": [
    "selfbans.info()"
   ]
  },
  {
   "cell_type": "code",
   "execution_count": 23,
   "metadata": {},
   "outputs": [
    {
     "data": {
      "text/html": [
       "<div>\n",
       "<style scoped>\n",
       "    .dataframe tbody tr th:only-of-type {\n",
       "        vertical-align: middle;\n",
       "    }\n",
       "\n",
       "    .dataframe tbody tr th {\n",
       "        vertical-align: top;\n",
       "    }\n",
       "\n",
       "    .dataframe thead th {\n",
       "        text-align: right;\n",
       "    }\n",
       "</style>\n",
       "<table border=\"1\" class=\"dataframe\">\n",
       "  <thead>\n",
       "    <tr style=\"text-align: right;\">\n",
       "      <th></th>\n",
       "      <th>AccountId</th>\n",
       "      <th>Selfban_start</th>\n",
       "      <th>Selfban_end</th>\n",
       "    </tr>\n",
       "  </thead>\n",
       "  <tbody>\n",
       "    <tr>\n",
       "      <th>0</th>\n",
       "      <td>1</td>\n",
       "      <td>2022-02-06 23:17:49</td>\n",
       "      <td>2022-02-08 03:04:29</td>\n",
       "    </tr>\n",
       "    <tr>\n",
       "      <th>1</th>\n",
       "      <td>2</td>\n",
       "      <td>2022-02-06 06:37:49</td>\n",
       "      <td>2022-02-07 10:24:29</td>\n",
       "    </tr>\n",
       "    <tr>\n",
       "      <th>2</th>\n",
       "      <td>3</td>\n",
       "      <td>2022-02-05 13:57:49</td>\n",
       "      <td>2022-02-06 17:44:29</td>\n",
       "    </tr>\n",
       "    <tr>\n",
       "      <th>3</th>\n",
       "      <td>4</td>\n",
       "      <td>2022-02-04 21:17:49</td>\n",
       "      <td>2022-02-06 01:04:29</td>\n",
       "    </tr>\n",
       "    <tr>\n",
       "      <th>4</th>\n",
       "      <td>5</td>\n",
       "      <td>2022-02-04 04:37:49</td>\n",
       "      <td>2022-02-05 08:24:29</td>\n",
       "    </tr>\n",
       "  </tbody>\n",
       "</table>\n",
       "</div>"
      ],
      "text/plain": [
       "  AccountId       Selfban_start         Selfban_end\n",
       "0         1 2022-02-06 23:17:49 2022-02-08 03:04:29\n",
       "1         2 2022-02-06 06:37:49 2022-02-07 10:24:29\n",
       "2         3 2022-02-05 13:57:49 2022-02-06 17:44:29\n",
       "3         4 2022-02-04 21:17:49 2022-02-06 01:04:29\n",
       "4         5 2022-02-04 04:37:49 2022-02-05 08:24:29"
      ]
     },
     "execution_count": 23,
     "metadata": {},
     "output_type": "execute_result"
    }
   ],
   "source": [
    "selfbans.head()"
   ]
  },
  {
   "cell_type": "code",
   "execution_count": 46,
   "metadata": {},
   "outputs": [
    {
     "data": {
      "text/plain": [
       "array(['1', '2', '3', '4', '5', '6', '7', '8', '9', '10', '11', '12',\n",
       "       '13', '14', '15', '16', '17', '18', '19', '20', '21', '22', '23',\n",
       "       '24', '25', '26', '27', '28', '29'], dtype=object)"
      ]
     },
     "execution_count": 46,
     "metadata": {},
     "output_type": "execute_result"
    }
   ],
   "source": [
    "selfbans[\"AccountId\"].unique()"
   ]
  },
  {
   "cell_type": "code",
   "execution_count": 47,
   "metadata": {},
   "outputs": [
    {
     "data": {
      "text/plain": [
       "29"
      ]
     },
     "execution_count": 47,
     "metadata": {},
     "output_type": "execute_result"
    }
   ],
   "source": [
    "selfbans[\"AccountId\"].nunique()"
   ]
  },
  {
   "cell_type": "code",
   "execution_count": 49,
   "metadata": {},
   "outputs": [
    {
     "data": {
      "text/plain": [
       "array(['2022-02-06T23:17:49.000000000', '2022-02-06T06:37:49.000000000',\n",
       "       '2022-02-05T13:57:49.000000000', '2022-02-04T21:17:49.000000000',\n",
       "       '2022-02-04T04:37:49.000000000', '2022-02-03T11:57:49.000000000',\n",
       "       '2022-02-02T19:17:49.000000000', '2022-02-02T02:37:49.000000000',\n",
       "       '2022-02-01T09:57:49.000000000', '1970-01-01T00:00:00.000000000',\n",
       "       '2022-01-28T05:57:49.000000000', '2022-01-27T13:17:49.000000000',\n",
       "       '2022-01-26T20:37:49.000000000', '2022-01-26T03:57:49.000000000',\n",
       "       '2022-01-23T09:17:49.000000000', '2022-01-22T16:37:49.000000000',\n",
       "       '2022-01-21T23:57:49.000000000', '2022-01-21T07:17:49.000000000',\n",
       "       '2022-01-20T14:37:49.000000000', '2022-01-19T21:57:49.000000000',\n",
       "       '2022-01-19T05:17:49.000000000', '2022-01-18T12:37:49.000000000',\n",
       "       '2022-01-11T13:57:49.000000000', '2022-01-10T21:17:49.000000000',\n",
       "       '2022-01-10T04:37:49.000000000', '2022-01-09T11:57:49.000000000',\n",
       "       '2022-01-08T19:17:49.000000000', '2022-01-05T07:57:49.000000000',\n",
       "       '2022-01-04T15:17:49.000000000', '2022-01-03T22:37:49.000000000'],\n",
       "      dtype='datetime64[ns]')"
      ]
     },
     "execution_count": 49,
     "metadata": {},
     "output_type": "execute_result"
    }
   ],
   "source": [
    "selfbans[\"Selfban_start\"].unique()"
   ]
  },
  {
   "cell_type": "code",
   "execution_count": 50,
   "metadata": {},
   "outputs": [
    {
     "data": {
      "text/plain": [
       "30"
      ]
     },
     "execution_count": 50,
     "metadata": {},
     "output_type": "execute_result"
    }
   ],
   "source": [
    "selfbans[\"Selfban_start\"].nunique()"
   ]
  },
  {
   "cell_type": "code",
   "execution_count": 51,
   "metadata": {},
   "outputs": [
    {
     "data": {
      "text/plain": [
       "array(['2022-02-08T03:04:29.000000000', '2022-02-07T10:24:29.000000000',\n",
       "       '2022-02-06T17:44:29.000000000', '2022-02-06T01:04:29.000000000',\n",
       "       '2022-02-05T08:24:29.000000000', '2022-02-04T15:44:29.000000000',\n",
       "       '2022-02-03T23:04:29.000000000', '2022-02-03T06:24:29.000000000',\n",
       "       '2022-02-02T13:44:29.000000000', '1970-01-01T00:00:00.000000000',\n",
       "       '2022-01-29T09:44:29.000000000', '2022-01-28T17:04:29.000000000',\n",
       "       '2022-01-28T00:24:29.000000000', '2022-01-27T07:44:29.000000000',\n",
       "       '2022-01-24T13:04:29.000000000', '2022-01-23T20:24:29.000000000',\n",
       "       '2022-01-23T03:44:29.000000000', '2022-01-22T11:04:29.000000000',\n",
       "       '2022-01-21T18:24:29.000000000', '2022-01-21T01:44:29.000000000',\n",
       "       '2022-01-20T09:04:29.000000000', '2022-01-19T16:24:29.000000000',\n",
       "       '2022-01-12T17:44:29.000000000', '2022-01-12T01:04:29.000000000',\n",
       "       '2022-01-11T08:24:29.000000000', '2022-01-10T15:44:29.000000000',\n",
       "       '2022-01-09T23:04:29.000000000', '2022-01-06T11:44:29.000000000',\n",
       "       '2022-01-05T19:04:29.000000000', '2022-01-05T02:24:29.000000000'],\n",
       "      dtype='datetime64[ns]')"
      ]
     },
     "execution_count": 51,
     "metadata": {},
     "output_type": "execute_result"
    }
   ],
   "source": [
    "selfbans[\"Selfban_end\"].unique()"
   ]
  },
  {
   "cell_type": "code",
   "execution_count": 52,
   "metadata": {},
   "outputs": [
    {
     "data": {
      "text/plain": [
       "30"
      ]
     },
     "execution_count": 52,
     "metadata": {},
     "output_type": "execute_result"
    }
   ],
   "source": [
    "selfbans[\"Selfban_end\"].nunique()"
   ]
  },
  {
   "cell_type": "markdown",
   "metadata": {},
   "source": [
    "## TRANSACTIONS"
   ]
  },
  {
   "cell_type": "code",
   "execution_count": 15,
   "metadata": {},
   "outputs": [],
   "source": [
    "transactions = pd.read_csv(\n",
    "    INPUTS + \"\\\\\" + TRANSACTIONS,\n",
    "    delimiter=TRANSACTIONS_SEPARATOR,\n",
    "    dtype=TRANSACTIONS_DTYPE,\n",
    "    parse_dates=TRANSACTIONS_DATES,\n",
    "    date_parser=myparser\n",
    ")"
   ]
  },
  {
   "cell_type": "code",
   "execution_count": 16,
   "metadata": {},
   "outputs": [
    {
     "name": "stdout",
     "output_type": "stream",
     "text": [
      "<class 'pandas.core.frame.DataFrame'>\n",
      "RangeIndex: 29 entries, 0 to 28\n",
      "Data columns (total 5 columns):\n",
      " #   Column          Non-Null Count  Dtype         \n",
      "---  ------          --------------  -----         \n",
      " 0   PlayerNr        29 non-null     object        \n",
      " 1   Trx_Type        29 non-null     object        \n",
      " 2   Trx_time        29 non-null     datetime64[ns]\n",
      " 3   Balance_before  29 non-null     float64       \n",
      " 4   Balance_after   29 non-null     float64       \n",
      "dtypes: datetime64[ns](1), float64(2), object(2)\n",
      "memory usage: 1.3+ KB\n"
     ]
    }
   ],
   "source": [
    "transactions.info()"
   ]
  },
  {
   "cell_type": "code",
   "execution_count": 24,
   "metadata": {},
   "outputs": [
    {
     "data": {
      "text/html": [
       "<div>\n",
       "<style scoped>\n",
       "    .dataframe tbody tr th:only-of-type {\n",
       "        vertical-align: middle;\n",
       "    }\n",
       "\n",
       "    .dataframe tbody tr th {\n",
       "        vertical-align: top;\n",
       "    }\n",
       "\n",
       "    .dataframe thead th {\n",
       "        text-align: right;\n",
       "    }\n",
       "</style>\n",
       "<table border=\"1\" class=\"dataframe\">\n",
       "  <thead>\n",
       "    <tr style=\"text-align: right;\">\n",
       "      <th></th>\n",
       "      <th>PlayerNr</th>\n",
       "      <th>Trx_Type</th>\n",
       "      <th>Trx_time</th>\n",
       "      <th>Balance_before</th>\n",
       "      <th>Balance_after</th>\n",
       "    </tr>\n",
       "  </thead>\n",
       "  <tbody>\n",
       "    <tr>\n",
       "      <th>0</th>\n",
       "      <td>101</td>\n",
       "      <td>win</td>\n",
       "      <td>2022-02-08 03:06:40</td>\n",
       "      <td>111</td>\n",
       "      <td>888</td>\n",
       "    </tr>\n",
       "    <tr>\n",
       "      <th>1</th>\n",
       "      <td>102</td>\n",
       "      <td>win</td>\n",
       "      <td>2022-02-08 03:06:40</td>\n",
       "      <td>121</td>\n",
       "      <td>500</td>\n",
       "    </tr>\n",
       "    <tr>\n",
       "      <th>2</th>\n",
       "      <td>103</td>\n",
       "      <td>win</td>\n",
       "      <td>2022-02-08 03:06:40</td>\n",
       "      <td>131</td>\n",
       "      <td>112</td>\n",
       "    </tr>\n",
       "  </tbody>\n",
       "</table>\n",
       "</div>"
      ],
      "text/plain": [
       "  PlayerNr Trx_Type            Trx_time  Balance_before  Balance_after\n",
       "0      101      win 2022-02-08 03:06:40             111            888\n",
       "1      102      win 2022-02-08 03:06:40             121            500\n",
       "2      103      win 2022-02-08 03:06:40             131            112"
      ]
     },
     "execution_count": 24,
     "metadata": {},
     "output_type": "execute_result"
    }
   ],
   "source": [
    "transactions.head(3)"
   ]
  },
  {
   "cell_type": "code",
   "execution_count": 53,
   "metadata": {},
   "outputs": [
    {
     "data": {
      "text/plain": [
       "array(['101', '102', '103', '104', '105', '106', '107', '108', '109',\n",
       "       '110', '111', '112', '113', '114', '115', '116', '117', '118',\n",
       "       '119', '120', '121', '122', '123', '124', '125', '126', '127',\n",
       "       '128', '129'], dtype=object)"
      ]
     },
     "execution_count": 53,
     "metadata": {},
     "output_type": "execute_result"
    }
   ],
   "source": [
    "transactions[\"PlayerNr\"].unique()"
   ]
  },
  {
   "cell_type": "code",
   "execution_count": 56,
   "metadata": {},
   "outputs": [
    {
     "data": {
      "text/plain": [
       "29"
      ]
     },
     "execution_count": 56,
     "metadata": {},
     "output_type": "execute_result"
    }
   ],
   "source": [
    "transactions[\"PlayerNr\"].nunique()"
   ]
  },
  {
   "cell_type": "code",
   "execution_count": 57,
   "metadata": {},
   "outputs": [
    {
     "data": {
      "text/plain": [
       "array(['win', 'deposit', 'withdrawal', 'stake'], dtype=object)"
      ]
     },
     "execution_count": 57,
     "metadata": {},
     "output_type": "execute_result"
    }
   ],
   "source": [
    "transactions[\"Trx_Type\"].unique()"
   ]
  },
  {
   "cell_type": "code",
   "execution_count": 58,
   "metadata": {},
   "outputs": [
    {
     "data": {
      "text/plain": [
       "4"
      ]
     },
     "execution_count": 58,
     "metadata": {},
     "output_type": "execute_result"
    }
   ],
   "source": [
    "transactions[\"Trx_Type\"].nunique()"
   ]
  },
  {
   "cell_type": "code",
   "execution_count": 59,
   "metadata": {},
   "outputs": [
    {
     "data": {
      "text/plain": [
       "array(['2022-02-08T03:06:40.000000000'], dtype='datetime64[ns]')"
      ]
     },
     "execution_count": 59,
     "metadata": {},
     "output_type": "execute_result"
    }
   ],
   "source": [
    "transactions[\"Trx_time\"].unique()"
   ]
  },
  {
   "cell_type": "code",
   "execution_count": 60,
   "metadata": {},
   "outputs": [
    {
     "data": {
      "text/plain": [
       "1"
      ]
     },
     "execution_count": 60,
     "metadata": {},
     "output_type": "execute_result"
    }
   ],
   "source": [
    "transactions[\"Trx_time\"].nunique()"
   ]
  },
  {
   "cell_type": "markdown",
   "metadata": {},
   "source": [
    "# SQL"
   ]
  },
  {
   "cell_type": "code",
   "execution_count": null,
   "metadata": {},
   "outputs": [],
   "source": [
    "query01 = \"\"\"\n",
    "SELECT COUNT(*)\n",
    "FROM players\n",
    "LIMIT 10\n",
    "\"\"\""
   ]
  },
  {
   "cell_type": "code",
   "execution_count": 19,
   "metadata": {},
   "outputs": [
    {
     "data": {
      "text/html": [
       "<div>\n",
       "<style scoped>\n",
       "    .dataframe tbody tr th:only-of-type {\n",
       "        vertical-align: middle;\n",
       "    }\n",
       "\n",
       "    .dataframe tbody tr th {\n",
       "        vertical-align: top;\n",
       "    }\n",
       "\n",
       "    .dataframe thead th {\n",
       "        text-align: right;\n",
       "    }\n",
       "</style>\n",
       "<table border=\"1\" class=\"dataframe\">\n",
       "  <thead>\n",
       "    <tr style=\"text-align: right;\">\n",
       "      <th></th>\n",
       "      <th>COUNT(*)</th>\n",
       "    </tr>\n",
       "  </thead>\n",
       "  <tbody>\n",
       "    <tr>\n",
       "      <th>0</th>\n",
       "      <td>29</td>\n",
       "    </tr>\n",
       "  </tbody>\n",
       "</table>\n",
       "</div>"
      ],
      "text/plain": [
       "   COUNT(*)\n",
       "0        29"
      ]
     },
     "execution_count": 19,
     "metadata": {},
     "output_type": "execute_result"
    }
   ],
   "source": [
    "ps.sqldf(query01, locals())"
   ]
  },
  {
   "cell_type": "code",
   "execution_count": 37,
   "metadata": {},
   "outputs": [],
   "source": [
    "query02 = \"\"\"\n",
    "SELECT *\n",
    "FROM players, selfbans\n",
    "WHERE players.AccountId = selfbans.AccountId\n",
    "AND players.Selfban_start >= selfbans.Selfban_start AND players.Selfban_start <= selfbans.Selfban_start\n",
    "LIMIT 5\n",
    "\"\"\""
   ]
  },
  {
   "cell_type": "code",
   "execution_count": 38,
   "metadata": {},
   "outputs": [
    {
     "data": {
      "text/html": [
       "<div>\n",
       "<style scoped>\n",
       "    .dataframe tbody tr th:only-of-type {\n",
       "        vertical-align: middle;\n",
       "    }\n",
       "\n",
       "    .dataframe tbody tr th {\n",
       "        vertical-align: top;\n",
       "    }\n",
       "\n",
       "    .dataframe thead th {\n",
       "        text-align: right;\n",
       "    }\n",
       "</style>\n",
       "<table border=\"1\" class=\"dataframe\">\n",
       "  <thead>\n",
       "    <tr style=\"text-align: right;\">\n",
       "      <th></th>\n",
       "      <th>AccountId</th>\n",
       "      <th>PlayerNr</th>\n",
       "      <th>Country</th>\n",
       "      <th>DateOfBirth</th>\n",
       "      <th>Source</th>\n",
       "      <th>Selfban_start</th>\n",
       "      <th>Selfban_end</th>\n",
       "      <th>First_genre</th>\n",
       "      <th>Registration_date</th>\n",
       "      <th>Currency</th>\n",
       "      <th>AccountId</th>\n",
       "      <th>Selfban_start</th>\n",
       "      <th>Selfban_end</th>\n",
       "    </tr>\n",
       "  </thead>\n",
       "  <tbody>\n",
       "    <tr>\n",
       "      <th>0</th>\n",
       "      <td>1</td>\n",
       "      <td>101</td>\n",
       "      <td>PL</td>\n",
       "      <td>1988-02-07 00:31:26.000000</td>\n",
       "      <td>Facebook</td>\n",
       "      <td>2022-02-06 23:17:49.000000</td>\n",
       "      <td>2022-02-08 03:04:29.000000</td>\n",
       "      <td>arcade</td>\n",
       "      <td>2022-02-06 23:17:49.000000</td>\n",
       "      <td>PLN</td>\n",
       "      <td>1</td>\n",
       "      <td>2022-02-06 23:17:49.000000</td>\n",
       "      <td>2022-02-08 03:04:29.000000</td>\n",
       "    </tr>\n",
       "    <tr>\n",
       "      <th>1</th>\n",
       "      <td>2</td>\n",
       "      <td>102</td>\n",
       "      <td>UK</td>\n",
       "      <td>1988-02-08 04:18:06.000000</td>\n",
       "      <td>direct</td>\n",
       "      <td>2022-02-06 06:37:49.000000</td>\n",
       "      <td>2022-02-07 10:24:29.000000</td>\n",
       "      <td>arcade</td>\n",
       "      <td>2021-12-22 16:11:09.000000</td>\n",
       "      <td>GBP</td>\n",
       "      <td>2</td>\n",
       "      <td>2022-02-06 06:37:49.000000</td>\n",
       "      <td>2022-02-07 10:24:29.000000</td>\n",
       "    </tr>\n",
       "    <tr>\n",
       "      <th>2</th>\n",
       "      <td>3</td>\n",
       "      <td>103</td>\n",
       "      <td>FR</td>\n",
       "      <td>1988-02-09 08:04:46.000000</td>\n",
       "      <td>web</td>\n",
       "      <td>2022-02-05 13:57:49.000000</td>\n",
       "      <td>2022-02-06 17:44:29.000000</td>\n",
       "      <td>arcade</td>\n",
       "      <td>2021-11-06 09:04:29.000000</td>\n",
       "      <td>EUR</td>\n",
       "      <td>3</td>\n",
       "      <td>2022-02-05 13:57:49.000000</td>\n",
       "      <td>2022-02-06 17:44:29.000000</td>\n",
       "    </tr>\n",
       "    <tr>\n",
       "      <th>3</th>\n",
       "      <td>4</td>\n",
       "      <td>104</td>\n",
       "      <td>DE</td>\n",
       "      <td>1988-02-10 11:51:26.000000</td>\n",
       "      <td>Facebook</td>\n",
       "      <td>2022-02-04 21:17:49.000000</td>\n",
       "      <td>2022-02-06 01:04:29.000000</td>\n",
       "      <td>arcade</td>\n",
       "      <td>2021-09-21 01:57:49.000000</td>\n",
       "      <td>PLN</td>\n",
       "      <td>4</td>\n",
       "      <td>2022-02-04 21:17:49.000000</td>\n",
       "      <td>2022-02-06 01:04:29.000000</td>\n",
       "    </tr>\n",
       "    <tr>\n",
       "      <th>4</th>\n",
       "      <td>5</td>\n",
       "      <td>105</td>\n",
       "      <td>DK</td>\n",
       "      <td>1988-02-11 15:38:06.000000</td>\n",
       "      <td>direct</td>\n",
       "      <td>2022-02-04 04:37:49.000000</td>\n",
       "      <td>2022-02-05 08:24:29.000000</td>\n",
       "      <td>arcade</td>\n",
       "      <td>2021-08-05 18:51:09.000000</td>\n",
       "      <td>GBP</td>\n",
       "      <td>5</td>\n",
       "      <td>2022-02-04 04:37:49.000000</td>\n",
       "      <td>2022-02-05 08:24:29.000000</td>\n",
       "    </tr>\n",
       "  </tbody>\n",
       "</table>\n",
       "</div>"
      ],
      "text/plain": [
       "  AccountId PlayerNr Country                 DateOfBirth    Source  \\\n",
       "0         1      101      PL  1988-02-07 00:31:26.000000  Facebook   \n",
       "1         2      102      UK  1988-02-08 04:18:06.000000    direct   \n",
       "2         3      103      FR  1988-02-09 08:04:46.000000       web   \n",
       "3         4      104      DE  1988-02-10 11:51:26.000000  Facebook   \n",
       "4         5      105      DK  1988-02-11 15:38:06.000000    direct   \n",
       "\n",
       "                Selfban_start                 Selfban_end First_genre  \\\n",
       "0  2022-02-06 23:17:49.000000  2022-02-08 03:04:29.000000      arcade   \n",
       "1  2022-02-06 06:37:49.000000  2022-02-07 10:24:29.000000      arcade   \n",
       "2  2022-02-05 13:57:49.000000  2022-02-06 17:44:29.000000      arcade   \n",
       "3  2022-02-04 21:17:49.000000  2022-02-06 01:04:29.000000      arcade   \n",
       "4  2022-02-04 04:37:49.000000  2022-02-05 08:24:29.000000      arcade   \n",
       "\n",
       "            Registration_date Currency AccountId               Selfban_start  \\\n",
       "0  2022-02-06 23:17:49.000000      PLN         1  2022-02-06 23:17:49.000000   \n",
       "1  2021-12-22 16:11:09.000000      GBP         2  2022-02-06 06:37:49.000000   \n",
       "2  2021-11-06 09:04:29.000000      EUR         3  2022-02-05 13:57:49.000000   \n",
       "3  2021-09-21 01:57:49.000000      PLN         4  2022-02-04 21:17:49.000000   \n",
       "4  2021-08-05 18:51:09.000000      GBP         5  2022-02-04 04:37:49.000000   \n",
       "\n",
       "                  Selfban_end  \n",
       "0  2022-02-08 03:04:29.000000  \n",
       "1  2022-02-07 10:24:29.000000  \n",
       "2  2022-02-06 17:44:29.000000  \n",
       "3  2022-02-06 01:04:29.000000  \n",
       "4  2022-02-05 08:24:29.000000  "
      ]
     },
     "execution_count": 38,
     "metadata": {},
     "output_type": "execute_result"
    }
   ],
   "source": [
    "ps.sqldf(query02, locals())"
   ]
  },
  {
   "cell_type": "code",
   "execution_count": 70,
   "metadata": {},
   "outputs": [],
   "source": [
    "query03 = \"\"\"\n",
    "SELECT\n",
    "*\n",
    "\n",
    "FROM players\n",
    "\n",
    "WHERE strftime('%Y', DateOfBirth) = '1988'\n",
    "--WHERE date(DateOfBirth) < date('2019-03-19')\n",
    "LIMIT 5\n",
    "\"\"\""
   ]
  },
  {
   "cell_type": "code",
   "execution_count": 71,
   "metadata": {},
   "outputs": [
    {
     "data": {
      "text/html": [
       "<div>\n",
       "<style scoped>\n",
       "    .dataframe tbody tr th:only-of-type {\n",
       "        vertical-align: middle;\n",
       "    }\n",
       "\n",
       "    .dataframe tbody tr th {\n",
       "        vertical-align: top;\n",
       "    }\n",
       "\n",
       "    .dataframe thead th {\n",
       "        text-align: right;\n",
       "    }\n",
       "</style>\n",
       "<table border=\"1\" class=\"dataframe\">\n",
       "  <thead>\n",
       "    <tr style=\"text-align: right;\">\n",
       "      <th></th>\n",
       "      <th>AccountId</th>\n",
       "      <th>PlayerNr</th>\n",
       "      <th>Country</th>\n",
       "      <th>DateOfBirth</th>\n",
       "      <th>Source</th>\n",
       "      <th>Selfban_start</th>\n",
       "      <th>Selfban_end</th>\n",
       "      <th>First_genre</th>\n",
       "      <th>Registration_date</th>\n",
       "      <th>Currency</th>\n",
       "    </tr>\n",
       "  </thead>\n",
       "  <tbody>\n",
       "    <tr>\n",
       "      <th>0</th>\n",
       "      <td>1</td>\n",
       "      <td>101</td>\n",
       "      <td>PL</td>\n",
       "      <td>1988-02-07 00:31:26.000000</td>\n",
       "      <td>Facebook</td>\n",
       "      <td>2022-02-06 23:17:49.000000</td>\n",
       "      <td>2022-02-08 03:04:29.000000</td>\n",
       "      <td>arcade</td>\n",
       "      <td>2022-02-06 23:17:49.000000</td>\n",
       "      <td>PLN</td>\n",
       "    </tr>\n",
       "    <tr>\n",
       "      <th>1</th>\n",
       "      <td>2</td>\n",
       "      <td>102</td>\n",
       "      <td>UK</td>\n",
       "      <td>1988-02-08 04:18:06.000000</td>\n",
       "      <td>direct</td>\n",
       "      <td>2022-02-06 06:37:49.000000</td>\n",
       "      <td>2022-02-07 10:24:29.000000</td>\n",
       "      <td>arcade</td>\n",
       "      <td>2021-12-22 16:11:09.000000</td>\n",
       "      <td>GBP</td>\n",
       "    </tr>\n",
       "    <tr>\n",
       "      <th>2</th>\n",
       "      <td>3</td>\n",
       "      <td>103</td>\n",
       "      <td>FR</td>\n",
       "      <td>1988-02-09 08:04:46.000000</td>\n",
       "      <td>web</td>\n",
       "      <td>2022-02-05 13:57:49.000000</td>\n",
       "      <td>2022-02-06 17:44:29.000000</td>\n",
       "      <td>arcade</td>\n",
       "      <td>2021-11-06 09:04:29.000000</td>\n",
       "      <td>EUR</td>\n",
       "    </tr>\n",
       "    <tr>\n",
       "      <th>3</th>\n",
       "      <td>4</td>\n",
       "      <td>104</td>\n",
       "      <td>DE</td>\n",
       "      <td>1988-02-10 11:51:26.000000</td>\n",
       "      <td>Facebook</td>\n",
       "      <td>2022-02-04 21:17:49.000000</td>\n",
       "      <td>2022-02-06 01:04:29.000000</td>\n",
       "      <td>arcade</td>\n",
       "      <td>2021-09-21 01:57:49.000000</td>\n",
       "      <td>PLN</td>\n",
       "    </tr>\n",
       "    <tr>\n",
       "      <th>4</th>\n",
       "      <td>5</td>\n",
       "      <td>105</td>\n",
       "      <td>DK</td>\n",
       "      <td>1988-02-11 15:38:06.000000</td>\n",
       "      <td>direct</td>\n",
       "      <td>2022-02-04 04:37:49.000000</td>\n",
       "      <td>2022-02-05 08:24:29.000000</td>\n",
       "      <td>arcade</td>\n",
       "      <td>2021-08-05 18:51:09.000000</td>\n",
       "      <td>GBP</td>\n",
       "    </tr>\n",
       "  </tbody>\n",
       "</table>\n",
       "</div>"
      ],
      "text/plain": [
       "  AccountId PlayerNr Country                 DateOfBirth    Source  \\\n",
       "0         1      101      PL  1988-02-07 00:31:26.000000  Facebook   \n",
       "1         2      102      UK  1988-02-08 04:18:06.000000    direct   \n",
       "2         3      103      FR  1988-02-09 08:04:46.000000       web   \n",
       "3         4      104      DE  1988-02-10 11:51:26.000000  Facebook   \n",
       "4         5      105      DK  1988-02-11 15:38:06.000000    direct   \n",
       "\n",
       "                Selfban_start                 Selfban_end First_genre  \\\n",
       "0  2022-02-06 23:17:49.000000  2022-02-08 03:04:29.000000      arcade   \n",
       "1  2022-02-06 06:37:49.000000  2022-02-07 10:24:29.000000      arcade   \n",
       "2  2022-02-05 13:57:49.000000  2022-02-06 17:44:29.000000      arcade   \n",
       "3  2022-02-04 21:17:49.000000  2022-02-06 01:04:29.000000      arcade   \n",
       "4  2022-02-04 04:37:49.000000  2022-02-05 08:24:29.000000      arcade   \n",
       "\n",
       "            Registration_date Currency  \n",
       "0  2022-02-06 23:17:49.000000      PLN  \n",
       "1  2021-12-22 16:11:09.000000      GBP  \n",
       "2  2021-11-06 09:04:29.000000      EUR  \n",
       "3  2021-09-21 01:57:49.000000      PLN  \n",
       "4  2021-08-05 18:51:09.000000      GBP  "
      ]
     },
     "execution_count": 71,
     "metadata": {},
     "output_type": "execute_result"
    }
   ],
   "source": [
    "ps.sqldf(query03, locals())"
   ]
  },
  {
   "cell_type": "code",
   "execution_count": 76,
   "metadata": {},
   "outputs": [],
   "source": [
    "query04 = \"\"\"\n",
    "SELECT\n",
    "AVG(CAST((JulianDay(p.Selfban_end) - JulianDay(p.Selfban_start)) * 24 * 60 * 60 As Integer)) as time_in_sec\n",
    "\n",
    "FROM players as p\n",
    "\n",
    "WHERE strftime('%Y', p.DateOfBirth) = '1988'\n",
    "--WHERE date(DateOfBirth) < date('2019-03-19')\n",
    "LIMIT 5\n",
    "\"\"\""
   ]
  },
  {
   "cell_type": "code",
   "execution_count": 77,
   "metadata": {},
   "outputs": [
    {
     "data": {
      "text/html": [
       "<div>\n",
       "<style scoped>\n",
       "    .dataframe tbody tr th:only-of-type {\n",
       "        vertical-align: middle;\n",
       "    }\n",
       "\n",
       "    .dataframe tbody tr th {\n",
       "        vertical-align: top;\n",
       "    }\n",
       "\n",
       "    .dataframe thead th {\n",
       "        text-align: right;\n",
       "    }\n",
       "</style>\n",
       "<table border=\"1\" class=\"dataframe\">\n",
       "  <thead>\n",
       "    <tr style=\"text-align: right;\">\n",
       "      <th></th>\n",
       "      <th>time_in_sec</th>\n",
       "    </tr>\n",
       "  </thead>\n",
       "  <tbody>\n",
       "    <tr>\n",
       "      <th>0</th>\n",
       "      <td>72413</td>\n",
       "    </tr>\n",
       "  </tbody>\n",
       "</table>\n",
       "</div>"
      ],
      "text/plain": [
       "   time_in_sec\n",
       "0        72413"
      ]
     },
     "execution_count": 77,
     "metadata": {},
     "output_type": "execute_result"
    }
   ],
   "source": [
    "ps.sqldf(query04, locals())"
   ]
  },
  {
   "cell_type": "code",
   "execution_count": null,
   "metadata": {},
   "outputs": [],
   "source": []
  }
 ],
 "metadata": {
  "kernelspec": {
   "display_name": "Python 3",
   "language": "python",
   "name": "python3"
  },
  "language_info": {
   "codemirror_mode": {
    "name": "ipython",
    "version": 3
   },
   "file_extension": ".py",
   "mimetype": "text/x-python",
   "name": "python",
   "nbconvert_exporter": "python",
   "pygments_lexer": "ipython3",
   "version": "3.9.7"
  }
 },
 "nbformat": 4,
 "nbformat_minor": 1
}
