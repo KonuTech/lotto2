{
 "cells": [
  {
   "cell_type": "code",
   "execution_count": 1,
   "metadata": {},
   "outputs": [],
   "source": [
    "import os\n",
    "import json\n",
    "import pandas as pd\n",
    "from datetime import datetime\n",
    "import pandasql as ps"
   ]
  },
  {
   "cell_type": "code",
   "execution_count": 2,
   "metadata": {},
   "outputs": [],
   "source": [
    "pd.set_option('display.float_format', lambda x: '%.0f' % x)"
   ]
  },
  {
   "cell_type": "code",
   "execution_count": 3,
   "metadata": {},
   "outputs": [],
   "source": [
    "CURRENT_WORKING_DIRECTORY = os.getcwd()\n",
    "INPUTS = CURRENT_WORKING_DIRECTORY + \"\\\\inputs\"\n",
    "SEPARATOR=\";\"\n",
    "PLAYERS = \"Players.csv\"\n",
    "SELFBANS = \"Selfbans.csv\"\n",
    "TRANSACTIONS = \"Transactions.csv\""
   ]
  },
  {
   "cell_type": "code",
   "execution_count": 4,
   "metadata": {},
   "outputs": [],
   "source": [
    "CONFIG_FILE = \"config.json\"\n",
    "with open(CURRENT_WORKING_DIRECTORY + \"\\\\\" + CONFIG_FILE, encoding='utf-8') as f:\n",
    "    CONFIG = json.load(f)"
   ]
  },
  {
   "cell_type": "code",
   "execution_count": 5,
   "metadata": {},
   "outputs": [],
   "source": [
    "PLAYERS_DATES = CONFIG[\"PLAYERS\"][\"DATES\"]\n",
    "PLAYERS_SEPARATOR = CONFIG[\"PLAYERS\"][\"SEPARATOR\"]\n",
    "PLAYERS_DTYPE = CONFIG[\"PLAYERS\"][\"DTYPE\"]"
   ]
  },
  {
   "cell_type": "code",
   "execution_count": 6,
   "metadata": {},
   "outputs": [],
   "source": [
    "SELFBANS_DATES = CONFIG[\"SELFBANS\"][\"DATES\"]\n",
    "SELFBANS_SEPARATOR = CONFIG[\"SELFBANS\"][\"SEPARATOR\"]\n",
    "SELFBANS_DTYPE = CONFIG[\"SELFBANS\"][\"DTYPE\"] "
   ]
  },
  {
   "cell_type": "code",
   "execution_count": 7,
   "metadata": {},
   "outputs": [],
   "source": [
    "TRANSACTIONS_DATES = CONFIG[\"TRANSACTIONS\"][\"DATES\"]\n",
    "TRANSACTIONS_SEPARATOR = CONFIG[\"TRANSACTIONS\"][\"SEPARATOR\"]\n",
    "TRANSACTIONS_DTYPE = CONFIG[\"TRANSACTIONS\"][\"DTYPE\"] "
   ]
  },
  {
   "cell_type": "code",
   "execution_count": 8,
   "metadata": {},
   "outputs": [],
   "source": [
    "def myparser(x):\n",
    "    \"\"\"\n",
    "    \"\"\"\n",
    "#     try:\n",
    "#         datetime.utcfromtimestamp(int(x))\n",
    "#     except:\n",
    "#         return pd.NaT\n",
    "#    return dt.datetime.strptime(x, '%Y-%m-%d %H:%M:%S')\n",
    "    return datetime.utcfromtimestamp(int(x))"
   ]
  },
  {
   "cell_type": "markdown",
   "metadata": {},
   "source": [
    "## PLAYERS"
   ]
  },
  {
   "cell_type": "code",
   "execution_count": 9,
   "metadata": {
    "pycharm": {
     "name": "#%%\n"
    }
   },
   "outputs": [],
   "source": [
    "players = pd.read_csv(\n",
    "    INPUTS + \"\\\\\" + PLAYERS,\n",
    "    delimiter=PLAYERS_SEPARATOR,\n",
    "    parse_dates=True,\n",
    "    infer_datetime_format=True\n",
    "#     parse_dates=PLAYERS_DATES,\n",
    "#     dtype=PLAYERS_DTYPE,\n",
    "#     date_parser=myparser\n",
    ")"
   ]
  },
  {
   "cell_type": "code",
   "execution_count": 10,
   "metadata": {},
   "outputs": [
    {
     "name": "stdout",
     "output_type": "stream",
     "text": [
      "<class 'pandas.core.frame.DataFrame'>\n",
      "RangeIndex: 1000 entries, 0 to 999\n",
      "Data columns (total 10 columns):\n",
      " #   Column             Non-Null Count  Dtype \n",
      "---  ------             --------------  ----- \n",
      " 0   AccountId          1000 non-null   object\n",
      " 1   PlayerNr           1000 non-null   int64 \n",
      " 2   Country            1000 non-null   object\n",
      " 3   DateOfBirth        1000 non-null   object\n",
      " 4   Source             1000 non-null   object\n",
      " 5   Selfban_start      24 non-null     object\n",
      " 6   Selfban_end        24 non-null     object\n",
      " 7   First_genre        1000 non-null   object\n",
      " 8   Registration_date  1000 non-null   object\n",
      " 9   Currency           759 non-null    object\n",
      "dtypes: int64(1), object(9)\n",
      "memory usage: 78.2+ KB\n"
     ]
    }
   ],
   "source": [
    "players.info()"
   ]
  },
  {
   "cell_type": "code",
   "execution_count": 11,
   "metadata": {},
   "outputs": [],
   "source": [
    "pd.set_option('display.max_rows', 20) # or 1000"
   ]
  },
  {
   "cell_type": "code",
   "execution_count": 12,
   "metadata": {},
   "outputs": [
    {
     "data": {
      "text/html": [
       "<div>\n",
       "<style scoped>\n",
       "    .dataframe tbody tr th:only-of-type {\n",
       "        vertical-align: middle;\n",
       "    }\n",
       "\n",
       "    .dataframe tbody tr th {\n",
       "        vertical-align: top;\n",
       "    }\n",
       "\n",
       "    .dataframe thead th {\n",
       "        text-align: right;\n",
       "    }\n",
       "</style>\n",
       "<table border=\"1\" class=\"dataframe\">\n",
       "  <thead>\n",
       "    <tr style=\"text-align: right;\">\n",
       "      <th></th>\n",
       "      <th>AccountId</th>\n",
       "      <th>PlayerNr</th>\n",
       "      <th>Country</th>\n",
       "      <th>DateOfBirth</th>\n",
       "      <th>Source</th>\n",
       "      <th>Selfban_start</th>\n",
       "      <th>Selfban_end</th>\n",
       "      <th>First_genre</th>\n",
       "      <th>Registration_date</th>\n",
       "      <th>Currency</th>\n",
       "    </tr>\n",
       "  </thead>\n",
       "  <tbody>\n",
       "    <tr>\n",
       "      <th>0</th>\n",
       "      <td>3s85cau8v9</td>\n",
       "      <td>3887581556</td>\n",
       "      <td>PL</td>\n",
       "      <td>1967-12-13</td>\n",
       "      <td>newspaper</td>\n",
       "      <td>NaN</td>\n",
       "      <td>NaN</td>\n",
       "      <td>Games</td>\n",
       "      <td>2017-07-06</td>\n",
       "      <td>NaN</td>\n",
       "    </tr>\n",
       "    <tr>\n",
       "      <th>1</th>\n",
       "      <td>77tetovrax</td>\n",
       "      <td>7847705450</td>\n",
       "      <td>PL</td>\n",
       "      <td>1975-06-03</td>\n",
       "      <td>newspaper</td>\n",
       "      <td>NaN</td>\n",
       "      <td>NaN</td>\n",
       "      <td>Scratchard</td>\n",
       "      <td>2013-09-07</td>\n",
       "      <td>NaN</td>\n",
       "    </tr>\n",
       "    <tr>\n",
       "      <th>2</th>\n",
       "      <td>9if26dd8is</td>\n",
       "      <td>7005121609</td>\n",
       "      <td>SE</td>\n",
       "      <td>1975-06-26</td>\n",
       "      <td>tv</td>\n",
       "      <td>NaN</td>\n",
       "      <td>NaN</td>\n",
       "      <td>Sportsbook</td>\n",
       "      <td>2019-02-14</td>\n",
       "      <td>SEK</td>\n",
       "    </tr>\n",
       "    <tr>\n",
       "      <th>3</th>\n",
       "      <td>hae7koqlzm</td>\n",
       "      <td>8437991648</td>\n",
       "      <td>PL</td>\n",
       "      <td>1964-10-07</td>\n",
       "      <td>facebook</td>\n",
       "      <td>NaN</td>\n",
       "      <td>NaN</td>\n",
       "      <td>Bingo</td>\n",
       "      <td>2020-05-03</td>\n",
       "      <td>NaN</td>\n",
       "    </tr>\n",
       "    <tr>\n",
       "      <th>4</th>\n",
       "      <td>ye9qkt7b35</td>\n",
       "      <td>3609218616</td>\n",
       "      <td>AT</td>\n",
       "      <td>1980-12-28</td>\n",
       "      <td>newspaper</td>\n",
       "      <td>NaN</td>\n",
       "      <td>NaN</td>\n",
       "      <td>Bingo</td>\n",
       "      <td>2019-05-30</td>\n",
       "      <td>EUR</td>\n",
       "    </tr>\n",
       "    <tr>\n",
       "      <th>...</th>\n",
       "      <td>...</td>\n",
       "      <td>...</td>\n",
       "      <td>...</td>\n",
       "      <td>...</td>\n",
       "      <td>...</td>\n",
       "      <td>...</td>\n",
       "      <td>...</td>\n",
       "      <td>...</td>\n",
       "      <td>...</td>\n",
       "      <td>...</td>\n",
       "    </tr>\n",
       "    <tr>\n",
       "      <th>995</th>\n",
       "      <td>ibi9p03lja</td>\n",
       "      <td>6482640039</td>\n",
       "      <td>ES</td>\n",
       "      <td>1977-06-30</td>\n",
       "      <td>newspaper</td>\n",
       "      <td>NaN</td>\n",
       "      <td>NaN</td>\n",
       "      <td>Scratchard</td>\n",
       "      <td>2019-04-09</td>\n",
       "      <td>EUR</td>\n",
       "    </tr>\n",
       "    <tr>\n",
       "      <th>996</th>\n",
       "      <td>qn24k3kt2m</td>\n",
       "      <td>7360398683</td>\n",
       "      <td>RO</td>\n",
       "      <td>1943-04-29</td>\n",
       "      <td>direct</td>\n",
       "      <td>NaN</td>\n",
       "      <td>NaN</td>\n",
       "      <td>Scratchard</td>\n",
       "      <td>2020-12-01</td>\n",
       "      <td>NaN</td>\n",
       "    </tr>\n",
       "    <tr>\n",
       "      <th>997</th>\n",
       "      <td>z39mcqia8s</td>\n",
       "      <td>6877956071</td>\n",
       "      <td>DE</td>\n",
       "      <td>2000-10-17</td>\n",
       "      <td>direct</td>\n",
       "      <td>NaN</td>\n",
       "      <td>NaN</td>\n",
       "      <td>Lottery</td>\n",
       "      <td>2016-02-06</td>\n",
       "      <td>EUR</td>\n",
       "    </tr>\n",
       "    <tr>\n",
       "      <th>998</th>\n",
       "      <td>gznrfd648a</td>\n",
       "      <td>5076578596</td>\n",
       "      <td>SE</td>\n",
       "      <td>1983-01-25</td>\n",
       "      <td>direct</td>\n",
       "      <td>NaN</td>\n",
       "      <td>NaN</td>\n",
       "      <td>Scratchard</td>\n",
       "      <td>2016-02-15</td>\n",
       "      <td>SEK</td>\n",
       "    </tr>\n",
       "    <tr>\n",
       "      <th>999</th>\n",
       "      <td>qu482mi38y</td>\n",
       "      <td>2126018298</td>\n",
       "      <td>PL</td>\n",
       "      <td>1984-08-23</td>\n",
       "      <td>web</td>\n",
       "      <td>NaN</td>\n",
       "      <td>NaN</td>\n",
       "      <td>Bingo</td>\n",
       "      <td>2011-10-27</td>\n",
       "      <td>NaN</td>\n",
       "    </tr>\n",
       "  </tbody>\n",
       "</table>\n",
       "<p>1000 rows × 10 columns</p>\n",
       "</div>"
      ],
      "text/plain": [
       "      AccountId    PlayerNr Country DateOfBirth     Source Selfban_start  \\\n",
       "0    3s85cau8v9  3887581556      PL  1967-12-13  newspaper           NaN   \n",
       "1    77tetovrax  7847705450      PL  1975-06-03  newspaper           NaN   \n",
       "2    9if26dd8is  7005121609      SE  1975-06-26         tv           NaN   \n",
       "3    hae7koqlzm  8437991648      PL  1964-10-07   facebook           NaN   \n",
       "4    ye9qkt7b35  3609218616      AT  1980-12-28  newspaper           NaN   \n",
       "..          ...         ...     ...         ...        ...           ...   \n",
       "995  ibi9p03lja  6482640039      ES  1977-06-30  newspaper           NaN   \n",
       "996  qn24k3kt2m  7360398683      RO  1943-04-29     direct           NaN   \n",
       "997  z39mcqia8s  6877956071      DE  2000-10-17     direct           NaN   \n",
       "998  gznrfd648a  5076578596      SE  1983-01-25     direct           NaN   \n",
       "999  qu482mi38y  2126018298      PL  1984-08-23        web           NaN   \n",
       "\n",
       "    Selfban_end First_genre Registration_date Currency  \n",
       "0           NaN       Games        2017-07-06      NaN  \n",
       "1           NaN  Scratchard        2013-09-07      NaN  \n",
       "2           NaN  Sportsbook        2019-02-14      SEK  \n",
       "3           NaN       Bingo        2020-05-03      NaN  \n",
       "4           NaN       Bingo        2019-05-30      EUR  \n",
       "..          ...         ...               ...      ...  \n",
       "995         NaN  Scratchard        2019-04-09      EUR  \n",
       "996         NaN  Scratchard        2020-12-01      NaN  \n",
       "997         NaN     Lottery        2016-02-06      EUR  \n",
       "998         NaN  Scratchard        2016-02-15      SEK  \n",
       "999         NaN       Bingo        2011-10-27      NaN  \n",
       "\n",
       "[1000 rows x 10 columns]"
      ]
     },
     "execution_count": 12,
     "metadata": {},
     "output_type": "execute_result"
    }
   ],
   "source": [
    "players"
   ]
  },
  {
   "cell_type": "code",
   "execution_count": 13,
   "metadata": {},
   "outputs": [],
   "source": [
    "# players[\"AccountId\"].unique()"
   ]
  },
  {
   "cell_type": "code",
   "execution_count": 14,
   "metadata": {},
   "outputs": [
    {
     "data": {
      "text/plain": [
       "1000"
      ]
     },
     "execution_count": 14,
     "metadata": {},
     "output_type": "execute_result"
    }
   ],
   "source": [
    "players[\"AccountId\"].nunique()"
   ]
  },
  {
   "cell_type": "code",
   "execution_count": 15,
   "metadata": {},
   "outputs": [],
   "source": [
    "# players[\"PlayerNr\"].unique()"
   ]
  },
  {
   "cell_type": "code",
   "execution_count": 16,
   "metadata": {},
   "outputs": [
    {
     "data": {
      "text/plain": [
       "1000"
      ]
     },
     "execution_count": 16,
     "metadata": {},
     "output_type": "execute_result"
    }
   ],
   "source": [
    "players[\"PlayerNr\"].nunique()"
   ]
  },
  {
   "cell_type": "code",
   "execution_count": 17,
   "metadata": {},
   "outputs": [
    {
     "data": {
      "text/plain": [
       "array(['newspaper', 'tv', 'facebook', 'web', 'direct'], dtype=object)"
      ]
     },
     "execution_count": 17,
     "metadata": {},
     "output_type": "execute_result"
    }
   ],
   "source": [
    "players[\"Source\"].unique()"
   ]
  },
  {
   "cell_type": "code",
   "execution_count": 18,
   "metadata": {},
   "outputs": [
    {
     "data": {
      "text/plain": [
       "5"
      ]
     },
     "execution_count": 18,
     "metadata": {},
     "output_type": "execute_result"
    }
   ],
   "source": [
    "players[\"Source\"].nunique()"
   ]
  },
  {
   "cell_type": "code",
   "execution_count": 19,
   "metadata": {},
   "outputs": [
    {
     "data": {
      "text/plain": [
       "array(['Games', 'Scratchard', 'Sportsbook', 'Bingo', 'Lottery'],\n",
       "      dtype=object)"
      ]
     },
     "execution_count": 19,
     "metadata": {},
     "output_type": "execute_result"
    }
   ],
   "source": [
    "players[\"First_genre\"].unique()"
   ]
  },
  {
   "cell_type": "code",
   "execution_count": 20,
   "metadata": {},
   "outputs": [
    {
     "data": {
      "text/plain": [
       "5"
      ]
     },
     "execution_count": 20,
     "metadata": {},
     "output_type": "execute_result"
    }
   ],
   "source": [
    "players[\"First_genre\"].nunique()"
   ]
  },
  {
   "cell_type": "code",
   "execution_count": 21,
   "metadata": {},
   "outputs": [
    {
     "data": {
      "text/plain": [
       "array([nan, 'SEK', 'EUR', 'NZD'], dtype=object)"
      ]
     },
     "execution_count": 21,
     "metadata": {},
     "output_type": "execute_result"
    }
   ],
   "source": [
    "players[\"Currency\"].unique()"
   ]
  },
  {
   "cell_type": "code",
   "execution_count": 22,
   "metadata": {},
   "outputs": [
    {
     "data": {
      "text/plain": [
       "3"
      ]
     },
     "execution_count": 22,
     "metadata": {},
     "output_type": "execute_result"
    }
   ],
   "source": [
    "players[\"Currency\"].nunique()"
   ]
  },
  {
   "cell_type": "markdown",
   "metadata": {},
   "source": [
    "## SELFBANS"
   ]
  },
  {
   "cell_type": "code",
   "execution_count": 23,
   "metadata": {},
   "outputs": [],
   "source": [
    "selfbans = pd.read_csv(\n",
    "    INPUTS + \"\\\\\" + SELFBANS,\n",
    "    delimiter=SELFBANS_SEPARATOR,\n",
    "    parse_dates=True,\n",
    "    infer_datetime_format=True\n",
    "#     dtype=SELFBANS_DTYPE,\n",
    "#     parse_dates=SELFBANS_DATES,\n",
    "#     date_parser=myparser\n",
    ")"
   ]
  },
  {
   "cell_type": "code",
   "execution_count": 24,
   "metadata": {},
   "outputs": [
    {
     "name": "stdout",
     "output_type": "stream",
     "text": [
      "<class 'pandas.core.frame.DataFrame'>\n",
      "RangeIndex: 95 entries, 0 to 94\n",
      "Data columns (total 3 columns):\n",
      " #   Column         Non-Null Count  Dtype \n",
      "---  ------         --------------  ----- \n",
      " 0   AccountId      95 non-null     object\n",
      " 1   Selfban_start  95 non-null     object\n",
      " 2   Selfban_end    95 non-null     object\n",
      "dtypes: object(3)\n",
      "memory usage: 2.4+ KB\n"
     ]
    }
   ],
   "source": [
    "selfbans.info()"
   ]
  },
  {
   "cell_type": "code",
   "execution_count": 25,
   "metadata": {},
   "outputs": [
    {
     "data": {
      "text/html": [
       "<div>\n",
       "<style scoped>\n",
       "    .dataframe tbody tr th:only-of-type {\n",
       "        vertical-align: middle;\n",
       "    }\n",
       "\n",
       "    .dataframe tbody tr th {\n",
       "        vertical-align: top;\n",
       "    }\n",
       "\n",
       "    .dataframe thead th {\n",
       "        text-align: right;\n",
       "    }\n",
       "</style>\n",
       "<table border=\"1\" class=\"dataframe\">\n",
       "  <thead>\n",
       "    <tr style=\"text-align: right;\">\n",
       "      <th></th>\n",
       "      <th>AccountId</th>\n",
       "      <th>Selfban_start</th>\n",
       "      <th>Selfban_end</th>\n",
       "    </tr>\n",
       "  </thead>\n",
       "  <tbody>\n",
       "    <tr>\n",
       "      <th>0</th>\n",
       "      <td>eq0mordsce</td>\n",
       "      <td>2014-10-01</td>\n",
       "      <td>2020-07-12</td>\n",
       "    </tr>\n",
       "    <tr>\n",
       "      <th>1</th>\n",
       "      <td>g6e5wzy89r</td>\n",
       "      <td>2021-08-03</td>\n",
       "      <td>2021-09-02</td>\n",
       "    </tr>\n",
       "    <tr>\n",
       "      <th>2</th>\n",
       "      <td>fkl9appqov</td>\n",
       "      <td>2021-07-26</td>\n",
       "      <td>2021-08-28</td>\n",
       "    </tr>\n",
       "    <tr>\n",
       "      <th>3</th>\n",
       "      <td>z13kx2qaaa</td>\n",
       "      <td>2019-09-14</td>\n",
       "      <td>2021-02-01</td>\n",
       "    </tr>\n",
       "    <tr>\n",
       "      <th>4</th>\n",
       "      <td>aqnzj0cak4</td>\n",
       "      <td>2013-09-22</td>\n",
       "      <td>2016-12-02</td>\n",
       "    </tr>\n",
       "  </tbody>\n",
       "</table>\n",
       "</div>"
      ],
      "text/plain": [
       "    AccountId Selfban_start Selfban_end\n",
       "0  eq0mordsce    2014-10-01  2020-07-12\n",
       "1  g6e5wzy89r    2021-08-03  2021-09-02\n",
       "2  fkl9appqov    2021-07-26  2021-08-28\n",
       "3  z13kx2qaaa    2019-09-14  2021-02-01\n",
       "4  aqnzj0cak4    2013-09-22  2016-12-02"
      ]
     },
     "execution_count": 25,
     "metadata": {},
     "output_type": "execute_result"
    }
   ],
   "source": [
    "selfbans.head()"
   ]
  },
  {
   "cell_type": "code",
   "execution_count": 26,
   "metadata": {},
   "outputs": [],
   "source": [
    "# selfbans[\"AccountId\"].unique()"
   ]
  },
  {
   "cell_type": "code",
   "execution_count": 27,
   "metadata": {},
   "outputs": [
    {
     "data": {
      "text/plain": [
       "81"
      ]
     },
     "execution_count": 27,
     "metadata": {},
     "output_type": "execute_result"
    }
   ],
   "source": [
    "selfbans[\"AccountId\"].nunique()"
   ]
  },
  {
   "cell_type": "code",
   "execution_count": 28,
   "metadata": {},
   "outputs": [],
   "source": [
    "# selfbans[\"Selfban_start\"].unique()"
   ]
  },
  {
   "cell_type": "code",
   "execution_count": 29,
   "metadata": {},
   "outputs": [
    {
     "data": {
      "text/plain": [
       "90"
      ]
     },
     "execution_count": 29,
     "metadata": {},
     "output_type": "execute_result"
    }
   ],
   "source": [
    "selfbans[\"Selfban_start\"].nunique()"
   ]
  },
  {
   "cell_type": "code",
   "execution_count": 30,
   "metadata": {},
   "outputs": [],
   "source": [
    "# selfbans[\"Selfban_end\"].unique()"
   ]
  },
  {
   "cell_type": "code",
   "execution_count": 31,
   "metadata": {},
   "outputs": [
    {
     "data": {
      "text/plain": [
       "89"
      ]
     },
     "execution_count": 31,
     "metadata": {},
     "output_type": "execute_result"
    }
   ],
   "source": [
    "selfbans[\"Selfban_end\"].nunique()"
   ]
  },
  {
   "cell_type": "markdown",
   "metadata": {},
   "source": [
    "## TRANSACTIONS"
   ]
  },
  {
   "cell_type": "code",
   "execution_count": 32,
   "metadata": {},
   "outputs": [],
   "source": [
    "transactions = pd.read_csv(\n",
    "    INPUTS + \"\\\\\" + TRANSACTIONS,\n",
    "    delimiter=TRANSACTIONS_SEPARATOR,\n",
    "    parse_dates=True,\n",
    "    infer_datetime_format=True\n",
    "#     dtype=TRANSACTIONS_DTYPE,\n",
    "#     parse_dates=TRANSACTIONS_DATES,\n",
    "#     date_parser=myparser\n",
    ")"
   ]
  },
  {
   "cell_type": "code",
   "execution_count": 33,
   "metadata": {},
   "outputs": [
    {
     "name": "stdout",
     "output_type": "stream",
     "text": [
      "<class 'pandas.core.frame.DataFrame'>\n",
      "RangeIndex: 49250 entries, 0 to 49249\n",
      "Data columns (total 5 columns):\n",
      " #   Column          Non-Null Count  Dtype  \n",
      "---  ------          --------------  -----  \n",
      " 0   PlayerNr        49250 non-null  int64  \n",
      " 1   Trx_Type        49250 non-null  object \n",
      " 2   Trx_time        49250 non-null  object \n",
      " 3   Balance_before  49250 non-null  float64\n",
      " 4   Balance_after   49250 non-null  float64\n",
      "dtypes: float64(2), int64(1), object(2)\n",
      "memory usage: 1.9+ MB\n"
     ]
    }
   ],
   "source": [
    "transactions.info()"
   ]
  },
  {
   "cell_type": "code",
   "execution_count": 34,
   "metadata": {},
   "outputs": [
    {
     "data": {
      "text/html": [
       "<div>\n",
       "<style scoped>\n",
       "    .dataframe tbody tr th:only-of-type {\n",
       "        vertical-align: middle;\n",
       "    }\n",
       "\n",
       "    .dataframe tbody tr th {\n",
       "        vertical-align: top;\n",
       "    }\n",
       "\n",
       "    .dataframe thead th {\n",
       "        text-align: right;\n",
       "    }\n",
       "</style>\n",
       "<table border=\"1\" class=\"dataframe\">\n",
       "  <thead>\n",
       "    <tr style=\"text-align: right;\">\n",
       "      <th></th>\n",
       "      <th>PlayerNr</th>\n",
       "      <th>Trx_Type</th>\n",
       "      <th>Trx_time</th>\n",
       "      <th>Balance_before</th>\n",
       "      <th>Balance_after</th>\n",
       "    </tr>\n",
       "  </thead>\n",
       "  <tbody>\n",
       "    <tr>\n",
       "      <th>0</th>\n",
       "      <td>3887581556</td>\n",
       "      <td>bonus</td>\n",
       "      <td>2017-07-24 01:24:24</td>\n",
       "      <td>0</td>\n",
       "      <td>796</td>\n",
       "    </tr>\n",
       "    <tr>\n",
       "      <th>1</th>\n",
       "      <td>3887581556</td>\n",
       "      <td>stake</td>\n",
       "      <td>2017-09-07 17:11:17</td>\n",
       "      <td>796</td>\n",
       "      <td>548</td>\n",
       "    </tr>\n",
       "    <tr>\n",
       "      <th>2</th>\n",
       "      <td>3887581556</td>\n",
       "      <td>withdrawal</td>\n",
       "      <td>2017-09-21 01:57:25</td>\n",
       "      <td>548</td>\n",
       "      <td>367</td>\n",
       "    </tr>\n",
       "  </tbody>\n",
       "</table>\n",
       "</div>"
      ],
      "text/plain": [
       "     PlayerNr    Trx_Type             Trx_time  Balance_before  Balance_after\n",
       "0  3887581556       bonus  2017-07-24 01:24:24               0            796\n",
       "1  3887581556       stake  2017-09-07 17:11:17             796            548\n",
       "2  3887581556  withdrawal  2017-09-21 01:57:25             548            367"
      ]
     },
     "execution_count": 34,
     "metadata": {},
     "output_type": "execute_result"
    }
   ],
   "source": [
    "transactions.head(3)"
   ]
  },
  {
   "cell_type": "code",
   "execution_count": 35,
   "metadata": {},
   "outputs": [],
   "source": [
    "# transactions[\"PlayerNr\"].unique()"
   ]
  },
  {
   "cell_type": "code",
   "execution_count": 36,
   "metadata": {},
   "outputs": [
    {
     "data": {
      "text/plain": [
       "994"
      ]
     },
     "execution_count": 36,
     "metadata": {},
     "output_type": "execute_result"
    }
   ],
   "source": [
    "transactions[\"PlayerNr\"].nunique()"
   ]
  },
  {
   "cell_type": "code",
   "execution_count": 37,
   "metadata": {},
   "outputs": [
    {
     "data": {
      "text/plain": [
       "array(['bonus', 'stake', 'withdrawal', 'win', 'deposit'], dtype=object)"
      ]
     },
     "execution_count": 37,
     "metadata": {},
     "output_type": "execute_result"
    }
   ],
   "source": [
    "transactions[\"Trx_Type\"].unique()"
   ]
  },
  {
   "cell_type": "code",
   "execution_count": 38,
   "metadata": {},
   "outputs": [
    {
     "data": {
      "text/plain": [
       "5"
      ]
     },
     "execution_count": 38,
     "metadata": {},
     "output_type": "execute_result"
    }
   ],
   "source": [
    "transactions[\"Trx_Type\"].nunique()"
   ]
  },
  {
   "cell_type": "code",
   "execution_count": 39,
   "metadata": {},
   "outputs": [
    {
     "data": {
      "text/plain": [
       "array(['2017-07-24 01:24:24', '2017-09-07 17:11:17',\n",
       "       '2017-09-21 01:57:25', ..., '2021-11-02 21:37:09',\n",
       "       '2021-12-07 21:12:39', '2022-01-26 14:38:41'], dtype=object)"
      ]
     },
     "execution_count": 39,
     "metadata": {},
     "output_type": "execute_result"
    }
   ],
   "source": [
    "transactions[\"Trx_time\"].unique()"
   ]
  },
  {
   "cell_type": "code",
   "execution_count": 40,
   "metadata": {},
   "outputs": [
    {
     "data": {
      "text/plain": [
       "49242"
      ]
     },
     "execution_count": 40,
     "metadata": {},
     "output_type": "execute_result"
    }
   ],
   "source": [
    "transactions[\"Trx_time\"].nunique()"
   ]
  },
  {
   "cell_type": "markdown",
   "metadata": {},
   "source": [
    "## Questions:\n",
    "#### 1. What was the average deposit in Spain in 2021?"
   ]
  },
  {
   "cell_type": "code",
   "execution_count": 41,
   "metadata": {},
   "outputs": [],
   "source": [
    "q3 = \"\"\"\n",
    "WITH players_spain AS (\n",
    "SELECT DISTINCT\n",
    "    p.PlayerNr,\n",
    "    p.country\n",
    "FROM players as p\n",
    "WHERe Country =\"ES\"\n",
    "\n",
    "), balance AS (\n",
    "    SELECT \n",
    "            PlayerNr,\n",
    "            SUM(Balance_after- Balance_before) as sum_deposite\n",
    "            FROM transactions\n",
    "            WHERE Trx_Type=\"deposit\"\n",
    "            GROUP BY PlayerNr\n",
    "            \n",
    ")\n",
    "\n",
    "SElECT\n",
    "--ps.country,\n",
    "AVG(b.sum_deposite) as average_deposit_spain\n",
    "FROM players_spain as ps\n",
    "INNER JOIN balance as b\n",
    "ON ps.PlayerNr = b.PlayerNr\n",
    "\"\"\""
   ]
  },
  {
   "cell_type": "code",
   "execution_count": 42,
   "metadata": {},
   "outputs": [],
   "source": [
    "q3_result = ps.sqldf(q3, locals())"
   ]
  },
  {
   "cell_type": "code",
   "execution_count": 43,
   "metadata": {},
   "outputs": [
    {
     "data": {
      "text/html": [
       "<div>\n",
       "<style scoped>\n",
       "    .dataframe tbody tr th:only-of-type {\n",
       "        vertical-align: middle;\n",
       "    }\n",
       "\n",
       "    .dataframe tbody tr th {\n",
       "        vertical-align: top;\n",
       "    }\n",
       "\n",
       "    .dataframe thead th {\n",
       "        text-align: right;\n",
       "    }\n",
       "</style>\n",
       "<table border=\"1\" class=\"dataframe\">\n",
       "  <thead>\n",
       "    <tr style=\"text-align: right;\">\n",
       "      <th></th>\n",
       "      <th>average_deposit_spain</th>\n",
       "    </tr>\n",
       "  </thead>\n",
       "  <tbody>\n",
       "    <tr>\n",
       "      <th>0</th>\n",
       "      <td>876</td>\n",
       "    </tr>\n",
       "  </tbody>\n",
       "</table>\n",
       "</div>"
      ],
      "text/plain": [
       "   average_deposit_spain\n",
       "0                    876"
      ]
     },
     "execution_count": 43,
     "metadata": {},
     "output_type": "execute_result"
    }
   ],
   "source": [
    "q3_result"
   ]
  },
  {
   "cell_type": "markdown",
   "metadata": {},
   "source": [
    "#### 2. Show Top 10 depositor and their deposits."
   ]
  },
  {
   "cell_type": "code",
   "execution_count": null,
   "metadata": {},
   "outputs": [],
   "source": []
  },
  {
   "cell_type": "markdown",
   "metadata": {},
   "source": [
    "#### 3. How many active players there are?"
   ]
  },
  {
   "cell_type": "code",
   "execution_count": null,
   "metadata": {},
   "outputs": [],
   "source": []
  },
  {
   "cell_type": "markdown",
   "metadata": {},
   "source": [
    "#### 4. How many players currently have self-ban active?"
   ]
  },
  {
   "cell_type": "code",
   "execution_count": null,
   "metadata": {},
   "outputs": [],
   "source": []
  },
  {
   "cell_type": "markdown",
   "metadata": {},
   "source": [
    "#### 5. How many self-bans were activated in 2021?"
   ]
  },
  {
   "cell_type": "code",
   "execution_count": null,
   "metadata": {},
   "outputs": [],
   "source": []
  },
  {
   "cell_type": "markdown",
   "metadata": {},
   "source": [
    "#### 6. How many players had active self-ban on 1st of May 2021?"
   ]
  },
  {
   "cell_type": "code",
   "execution_count": null,
   "metadata": {},
   "outputs": [],
   "source": []
  }
 ],
 "metadata": {
  "kernelspec": {
   "display_name": "Python 3",
   "language": "python",
   "name": "python3"
  },
  "language_info": {
   "codemirror_mode": {
    "name": "ipython",
    "version": 3
   },
   "file_extension": ".py",
   "mimetype": "text/x-python",
   "name": "python",
   "nbconvert_exporter": "python",
   "pygments_lexer": "ipython3",
   "version": "3.9.7"
  }
 },
 "nbformat": 4,
 "nbformat_minor": 1
}
