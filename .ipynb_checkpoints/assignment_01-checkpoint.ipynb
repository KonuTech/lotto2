{
 "cells": [
  {
   "cell_type": "code",
   "execution_count": 1,
   "metadata": {},
   "outputs": [],
   "source": [
    "import os\n",
    "import json\n",
    "import pandas as pd\n",
    "from datetime import datetime\n",
    "import pandasql as ps"
   ]
  },
  {
   "cell_type": "code",
   "execution_count": 2,
   "metadata": {},
   "outputs": [],
   "source": [
    "pd.set_option('display.float_format', lambda x: '%.0f' % x)"
   ]
  },
  {
   "cell_type": "code",
   "execution_count": 3,
   "metadata": {},
   "outputs": [],
   "source": [
    "pd.set_option('display.max_rows', 20) # or 1000"
   ]
  },
  {
   "cell_type": "code",
   "execution_count": 4,
   "metadata": {},
   "outputs": [],
   "source": [
    "CURRENT_WORKING_DIRECTORY = os.getcwd()\n",
    "INPUTS = CURRENT_WORKING_DIRECTORY + \"\\\\inputs\"\n",
    "SEPARATOR=\";\"\n",
    "PLAYERS = \"Players.csv\"\n",
    "SELFBANS = \"Selfbans.csv\"\n",
    "TRANSACTIONS = \"Transactions.csv\""
   ]
  },
  {
   "cell_type": "code",
   "execution_count": 5,
   "metadata": {},
   "outputs": [],
   "source": [
    "CONFIG_FILE = \"config.json\"\n",
    "with open(CURRENT_WORKING_DIRECTORY + \"\\\\\" + CONFIG_FILE, encoding='utf-8') as f:\n",
    "    CONFIG = json.load(f)"
   ]
  },
  {
   "cell_type": "code",
   "execution_count": 6,
   "metadata": {},
   "outputs": [],
   "source": [
    "PLAYERS_DATES = CONFIG[\"PLAYERS\"][\"DATES\"]\n",
    "PLAYERS_SEPARATOR = CONFIG[\"PLAYERS\"][\"SEPARATOR\"]\n",
    "PLAYERS_DTYPE = CONFIG[\"PLAYERS\"][\"DTYPE\"]"
   ]
  },
  {
   "cell_type": "code",
   "execution_count": 7,
   "metadata": {},
   "outputs": [],
   "source": [
    "SELFBANS_DATES = CONFIG[\"SELFBANS\"][\"DATES\"]\n",
    "SELFBANS_SEPARATOR = CONFIG[\"SELFBANS\"][\"SEPARATOR\"]\n",
    "SELFBANS_DTYPE = CONFIG[\"SELFBANS\"][\"DTYPE\"] "
   ]
  },
  {
   "cell_type": "code",
   "execution_count": 8,
   "metadata": {},
   "outputs": [],
   "source": [
    "TRANSACTIONS_DATES = CONFIG[\"TRANSACTIONS\"][\"DATES\"]\n",
    "TRANSACTIONS_SEPARATOR = CONFIG[\"TRANSACTIONS\"][\"SEPARATOR\"]\n",
    "TRANSACTIONS_DTYPE = CONFIG[\"TRANSACTIONS\"][\"DTYPE\"] "
   ]
  },
  {
   "cell_type": "code",
   "execution_count": 9,
   "metadata": {},
   "outputs": [],
   "source": [
    "def myparser(x):\n",
    "    \"\"\"\n",
    "    \"\"\"\n",
    "#     try:\n",
    "#         datetime.utcfromtimestamp(int(x))\n",
    "#     except:\n",
    "#         return pd.NaT\n",
    "    return dt.datetime.strptime(x, '%Y-%m-%d %H:%M:%S')\n",
    "#    return datetime.utcfromtimestamp(int(x))"
   ]
  },
  {
   "cell_type": "markdown",
   "metadata": {},
   "source": [
    "## PLAYERS"
   ]
  },
  {
   "cell_type": "code",
   "execution_count": 10,
   "metadata": {
    "pycharm": {
     "name": "#%%\n"
    }
   },
   "outputs": [],
   "source": [
    "players = pd.read_csv(\n",
    "    INPUTS + \"\\\\\" + PLAYERS,\n",
    "    delimiter=PLAYERS_SEPARATOR,\n",
    "#     parse_dates=True,\n",
    "    infer_datetime_format=True,\n",
    "    parse_dates=PLAYERS_DATES,\n",
    "    dtype=PLAYERS_DTYPE,\n",
    "#     date_parser=myparser\n",
    ")"
   ]
  },
  {
   "cell_type": "code",
   "execution_count": 11,
   "metadata": {},
   "outputs": [
    {
     "name": "stdout",
     "output_type": "stream",
     "text": [
      "<class 'pandas.core.frame.DataFrame'>\n",
      "RangeIndex: 1000 entries, 0 to 999\n",
      "Data columns (total 10 columns):\n",
      " #   Column             Non-Null Count  Dtype         \n",
      "---  ------             --------------  -----         \n",
      " 0   AccountId          1000 non-null   object        \n",
      " 1   PlayerNr           1000 non-null   object        \n",
      " 2   Country            1000 non-null   object        \n",
      " 3   DateOfBirth        1000 non-null   datetime64[ns]\n",
      " 4   Source             1000 non-null   object        \n",
      " 5   Selfban_start      24 non-null     datetime64[ns]\n",
      " 6   Selfban_end        24 non-null     datetime64[ns]\n",
      " 7   First_genre        1000 non-null   object        \n",
      " 8   Registration_date  1000 non-null   datetime64[ns]\n",
      " 9   Currency           759 non-null    object        \n",
      "dtypes: datetime64[ns](4), object(6)\n",
      "memory usage: 78.2+ KB\n"
     ]
    }
   ],
   "source": [
    "players.info()"
   ]
  },
  {
   "cell_type": "code",
   "execution_count": 185,
   "metadata": {},
   "outputs": [
    {
     "data": {
      "text/html": [
       "<div>\n",
       "<style scoped>\n",
       "    .dataframe tbody tr th:only-of-type {\n",
       "        vertical-align: middle;\n",
       "    }\n",
       "\n",
       "    .dataframe tbody tr th {\n",
       "        vertical-align: top;\n",
       "    }\n",
       "\n",
       "    .dataframe thead th {\n",
       "        text-align: right;\n",
       "    }\n",
       "</style>\n",
       "<table border=\"1\" class=\"dataframe\">\n",
       "  <thead>\n",
       "    <tr style=\"text-align: right;\">\n",
       "      <th></th>\n",
       "      <th>AccountId</th>\n",
       "      <th>PlayerNr</th>\n",
       "      <th>Country</th>\n",
       "      <th>DateOfBirth</th>\n",
       "      <th>Source</th>\n",
       "      <th>Selfban_start</th>\n",
       "      <th>Selfban_end</th>\n",
       "      <th>First_genre</th>\n",
       "      <th>Registration_date</th>\n",
       "      <th>Currency</th>\n",
       "    </tr>\n",
       "  </thead>\n",
       "  <tbody>\n",
       "    <tr>\n",
       "      <th>970</th>\n",
       "      <td>n5fotjquhz</td>\n",
       "      <td>2420178452</td>\n",
       "      <td>EE</td>\n",
       "      <td>1965-10-27</td>\n",
       "      <td>facebook</td>\n",
       "      <td>NaT</td>\n",
       "      <td>NaT</td>\n",
       "      <td>Games</td>\n",
       "      <td>2010-10-06</td>\n",
       "      <td>EUR</td>\n",
       "    </tr>\n",
       "    <tr>\n",
       "      <th>640</th>\n",
       "      <td>ptxthf9vjf</td>\n",
       "      <td>6737484067</td>\n",
       "      <td>ES</td>\n",
       "      <td>1959-08-18</td>\n",
       "      <td>newspaper</td>\n",
       "      <td>NaT</td>\n",
       "      <td>NaT</td>\n",
       "      <td>Sportsbook</td>\n",
       "      <td>2021-02-05</td>\n",
       "      <td>EUR</td>\n",
       "    </tr>\n",
       "    <tr>\n",
       "      <th>922</th>\n",
       "      <td>lvrfb6hogc</td>\n",
       "      <td>7246186821</td>\n",
       "      <td>AT</td>\n",
       "      <td>1967-03-07</td>\n",
       "      <td>newspaper</td>\n",
       "      <td>NaT</td>\n",
       "      <td>NaT</td>\n",
       "      <td>Bingo</td>\n",
       "      <td>2010-05-04</td>\n",
       "      <td>EUR</td>\n",
       "    </tr>\n",
       "  </tbody>\n",
       "</table>\n",
       "</div>"
      ],
      "text/plain": [
       "      AccountId    PlayerNr Country DateOfBirth     Source Selfban_start  \\\n",
       "970  n5fotjquhz  2420178452      EE  1965-10-27   facebook           NaT   \n",
       "640  ptxthf9vjf  6737484067      ES  1959-08-18  newspaper           NaT   \n",
       "922  lvrfb6hogc  7246186821      AT  1967-03-07  newspaper           NaT   \n",
       "\n",
       "    Selfban_end First_genre Registration_date Currency  \n",
       "970         NaT       Games        2010-10-06      EUR  \n",
       "640         NaT  Sportsbook        2021-02-05      EUR  \n",
       "922         NaT       Bingo        2010-05-04      EUR  "
      ]
     },
     "execution_count": 185,
     "metadata": {},
     "output_type": "execute_result"
    }
   ],
   "source": [
    "players.sample(3)"
   ]
  },
  {
   "cell_type": "code",
   "execution_count": 186,
   "metadata": {},
   "outputs": [],
   "source": [
    "# players[\"AccountId\"].unique()"
   ]
  },
  {
   "cell_type": "code",
   "execution_count": 14,
   "metadata": {},
   "outputs": [
    {
     "data": {
      "text/plain": [
       "1000"
      ]
     },
     "execution_count": 14,
     "metadata": {},
     "output_type": "execute_result"
    }
   ],
   "source": [
    "players[\"AccountId\"].nunique()"
   ]
  },
  {
   "cell_type": "code",
   "execution_count": 187,
   "metadata": {},
   "outputs": [],
   "source": [
    "# players[\"PlayerNr\"].unique()"
   ]
  },
  {
   "cell_type": "code",
   "execution_count": 16,
   "metadata": {},
   "outputs": [
    {
     "data": {
      "text/plain": [
       "1000"
      ]
     },
     "execution_count": 16,
     "metadata": {},
     "output_type": "execute_result"
    }
   ],
   "source": [
    "players[\"PlayerNr\"].nunique()"
   ]
  },
  {
   "cell_type": "code",
   "execution_count": 17,
   "metadata": {},
   "outputs": [
    {
     "data": {
      "text/plain": [
       "array(['newspaper', 'tv', 'facebook', 'web', 'direct'], dtype=object)"
      ]
     },
     "execution_count": 17,
     "metadata": {},
     "output_type": "execute_result"
    }
   ],
   "source": [
    "players[\"Source\"].unique()"
   ]
  },
  {
   "cell_type": "code",
   "execution_count": 18,
   "metadata": {},
   "outputs": [
    {
     "data": {
      "text/plain": [
       "5"
      ]
     },
     "execution_count": 18,
     "metadata": {},
     "output_type": "execute_result"
    }
   ],
   "source": [
    "players[\"Source\"].nunique()"
   ]
  },
  {
   "cell_type": "code",
   "execution_count": 19,
   "metadata": {},
   "outputs": [
    {
     "data": {
      "text/plain": [
       "array(['Games', 'Scratchard', 'Sportsbook', 'Bingo', 'Lottery'],\n",
       "      dtype=object)"
      ]
     },
     "execution_count": 19,
     "metadata": {},
     "output_type": "execute_result"
    }
   ],
   "source": [
    "players[\"First_genre\"].unique()"
   ]
  },
  {
   "cell_type": "code",
   "execution_count": 20,
   "metadata": {},
   "outputs": [
    {
     "data": {
      "text/plain": [
       "5"
      ]
     },
     "execution_count": 20,
     "metadata": {},
     "output_type": "execute_result"
    }
   ],
   "source": [
    "players[\"First_genre\"].nunique()"
   ]
  },
  {
   "cell_type": "code",
   "execution_count": 21,
   "metadata": {},
   "outputs": [
    {
     "data": {
      "text/plain": [
       "array([nan, 'SEK', 'EUR', 'NZD'], dtype=object)"
      ]
     },
     "execution_count": 21,
     "metadata": {},
     "output_type": "execute_result"
    }
   ],
   "source": [
    "players[\"Currency\"].unique()"
   ]
  },
  {
   "cell_type": "code",
   "execution_count": 22,
   "metadata": {},
   "outputs": [
    {
     "data": {
      "text/plain": [
       "3"
      ]
     },
     "execution_count": 22,
     "metadata": {},
     "output_type": "execute_result"
    }
   ],
   "source": [
    "players[\"Currency\"].nunique()"
   ]
  },
  {
   "cell_type": "markdown",
   "metadata": {},
   "source": [
    "## SELFBANS"
   ]
  },
  {
   "cell_type": "code",
   "execution_count": 23,
   "metadata": {},
   "outputs": [],
   "source": [
    "selfbans = pd.read_csv(\n",
    "    INPUTS + \"\\\\\" + SELFBANS,\n",
    "    delimiter=SELFBANS_SEPARATOR,\n",
    "#     parse_dates=True,\n",
    "    infer_datetime_format=True,\n",
    "#     dtype=SELFBANS_DTYPE,\n",
    "    parse_dates=SELFBANS_DATES,\n",
    "#     date_parser=myparser\n",
    ")"
   ]
  },
  {
   "cell_type": "code",
   "execution_count": 24,
   "metadata": {},
   "outputs": [
    {
     "name": "stdout",
     "output_type": "stream",
     "text": [
      "<class 'pandas.core.frame.DataFrame'>\n",
      "RangeIndex: 95 entries, 0 to 94\n",
      "Data columns (total 3 columns):\n",
      " #   Column         Non-Null Count  Dtype         \n",
      "---  ------         --------------  -----         \n",
      " 0   AccountId      95 non-null     object        \n",
      " 1   Selfban_start  95 non-null     datetime64[ns]\n",
      " 2   Selfban_end    95 non-null     datetime64[ns]\n",
      "dtypes: datetime64[ns](2), object(1)\n",
      "memory usage: 2.4+ KB\n"
     ]
    }
   ],
   "source": [
    "selfbans.info()"
   ]
  },
  {
   "cell_type": "code",
   "execution_count": 25,
   "metadata": {},
   "outputs": [
    {
     "data": {
      "text/html": [
       "<div>\n",
       "<style scoped>\n",
       "    .dataframe tbody tr th:only-of-type {\n",
       "        vertical-align: middle;\n",
       "    }\n",
       "\n",
       "    .dataframe tbody tr th {\n",
       "        vertical-align: top;\n",
       "    }\n",
       "\n",
       "    .dataframe thead th {\n",
       "        text-align: right;\n",
       "    }\n",
       "</style>\n",
       "<table border=\"1\" class=\"dataframe\">\n",
       "  <thead>\n",
       "    <tr style=\"text-align: right;\">\n",
       "      <th></th>\n",
       "      <th>AccountId</th>\n",
       "      <th>Selfban_start</th>\n",
       "      <th>Selfban_end</th>\n",
       "    </tr>\n",
       "  </thead>\n",
       "  <tbody>\n",
       "    <tr>\n",
       "      <th>0</th>\n",
       "      <td>eq0mordsce</td>\n",
       "      <td>2014-10-01</td>\n",
       "      <td>2020-07-12</td>\n",
       "    </tr>\n",
       "    <tr>\n",
       "      <th>1</th>\n",
       "      <td>g6e5wzy89r</td>\n",
       "      <td>2021-08-03</td>\n",
       "      <td>2021-09-02</td>\n",
       "    </tr>\n",
       "    <tr>\n",
       "      <th>2</th>\n",
       "      <td>fkl9appqov</td>\n",
       "      <td>2021-07-26</td>\n",
       "      <td>2021-08-28</td>\n",
       "    </tr>\n",
       "    <tr>\n",
       "      <th>3</th>\n",
       "      <td>z13kx2qaaa</td>\n",
       "      <td>2019-09-14</td>\n",
       "      <td>2021-02-01</td>\n",
       "    </tr>\n",
       "    <tr>\n",
       "      <th>4</th>\n",
       "      <td>aqnzj0cak4</td>\n",
       "      <td>2013-09-22</td>\n",
       "      <td>2016-12-02</td>\n",
       "    </tr>\n",
       "  </tbody>\n",
       "</table>\n",
       "</div>"
      ],
      "text/plain": [
       "    AccountId Selfban_start Selfban_end\n",
       "0  eq0mordsce    2014-10-01  2020-07-12\n",
       "1  g6e5wzy89r    2021-08-03  2021-09-02\n",
       "2  fkl9appqov    2021-07-26  2021-08-28\n",
       "3  z13kx2qaaa    2019-09-14  2021-02-01\n",
       "4  aqnzj0cak4    2013-09-22  2016-12-02"
      ]
     },
     "execution_count": 25,
     "metadata": {},
     "output_type": "execute_result"
    }
   ],
   "source": [
    "selfbans.head()"
   ]
  },
  {
   "cell_type": "code",
   "execution_count": 26,
   "metadata": {},
   "outputs": [],
   "source": [
    "# selfbans[\"AccountId\"].unique()"
   ]
  },
  {
   "cell_type": "code",
   "execution_count": 27,
   "metadata": {},
   "outputs": [
    {
     "data": {
      "text/plain": [
       "81"
      ]
     },
     "execution_count": 27,
     "metadata": {},
     "output_type": "execute_result"
    }
   ],
   "source": [
    "selfbans[\"AccountId\"].nunique()"
   ]
  },
  {
   "cell_type": "code",
   "execution_count": 28,
   "metadata": {},
   "outputs": [],
   "source": [
    "# selfbans[\"Selfban_start\"].unique()"
   ]
  },
  {
   "cell_type": "code",
   "execution_count": 29,
   "metadata": {},
   "outputs": [
    {
     "data": {
      "text/plain": [
       "90"
      ]
     },
     "execution_count": 29,
     "metadata": {},
     "output_type": "execute_result"
    }
   ],
   "source": [
    "selfbans[\"Selfban_start\"].nunique()"
   ]
  },
  {
   "cell_type": "code",
   "execution_count": 30,
   "metadata": {},
   "outputs": [],
   "source": [
    "# selfbans[\"Selfban_end\"].unique()"
   ]
  },
  {
   "cell_type": "code",
   "execution_count": 31,
   "metadata": {},
   "outputs": [
    {
     "data": {
      "text/plain": [
       "89"
      ]
     },
     "execution_count": 31,
     "metadata": {},
     "output_type": "execute_result"
    }
   ],
   "source": [
    "selfbans[\"Selfban_end\"].nunique()"
   ]
  },
  {
   "cell_type": "markdown",
   "metadata": {},
   "source": [
    "## TRANSACTIONS"
   ]
  },
  {
   "cell_type": "code",
   "execution_count": 32,
   "metadata": {},
   "outputs": [],
   "source": [
    "transactions = pd.read_csv(\n",
    "    INPUTS + \"\\\\\" + TRANSACTIONS,\n",
    "    delimiter=TRANSACTIONS_SEPARATOR,\n",
    "#     parse_dates=True,\n",
    "    infer_datetime_format=True,\n",
    "#     dtype=TRANSACTIONS_DTYPE,\n",
    "    parse_dates=TRANSACTIONS_DATES,\n",
    "#     date_parser=myparser\n",
    ")"
   ]
  },
  {
   "cell_type": "code",
   "execution_count": 33,
   "metadata": {},
   "outputs": [
    {
     "name": "stdout",
     "output_type": "stream",
     "text": [
      "<class 'pandas.core.frame.DataFrame'>\n",
      "RangeIndex: 49250 entries, 0 to 49249\n",
      "Data columns (total 5 columns):\n",
      " #   Column          Non-Null Count  Dtype         \n",
      "---  ------          --------------  -----         \n",
      " 0   PlayerNr        49250 non-null  int64         \n",
      " 1   Trx_Type        49250 non-null  object        \n",
      " 2   Trx_time        49250 non-null  datetime64[ns]\n",
      " 3   Balance_before  49250 non-null  float64       \n",
      " 4   Balance_after   49250 non-null  float64       \n",
      "dtypes: datetime64[ns](1), float64(2), int64(1), object(1)\n",
      "memory usage: 1.9+ MB\n"
     ]
    }
   ],
   "source": [
    "transactions.info()"
   ]
  },
  {
   "cell_type": "code",
   "execution_count": 34,
   "metadata": {},
   "outputs": [
    {
     "data": {
      "text/html": [
       "<div>\n",
       "<style scoped>\n",
       "    .dataframe tbody tr th:only-of-type {\n",
       "        vertical-align: middle;\n",
       "    }\n",
       "\n",
       "    .dataframe tbody tr th {\n",
       "        vertical-align: top;\n",
       "    }\n",
       "\n",
       "    .dataframe thead th {\n",
       "        text-align: right;\n",
       "    }\n",
       "</style>\n",
       "<table border=\"1\" class=\"dataframe\">\n",
       "  <thead>\n",
       "    <tr style=\"text-align: right;\">\n",
       "      <th></th>\n",
       "      <th>PlayerNr</th>\n",
       "      <th>Trx_Type</th>\n",
       "      <th>Trx_time</th>\n",
       "      <th>Balance_before</th>\n",
       "      <th>Balance_after</th>\n",
       "    </tr>\n",
       "  </thead>\n",
       "  <tbody>\n",
       "    <tr>\n",
       "      <th>0</th>\n",
       "      <td>3887581556</td>\n",
       "      <td>bonus</td>\n",
       "      <td>2017-07-24 01:24:24</td>\n",
       "      <td>0</td>\n",
       "      <td>796</td>\n",
       "    </tr>\n",
       "    <tr>\n",
       "      <th>1</th>\n",
       "      <td>3887581556</td>\n",
       "      <td>stake</td>\n",
       "      <td>2017-09-07 17:11:17</td>\n",
       "      <td>796</td>\n",
       "      <td>548</td>\n",
       "    </tr>\n",
       "    <tr>\n",
       "      <th>2</th>\n",
       "      <td>3887581556</td>\n",
       "      <td>withdrawal</td>\n",
       "      <td>2017-09-21 01:57:25</td>\n",
       "      <td>548</td>\n",
       "      <td>367</td>\n",
       "    </tr>\n",
       "  </tbody>\n",
       "</table>\n",
       "</div>"
      ],
      "text/plain": [
       "     PlayerNr    Trx_Type            Trx_time  Balance_before  Balance_after\n",
       "0  3887581556       bonus 2017-07-24 01:24:24               0            796\n",
       "1  3887581556       stake 2017-09-07 17:11:17             796            548\n",
       "2  3887581556  withdrawal 2017-09-21 01:57:25             548            367"
      ]
     },
     "execution_count": 34,
     "metadata": {},
     "output_type": "execute_result"
    }
   ],
   "source": [
    "transactions.head(3)"
   ]
  },
  {
   "cell_type": "code",
   "execution_count": 35,
   "metadata": {},
   "outputs": [],
   "source": [
    "# transactions[\"PlayerNr\"].unique()"
   ]
  },
  {
   "cell_type": "code",
   "execution_count": 36,
   "metadata": {},
   "outputs": [
    {
     "data": {
      "text/plain": [
       "994"
      ]
     },
     "execution_count": 36,
     "metadata": {},
     "output_type": "execute_result"
    }
   ],
   "source": [
    "transactions[\"PlayerNr\"].nunique()"
   ]
  },
  {
   "cell_type": "code",
   "execution_count": 37,
   "metadata": {},
   "outputs": [
    {
     "data": {
      "text/plain": [
       "array(['bonus', 'stake', 'withdrawal', 'win', 'deposit'], dtype=object)"
      ]
     },
     "execution_count": 37,
     "metadata": {},
     "output_type": "execute_result"
    }
   ],
   "source": [
    "transactions[\"Trx_Type\"].unique()"
   ]
  },
  {
   "cell_type": "code",
   "execution_count": 38,
   "metadata": {},
   "outputs": [
    {
     "data": {
      "text/plain": [
       "5"
      ]
     },
     "execution_count": 38,
     "metadata": {},
     "output_type": "execute_result"
    }
   ],
   "source": [
    "transactions[\"Trx_Type\"].nunique()"
   ]
  },
  {
   "cell_type": "code",
   "execution_count": 39,
   "metadata": {},
   "outputs": [
    {
     "data": {
      "text/plain": [
       "array(['2017-07-24T01:24:24.000000000', '2017-09-07T17:11:17.000000000',\n",
       "       '2017-09-21T01:57:25.000000000', ...,\n",
       "       '2021-11-02T21:37:09.000000000', '2021-12-07T21:12:39.000000000',\n",
       "       '2022-01-26T14:38:41.000000000'], dtype='datetime64[ns]')"
      ]
     },
     "execution_count": 39,
     "metadata": {},
     "output_type": "execute_result"
    }
   ],
   "source": [
    "transactions[\"Trx_time\"].unique()"
   ]
  },
  {
   "cell_type": "code",
   "execution_count": 40,
   "metadata": {},
   "outputs": [
    {
     "data": {
      "text/plain": [
       "49242"
      ]
     },
     "execution_count": 40,
     "metadata": {},
     "output_type": "execute_result"
    }
   ],
   "source": [
    "transactions[\"Trx_time\"].nunique()"
   ]
  },
  {
   "cell_type": "code",
   "execution_count": 41,
   "metadata": {},
   "outputs": [
    {
     "data": {
      "text/html": [
       "<div>\n",
       "<style scoped>\n",
       "    .dataframe tbody tr th:only-of-type {\n",
       "        vertical-align: middle;\n",
       "    }\n",
       "\n",
       "    .dataframe tbody tr th {\n",
       "        vertical-align: top;\n",
       "    }\n",
       "\n",
       "    .dataframe thead th {\n",
       "        text-align: right;\n",
       "    }\n",
       "</style>\n",
       "<table border=\"1\" class=\"dataframe\">\n",
       "  <thead>\n",
       "    <tr style=\"text-align: right;\">\n",
       "      <th></th>\n",
       "      <th>PlayerNr</th>\n",
       "      <th>Balance_before</th>\n",
       "      <th>Balance_after</th>\n",
       "    </tr>\n",
       "  </thead>\n",
       "  <tbody>\n",
       "    <tr>\n",
       "      <th>count</th>\n",
       "      <td>49250</td>\n",
       "      <td>49250</td>\n",
       "      <td>49250</td>\n",
       "    </tr>\n",
       "    <tr>\n",
       "      <th>mean</th>\n",
       "      <td>5570556952</td>\n",
       "      <td>653</td>\n",
       "      <td>667</td>\n",
       "    </tr>\n",
       "    <tr>\n",
       "      <th>std</th>\n",
       "      <td>2593070421</td>\n",
       "      <td>557</td>\n",
       "      <td>556</td>\n",
       "    </tr>\n",
       "    <tr>\n",
       "      <th>min</th>\n",
       "      <td>1003452062</td>\n",
       "      <td>-3</td>\n",
       "      <td>-3</td>\n",
       "    </tr>\n",
       "    <tr>\n",
       "      <th>25%</th>\n",
       "      <td>3405417598</td>\n",
       "      <td>196</td>\n",
       "      <td>215</td>\n",
       "    </tr>\n",
       "    <tr>\n",
       "      <th>50%</th>\n",
       "      <td>5569413188</td>\n",
       "      <td>540</td>\n",
       "      <td>555</td>\n",
       "    </tr>\n",
       "    <tr>\n",
       "      <th>75%</th>\n",
       "      <td>7847705450</td>\n",
       "      <td>970</td>\n",
       "      <td>980</td>\n",
       "    </tr>\n",
       "    <tr>\n",
       "      <th>max</th>\n",
       "      <td>9999018879</td>\n",
       "      <td>4970</td>\n",
       "      <td>4970</td>\n",
       "    </tr>\n",
       "  </tbody>\n",
       "</table>\n",
       "</div>"
      ],
      "text/plain": [
       "        PlayerNr  Balance_before  Balance_after\n",
       "count      49250           49250          49250\n",
       "mean  5570556952             653            667\n",
       "std   2593070421             557            556\n",
       "min   1003452062              -3             -3\n",
       "25%   3405417598             196            215\n",
       "50%   5569413188             540            555\n",
       "75%   7847705450             970            980\n",
       "max   9999018879            4970           4970"
      ]
     },
     "execution_count": 41,
     "metadata": {},
     "output_type": "execute_result"
    }
   ],
   "source": [
    "transactions.describe()"
   ]
  },
  {
   "cell_type": "markdown",
   "metadata": {},
   "source": [
    "## Questions:"
   ]
  },
  {
   "cell_type": "markdown",
   "metadata": {},
   "source": [
    "### 1. What was the average deposit in Spain in 2021?"
   ]
  },
  {
   "cell_type": "code",
   "execution_count": 42,
   "metadata": {},
   "outputs": [],
   "source": [
    "q1 = \"\"\"\n",
    "WITH\n",
    "\n",
    "    v_players AS (\n",
    "        SELECT DISTINCT\n",
    "            PlayerNr\n",
    "\n",
    "        FROM players\n",
    "        WHERE Country =\"ES\"\n",
    "        ),\n",
    "\n",
    "    v_balance AS (\n",
    "        SELECT \n",
    "            PlayerNr,\n",
    "            (COALESCE(Balance_after, 0) - COALESCE(Balance_before, 0)) as balance\n",
    "\n",
    "        FROM transactions\n",
    "        WHERE Trx_Type='deposit'\n",
    "        AND strftime('%Y', Trx_time) = '2021'\n",
    "        )\n",
    "   \n",
    "SELECT\n",
    "    AVG(balance) AS balance_average\n",
    "\n",
    "FROM v_players as vp\n",
    "LEFT JOIN v_balance as vb \n",
    "\n",
    "ON\n",
    "vp.PlayerNr = vb.PlayerNr\n",
    "\"\"\""
   ]
  },
  {
   "cell_type": "code",
   "execution_count": 43,
   "metadata": {
    "scrolled": true
   },
   "outputs": [
    {
     "data": {
      "text/html": [
       "<div>\n",
       "<style scoped>\n",
       "    .dataframe tbody tr th:only-of-type {\n",
       "        vertical-align: middle;\n",
       "    }\n",
       "\n",
       "    .dataframe tbody tr th {\n",
       "        vertical-align: top;\n",
       "    }\n",
       "\n",
       "    .dataframe thead th {\n",
       "        text-align: right;\n",
       "    }\n",
       "</style>\n",
       "<table border=\"1\" class=\"dataframe\">\n",
       "  <thead>\n",
       "    <tr style=\"text-align: right;\">\n",
       "      <th></th>\n",
       "      <th>balance_average</th>\n",
       "    </tr>\n",
       "  </thead>\n",
       "  <tbody>\n",
       "    <tr>\n",
       "      <th>0</th>\n",
       "      <td>481</td>\n",
       "    </tr>\n",
       "  </tbody>\n",
       "</table>\n",
       "</div>"
      ],
      "text/plain": [
       "   balance_average\n",
       "0              481"
      ]
     },
     "execution_count": 43,
     "metadata": {},
     "output_type": "execute_result"
    }
   ],
   "source": [
    "ps.sqldf(q1, locals())"
   ]
  },
  {
   "cell_type": "markdown",
   "metadata": {},
   "source": [
    "### 2. Show Top 10 depositor and their deposits."
   ]
  },
  {
   "cell_type": "code",
   "execution_count": 44,
   "metadata": {},
   "outputs": [],
   "source": [
    "q2 = \"\"\"\n",
    "WITH\n",
    "    v_deposite_balance AS (\n",
    "        SELECT \n",
    "            PlayerNr,\n",
    "            (COALESCE(Balance_after, 0) - COALESCE(Balance_before, 0)) as deposit\n",
    "\n",
    "        FROM transactions\n",
    "        WHERE Trx_Type='deposit'\n",
    "        )\n",
    "        \n",
    "SELECT\n",
    "    SUM(deposit) as deposit_sum\n",
    "FROM v_deposite_balance as vdb\n",
    "GROUP BY PlayerNr\n",
    "ORDER BY deposit_sum DESC\n",
    "LIMIT 10\n",
    "\"\"\""
   ]
  },
  {
   "cell_type": "code",
   "execution_count": 45,
   "metadata": {},
   "outputs": [
    {
     "data": {
      "text/html": [
       "<div>\n",
       "<style scoped>\n",
       "    .dataframe tbody tr th:only-of-type {\n",
       "        vertical-align: middle;\n",
       "    }\n",
       "\n",
       "    .dataframe tbody tr th {\n",
       "        vertical-align: top;\n",
       "    }\n",
       "\n",
       "    .dataframe thead th {\n",
       "        text-align: right;\n",
       "    }\n",
       "</style>\n",
       "<table border=\"1\" class=\"dataframe\">\n",
       "  <thead>\n",
       "    <tr style=\"text-align: right;\">\n",
       "      <th></th>\n",
       "      <th>deposit_sum</th>\n",
       "    </tr>\n",
       "  </thead>\n",
       "  <tbody>\n",
       "    <tr>\n",
       "      <th>0</th>\n",
       "      <td>3890</td>\n",
       "    </tr>\n",
       "    <tr>\n",
       "      <th>1</th>\n",
       "      <td>2926</td>\n",
       "    </tr>\n",
       "    <tr>\n",
       "      <th>2</th>\n",
       "      <td>2805</td>\n",
       "    </tr>\n",
       "    <tr>\n",
       "      <th>3</th>\n",
       "      <td>2727</td>\n",
       "    </tr>\n",
       "    <tr>\n",
       "      <th>4</th>\n",
       "      <td>2634</td>\n",
       "    </tr>\n",
       "    <tr>\n",
       "      <th>5</th>\n",
       "      <td>2588</td>\n",
       "    </tr>\n",
       "    <tr>\n",
       "      <th>6</th>\n",
       "      <td>2574</td>\n",
       "    </tr>\n",
       "    <tr>\n",
       "      <th>7</th>\n",
       "      <td>2561</td>\n",
       "    </tr>\n",
       "    <tr>\n",
       "      <th>8</th>\n",
       "      <td>2560</td>\n",
       "    </tr>\n",
       "    <tr>\n",
       "      <th>9</th>\n",
       "      <td>2555</td>\n",
       "    </tr>\n",
       "  </tbody>\n",
       "</table>\n",
       "</div>"
      ],
      "text/plain": [
       "   deposit_sum\n",
       "0         3890\n",
       "1         2926\n",
       "2         2805\n",
       "3         2727\n",
       "4         2634\n",
       "5         2588\n",
       "6         2574\n",
       "7         2561\n",
       "8         2560\n",
       "9         2555"
      ]
     },
     "execution_count": 45,
     "metadata": {},
     "output_type": "execute_result"
    }
   ],
   "source": [
    "ps.sqldf(q2, locals())"
   ]
  },
  {
   "cell_type": "markdown",
   "metadata": {},
   "source": [
    "### 3. How many active players there are?"
   ]
  },
  {
   "cell_type": "markdown",
   "metadata": {},
   "source": [
    "Active player – players who made deposit or stake transaction in last 3 month are consider\n",
    "active"
   ]
  },
  {
   "cell_type": "code",
   "execution_count": 46,
   "metadata": {},
   "outputs": [
    {
     "name": "stderr",
     "output_type": "stream",
     "text": [
      "C:\\Users\\KonuTech\\AppData\\Local\\Temp/ipykernel_45944/2378162820.py:1: FutureWarning: Treating datetime data as categorical rather than numeric in `.describe` is deprecated and will be removed in a future version of pandas. Specify `datetime_is_numeric=True` to silence this warning and adopt the future behavior now.\n",
      "  transactions['Trx_time'].describe()\n"
     ]
    },
    {
     "data": {
      "text/plain": [
       "count                   49250\n",
       "unique                  49242\n",
       "top       2021-09-19 16:25:51\n",
       "freq                        2\n",
       "first     2010-02-06 02:12:03\n",
       "last      2022-02-01 00:30:53\n",
       "Name: Trx_time, dtype: object"
      ]
     },
     "execution_count": 46,
     "metadata": {},
     "output_type": "execute_result"
    }
   ],
   "source": [
    "transactions['Trx_time'].describe()"
   ]
  },
  {
   "cell_type": "code",
   "execution_count": 47,
   "metadata": {},
   "outputs": [],
   "source": [
    "from datetime import datetime, timedelta\n",
    "from dateutil.relativedelta import relativedelta"
   ]
  },
  {
   "cell_type": "code",
   "execution_count": 48,
   "metadata": {},
   "outputs": [],
   "source": [
    "reporting_date = datetime(2022, 2, 1).isoformat()"
   ]
  },
  {
   "cell_type": "markdown",
   "metadata": {},
   "source": [
    "### reporting date"
   ]
  },
  {
   "cell_type": "code",
   "execution_count": 49,
   "metadata": {},
   "outputs": [
    {
     "data": {
      "text/plain": [
       "'2022-02-01T00:00:00'"
      ]
     },
     "execution_count": 49,
     "metadata": {},
     "output_type": "execute_result"
    }
   ],
   "source": [
    "reporting_date"
   ]
  },
  {
   "cell_type": "code",
   "execution_count": 50,
   "metadata": {},
   "outputs": [],
   "source": [
    "reporting_end_date = datetime(2022, 2, 1) - timedelta(days=1)"
   ]
  },
  {
   "cell_type": "markdown",
   "metadata": {},
   "source": [
    "### reporting date - 1 day"
   ]
  },
  {
   "cell_type": "code",
   "execution_count": 51,
   "metadata": {},
   "outputs": [
    {
     "data": {
      "text/plain": [
       "'2022-01-31T00:00:00'"
      ]
     },
     "execution_count": 51,
     "metadata": {},
     "output_type": "execute_result"
    }
   ],
   "source": [
    "reporting_end_date.isoformat()"
   ]
  },
  {
   "cell_type": "markdown",
   "metadata": {},
   "source": [
    "### reporing day - 3 months"
   ]
  },
  {
   "cell_type": "code",
   "execution_count": 52,
   "metadata": {},
   "outputs": [],
   "source": [
    "n = 3"
   ]
  },
  {
   "cell_type": "code",
   "execution_count": 53,
   "metadata": {},
   "outputs": [],
   "source": [
    "reporting_start_date = datetime(2022, 2, 1) - relativedelta(months=n)"
   ]
  },
  {
   "cell_type": "code",
   "execution_count": 54,
   "metadata": {},
   "outputs": [
    {
     "data": {
      "text/plain": [
       "'2021-11-01T00:00:00'"
      ]
     },
     "execution_count": 54,
     "metadata": {},
     "output_type": "execute_result"
    }
   ],
   "source": [
    "reporting_start_date.isoformat()"
   ]
  },
  {
   "cell_type": "code",
   "execution_count": 55,
   "metadata": {},
   "outputs": [],
   "source": [
    "q3 = \"\"\"\n",
    "WITH\n",
    "    v_players AS (\n",
    "        SELECT DISTINCT\n",
    "            PlayerNr\n",
    "\n",
    "        FROM players\n",
    "        ),\n",
    "    \n",
    "    v_active_players AS (\n",
    "        SELECT DISTINCT\n",
    "            PlayerNr\n",
    "\n",
    "        FROM transactions\n",
    "        WHERE Trx_Type IN (\n",
    "            'deposit',\n",
    "            'stake'\n",
    "            )\n",
    "        AND Trx_time BETWEEN \"{0}\" AND \"{1}\"\n",
    "        )\n",
    "        \n",
    "SELECT\n",
    "    COUNT(vp.PlayerNr) active_players_count\n",
    "FROM\n",
    "v_players as vp\n",
    "INNER JOIN v_active_players as vap\n",
    "ON vp.PlayerNr = vap.PlayerNr\n",
    "\"\"\".format(reporting_start_date, reporting_end_date)"
   ]
  },
  {
   "cell_type": "code",
   "execution_count": 56,
   "metadata": {},
   "outputs": [
    {
     "data": {
      "text/html": [
       "<div>\n",
       "<style scoped>\n",
       "    .dataframe tbody tr th:only-of-type {\n",
       "        vertical-align: middle;\n",
       "    }\n",
       "\n",
       "    .dataframe tbody tr th {\n",
       "        vertical-align: top;\n",
       "    }\n",
       "\n",
       "    .dataframe thead th {\n",
       "        text-align: right;\n",
       "    }\n",
       "</style>\n",
       "<table border=\"1\" class=\"dataframe\">\n",
       "  <thead>\n",
       "    <tr style=\"text-align: right;\">\n",
       "      <th></th>\n",
       "      <th>active_players_count</th>\n",
       "    </tr>\n",
       "  </thead>\n",
       "  <tbody>\n",
       "    <tr>\n",
       "      <th>0</th>\n",
       "      <td>660</td>\n",
       "    </tr>\n",
       "  </tbody>\n",
       "</table>\n",
       "</div>"
      ],
      "text/plain": [
       "   active_players_count\n",
       "0                   660"
      ]
     },
     "execution_count": 56,
     "metadata": {},
     "output_type": "execute_result"
    }
   ],
   "source": [
    "ps.sqldf(q3, locals())"
   ]
  },
  {
   "cell_type": "markdown",
   "metadata": {},
   "source": [
    "### 4. How many players currently have self-ban active?"
   ]
  },
  {
   "cell_type": "code",
   "execution_count": 131,
   "metadata": {},
   "outputs": [
    {
     "name": "stderr",
     "output_type": "stream",
     "text": [
      "C:\\Users\\KonuTech\\AppData\\Local\\Temp/ipykernel_45944/1809323748.py:1: FutureWarning: Treating datetime data as categorical rather than numeric in `.describe` is deprecated and will be removed in a future version of pandas. Specify `datetime_is_numeric=True` to silence this warning and adopt the future behavior now.\n",
      "  players[[\"Selfban_start\", \"Selfban_end\"]].describe()\n",
      "C:\\Users\\KonuTech\\AppData\\Local\\Temp/ipykernel_45944/1809323748.py:1: FutureWarning: Treating datetime data as categorical rather than numeric in `.describe` is deprecated and will be removed in a future version of pandas. Specify `datetime_is_numeric=True` to silence this warning and adopt the future behavior now.\n",
      "  players[[\"Selfban_start\", \"Selfban_end\"]].describe()\n"
     ]
    },
    {
     "data": {
      "text/html": [
       "<div>\n",
       "<style scoped>\n",
       "    .dataframe tbody tr th:only-of-type {\n",
       "        vertical-align: middle;\n",
       "    }\n",
       "\n",
       "    .dataframe tbody tr th {\n",
       "        vertical-align: top;\n",
       "    }\n",
       "\n",
       "    .dataframe thead th {\n",
       "        text-align: right;\n",
       "    }\n",
       "</style>\n",
       "<table border=\"1\" class=\"dataframe\">\n",
       "  <thead>\n",
       "    <tr style=\"text-align: right;\">\n",
       "      <th></th>\n",
       "      <th>Selfban_start</th>\n",
       "      <th>Selfban_end</th>\n",
       "    </tr>\n",
       "  </thead>\n",
       "  <tbody>\n",
       "    <tr>\n",
       "      <th>count</th>\n",
       "      <td>24</td>\n",
       "      <td>24</td>\n",
       "    </tr>\n",
       "    <tr>\n",
       "      <th>unique</th>\n",
       "      <td>24</td>\n",
       "      <td>24</td>\n",
       "    </tr>\n",
       "    <tr>\n",
       "      <th>top</th>\n",
       "      <td>2018-05-20 00:00:00</td>\n",
       "      <td>2029-12-05 00:00:00</td>\n",
       "    </tr>\n",
       "    <tr>\n",
       "      <th>freq</th>\n",
       "      <td>1</td>\n",
       "      <td>1</td>\n",
       "    </tr>\n",
       "    <tr>\n",
       "      <th>first</th>\n",
       "      <td>2017-02-04 00:00:00</td>\n",
       "      <td>2023-04-04 00:00:00</td>\n",
       "    </tr>\n",
       "    <tr>\n",
       "      <th>last</th>\n",
       "      <td>2021-11-25 00:00:00</td>\n",
       "      <td>2031-10-17 00:00:00</td>\n",
       "    </tr>\n",
       "  </tbody>\n",
       "</table>\n",
       "</div>"
      ],
      "text/plain": [
       "              Selfban_start          Selfban_end\n",
       "count                    24                   24\n",
       "unique                   24                   24\n",
       "top     2018-05-20 00:00:00  2029-12-05 00:00:00\n",
       "freq                      1                    1\n",
       "first   2017-02-04 00:00:00  2023-04-04 00:00:00\n",
       "last    2021-11-25 00:00:00  2031-10-17 00:00:00"
      ]
     },
     "execution_count": 131,
     "metadata": {},
     "output_type": "execute_result"
    }
   ],
   "source": [
    "players[[\"Selfban_start\", \"Selfban_end\"]].describe()"
   ]
  },
  {
   "cell_type": "code",
   "execution_count": 132,
   "metadata": {},
   "outputs": [
    {
     "name": "stderr",
     "output_type": "stream",
     "text": [
      "C:\\Users\\KonuTech\\AppData\\Local\\Temp/ipykernel_45944/3255270236.py:1: FutureWarning: Treating datetime data as categorical rather than numeric in `.describe` is deprecated and will be removed in a future version of pandas. Specify `datetime_is_numeric=True` to silence this warning and adopt the future behavior now.\n",
      "  selfbans[[\"Selfban_start\", \"Selfban_end\"]].describe()\n",
      "C:\\Users\\KonuTech\\AppData\\Local\\Temp/ipykernel_45944/3255270236.py:1: FutureWarning: Treating datetime data as categorical rather than numeric in `.describe` is deprecated and will be removed in a future version of pandas. Specify `datetime_is_numeric=True` to silence this warning and adopt the future behavior now.\n",
      "  selfbans[[\"Selfban_start\", \"Selfban_end\"]].describe()\n"
     ]
    },
    {
     "data": {
      "text/html": [
       "<div>\n",
       "<style scoped>\n",
       "    .dataframe tbody tr th:only-of-type {\n",
       "        vertical-align: middle;\n",
       "    }\n",
       "\n",
       "    .dataframe tbody tr th {\n",
       "        vertical-align: top;\n",
       "    }\n",
       "\n",
       "    .dataframe thead th {\n",
       "        text-align: right;\n",
       "    }\n",
       "</style>\n",
       "<table border=\"1\" class=\"dataframe\">\n",
       "  <thead>\n",
       "    <tr style=\"text-align: right;\">\n",
       "      <th></th>\n",
       "      <th>Selfban_start</th>\n",
       "      <th>Selfban_end</th>\n",
       "    </tr>\n",
       "  </thead>\n",
       "  <tbody>\n",
       "    <tr>\n",
       "      <th>count</th>\n",
       "      <td>95</td>\n",
       "      <td>95</td>\n",
       "    </tr>\n",
       "    <tr>\n",
       "      <th>unique</th>\n",
       "      <td>90</td>\n",
       "      <td>89</td>\n",
       "    </tr>\n",
       "    <tr>\n",
       "      <th>top</th>\n",
       "      <td>2019-04-07 00:00:00</td>\n",
       "      <td>2019-07-06 00:00:00</td>\n",
       "    </tr>\n",
       "    <tr>\n",
       "      <th>freq</th>\n",
       "      <td>3</td>\n",
       "      <td>2</td>\n",
       "    </tr>\n",
       "    <tr>\n",
       "      <th>first</th>\n",
       "      <td>2011-04-19 00:00:00</td>\n",
       "      <td>2011-11-01 00:00:00</td>\n",
       "    </tr>\n",
       "    <tr>\n",
       "      <th>last</th>\n",
       "      <td>2021-12-17 00:00:00</td>\n",
       "      <td>2022-01-24 00:00:00</td>\n",
       "    </tr>\n",
       "  </tbody>\n",
       "</table>\n",
       "</div>"
      ],
      "text/plain": [
       "              Selfban_start          Selfban_end\n",
       "count                    95                   95\n",
       "unique                   90                   89\n",
       "top     2019-04-07 00:00:00  2019-07-06 00:00:00\n",
       "freq                      3                    2\n",
       "first   2011-04-19 00:00:00  2011-11-01 00:00:00\n",
       "last    2021-12-17 00:00:00  2022-01-24 00:00:00"
      ]
     },
     "execution_count": 132,
     "metadata": {},
     "output_type": "execute_result"
    }
   ],
   "source": [
    "selfbans[[\"Selfban_start\", \"Selfban_end\"]].describe()"
   ]
  },
  {
   "cell_type": "markdown",
   "metadata": {},
   "source": [
    "### Seems like Selfbans.csv contains history of selfbans. Which is not useful here. Hence, using only Players.csv"
   ]
  },
  {
   "cell_type": "code",
   "execution_count": 142,
   "metadata": {},
   "outputs": [],
   "source": [
    "players_selfbans = \"\"\"\n",
    "WITH\n",
    "    v_players AS (\n",
    "        SELECT DISTINCT\n",
    "            PlayerNr,\n",
    "            AccountId,\n",
    "            Selfban_start,\n",
    "            Selfban_end\n",
    "\n",
    "        FROM players\n",
    "        WHERE Selfban_end >= \"{0}\"\n",
    "        --AND AccountId=\"z13kx2qaaa\"\n",
    "        )\n",
    "        \n",
    "SELECT\n",
    "    COUNT(*) players_selfbans_count\n",
    "FROM v_players as vp\n",
    "\"\"\".format(reporting_date)"
   ]
  },
  {
   "cell_type": "code",
   "execution_count": 143,
   "metadata": {},
   "outputs": [
    {
     "data": {
      "text/html": [
       "<div>\n",
       "<style scoped>\n",
       "    .dataframe tbody tr th:only-of-type {\n",
       "        vertical-align: middle;\n",
       "    }\n",
       "\n",
       "    .dataframe tbody tr th {\n",
       "        vertical-align: top;\n",
       "    }\n",
       "\n",
       "    .dataframe thead th {\n",
       "        text-align: right;\n",
       "    }\n",
       "</style>\n",
       "<table border=\"1\" class=\"dataframe\">\n",
       "  <thead>\n",
       "    <tr style=\"text-align: right;\">\n",
       "      <th></th>\n",
       "      <th>players_selfbans_count</th>\n",
       "    </tr>\n",
       "  </thead>\n",
       "  <tbody>\n",
       "    <tr>\n",
       "      <th>0</th>\n",
       "      <td>24</td>\n",
       "    </tr>\n",
       "  </tbody>\n",
       "</table>\n",
       "</div>"
      ],
      "text/plain": [
       "   players_selfbans_count\n",
       "0                      24"
      ]
     },
     "execution_count": 143,
     "metadata": {},
     "output_type": "execute_result"
    }
   ],
   "source": [
    "ps.sqldf(players_selfbans, locals())"
   ]
  },
  {
   "cell_type": "markdown",
   "metadata": {},
   "source": [
    "### 5. How many self-bans were activated in 2021?"
   ]
  },
  {
   "cell_type": "code",
   "execution_count": 181,
   "metadata": {},
   "outputs": [],
   "source": [
    "selfbans_2021 = \"\"\"\n",
    "WITH\n",
    "    v_players AS (\n",
    "        SELECT\n",
    "            AccountId,\n",
    "            Selfban_start,\n",
    "            Selfban_end\n",
    "\n",
    "        FROM selfbans\n",
    "        WHERE strftime('%Y', Selfban_start) = '2021'\n",
    "        )\n",
    "        \n",
    "SELECT\n",
    "    COUNT(*) as selfbans_count_2021\n",
    "FROM v_players as vp\n",
    "\"\"\""
   ]
  },
  {
   "cell_type": "code",
   "execution_count": 182,
   "metadata": {},
   "outputs": [
    {
     "data": {
      "text/html": [
       "<div>\n",
       "<style scoped>\n",
       "    .dataframe tbody tr th:only-of-type {\n",
       "        vertical-align: middle;\n",
       "    }\n",
       "\n",
       "    .dataframe tbody tr th {\n",
       "        vertical-align: top;\n",
       "    }\n",
       "\n",
       "    .dataframe thead th {\n",
       "        text-align: right;\n",
       "    }\n",
       "</style>\n",
       "<table border=\"1\" class=\"dataframe\">\n",
       "  <thead>\n",
       "    <tr style=\"text-align: right;\">\n",
       "      <th></th>\n",
       "      <th>selfbans_count_2021</th>\n",
       "    </tr>\n",
       "  </thead>\n",
       "  <tbody>\n",
       "    <tr>\n",
       "      <th>0</th>\n",
       "      <td>21</td>\n",
       "    </tr>\n",
       "  </tbody>\n",
       "</table>\n",
       "</div>"
      ],
      "text/plain": [
       "   selfbans_count_2021\n",
       "0                   21"
      ]
     },
     "execution_count": 182,
     "metadata": {},
     "output_type": "execute_result"
    }
   ],
   "source": [
    "ps.sqldf(selfbans_2021, locals())"
   ]
  },
  {
   "cell_type": "markdown",
   "metadata": {},
   "source": [
    "### 6. How many players had active self-ban on 1st of May 2021?"
   ]
  },
  {
   "cell_type": "code",
   "execution_count": 183,
   "metadata": {},
   "outputs": [],
   "source": [
    "active_selfbans_20210501 = \"\"\"\n",
    "WITH\n",
    "    v_players AS (\n",
    "        SELECT\n",
    "            AccountId,\n",
    "            Selfban_start,\n",
    "            Selfban_end\n",
    "\n",
    "        FROM selfbans\n",
    "        WHERE strftime('%Y%m%d', Selfban_start) <= '20210501'\n",
    "        AND strftime('%Y%m%d', Selfban_end) >= '20210501'\n",
    "        )\n",
    "        \n",
    "SELECT\n",
    "    COUNT(*) selbans_active_20210501_count\n",
    "FROM v_players as vp\n",
    "\"\"\""
   ]
  },
  {
   "cell_type": "code",
   "execution_count": 184,
   "metadata": {},
   "outputs": [
    {
     "data": {
      "text/html": [
       "<div>\n",
       "<style scoped>\n",
       "    .dataframe tbody tr th:only-of-type {\n",
       "        vertical-align: middle;\n",
       "    }\n",
       "\n",
       "    .dataframe tbody tr th {\n",
       "        vertical-align: top;\n",
       "    }\n",
       "\n",
       "    .dataframe thead th {\n",
       "        text-align: right;\n",
       "    }\n",
       "</style>\n",
       "<table border=\"1\" class=\"dataframe\">\n",
       "  <thead>\n",
       "    <tr style=\"text-align: right;\">\n",
       "      <th></th>\n",
       "      <th>selbans_active_20210501_count</th>\n",
       "    </tr>\n",
       "  </thead>\n",
       "  <tbody>\n",
       "    <tr>\n",
       "      <th>0</th>\n",
       "      <td>20</td>\n",
       "    </tr>\n",
       "  </tbody>\n",
       "</table>\n",
       "</div>"
      ],
      "text/plain": [
       "   selbans_active_20210501_count\n",
       "0                             20"
      ]
     },
     "execution_count": 184,
     "metadata": {},
     "output_type": "execute_result"
    }
   ],
   "source": [
    "ps.sqldf(active_selfbans_20210501, locals())"
   ]
  },
  {
   "cell_type": "code",
   "execution_count": null,
   "metadata": {},
   "outputs": [],
   "source": []
  }
 ],
 "metadata": {
  "kernelspec": {
   "display_name": "Python 3",
   "language": "python",
   "name": "python3"
  },
  "language_info": {
   "codemirror_mode": {
    "name": "ipython",
    "version": 3
   },
   "file_extension": ".py",
   "mimetype": "text/x-python",
   "name": "python",
   "nbconvert_exporter": "python",
   "pygments_lexer": "ipython3",
   "version": "3.9.7"
  }
 },
 "nbformat": 4,
 "nbformat_minor": 1
}
