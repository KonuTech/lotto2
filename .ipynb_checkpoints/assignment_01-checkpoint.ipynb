{
 "cells": [
  {
   "cell_type": "code",
   "execution_count": 1,
   "metadata": {},
   "outputs": [],
   "source": [
    "import os\n",
    "import json\n",
    "import pandas as pd\n",
    "from datetime import datetime\n",
    "import pandasql as ps"
   ]
  },
  {
   "cell_type": "code",
   "execution_count": 2,
   "metadata": {},
   "outputs": [],
   "source": [
    "pd.set_option('display.float_format', lambda x: '%.0f' % x)"
   ]
  },
  {
   "cell_type": "code",
   "execution_count": 3,
   "metadata": {},
   "outputs": [],
   "source": [
    "CURRENT_WORKING_DIRECTORY = os.getcwd()\n",
    "INPUTS = CURRENT_WORKING_DIRECTORY + \"\\\\inputs\"\n",
    "SEPARATOR=\";\"\n",
    "PLAYERS = \"Players.csv\"\n",
    "SELFBANS = \"Selfbans.csv\"\n",
    "TRANSACTIONS = \"Transactions.csv\""
   ]
  },
  {
   "cell_type": "code",
   "execution_count": 4,
   "metadata": {},
   "outputs": [],
   "source": [
    "CONFIG_FILE = \"config.json\"\n",
    "with open(CURRENT_WORKING_DIRECTORY + \"\\\\\" + CONFIG_FILE, encoding='utf-8') as f:\n",
    "    CONFIG = json.load(f)"
   ]
  },
  {
   "cell_type": "code",
   "execution_count": 5,
   "metadata": {},
   "outputs": [],
   "source": [
    "PLAYERS_DATES = CONFIG[\"PLAYERS\"][\"DATES\"]\n",
    "PLAYERS_SEPARATOR = CONFIG[\"PLAYERS\"][\"SEPARATOR\"]\n",
    "PLAYERS_DTYPE = CONFIG[\"PLAYERS\"][\"DTYPE\"]"
   ]
  },
  {
   "cell_type": "code",
   "execution_count": 6,
   "metadata": {},
   "outputs": [],
   "source": [
    "SELFBANS_DATES = CONFIG[\"SELFBANS\"][\"DATES\"]\n",
    "SELFBANS_SEPARATOR = CONFIG[\"SELFBANS\"][\"SEPARATOR\"]\n",
    "SELFBANS_DTYPE = CONFIG[\"SELFBANS\"][\"DTYPE\"] "
   ]
  },
  {
   "cell_type": "code",
   "execution_count": 7,
   "metadata": {},
   "outputs": [],
   "source": [
    "TRANSACTIONS_DATES = CONFIG[\"TRANSACTIONS\"][\"DATES\"]\n",
    "TRANSACTIONS_SEPARATOR = CONFIG[\"TRANSACTIONS\"][\"SEPARATOR\"]\n",
    "TRANSACTIONS_DTYPE = CONFIG[\"TRANSACTIONS\"][\"DTYPE\"] "
   ]
  },
  {
   "cell_type": "code",
   "execution_count": 8,
   "metadata": {},
   "outputs": [],
   "source": [
    "def myparser(x):\n",
    "    \"\"\"\n",
    "    \"\"\"\n",
    "#     try:\n",
    "#         datetime.utcfromtimestamp(int(x))\n",
    "#     except:\n",
    "#         return pd.NaT\n",
    "#    return dt.datetime.strptime(x, '%Y-%m-%d %H:%M:%S')\n",
    "    return datetime.utcfromtimestamp(int(x))"
   ]
  },
  {
   "cell_type": "markdown",
   "metadata": {},
   "source": [
    "## PLAYERS"
   ]
  },
  {
   "cell_type": "code",
   "execution_count": 9,
   "metadata": {
    "pycharm": {
     "name": "#%%\n"
    }
   },
   "outputs": [],
   "source": [
    "players = pd.read_csv(\n",
    "    INPUTS + \"\\\\\" + PLAYERS,\n",
    "    delimiter=PLAYERS_SEPARATOR,\n",
    "    parse_dates=True,\n",
    "    infer_datetime_format=True\n",
    "#     parse_dates=PLAYERS_DATES,\n",
    "#     dtype=PLAYERS_DTYPE,\n",
    "#     date_parser=myparser\n",
    ")"
   ]
  },
  {
   "cell_type": "code",
   "execution_count": 10,
   "metadata": {},
   "outputs": [
    {
     "name": "stdout",
     "output_type": "stream",
     "text": [
      "<class 'pandas.core.frame.DataFrame'>\n",
      "RangeIndex: 1000 entries, 0 to 999\n",
      "Data columns (total 10 columns):\n",
      " #   Column             Non-Null Count  Dtype \n",
      "---  ------             --------------  ----- \n",
      " 0   AccountId          1000 non-null   object\n",
      " 1   PlayerNr           1000 non-null   int64 \n",
      " 2   Country            1000 non-null   object\n",
      " 3   DateOfBirth        1000 non-null   object\n",
      " 4   Source             1000 non-null   object\n",
      " 5   Selfban_start      24 non-null     object\n",
      " 6   Selfban_end        24 non-null     object\n",
      " 7   First_genre        1000 non-null   object\n",
      " 8   Registration_date  1000 non-null   object\n",
      " 9   Currency           759 non-null    object\n",
      "dtypes: int64(1), object(9)\n",
      "memory usage: 78.2+ KB\n"
     ]
    }
   ],
   "source": [
    "players.info()"
   ]
  },
  {
   "cell_type": "code",
   "execution_count": 66,
   "metadata": {},
   "outputs": [],
   "source": [
    "pd.set_option('display.max_rows', 20) # or 1000"
   ]
  },
  {
   "cell_type": "code",
   "execution_count": 67,
   "metadata": {},
   "outputs": [
    {
     "data": {
      "text/html": [
       "<div>\n",
       "<style scoped>\n",
       "    .dataframe tbody tr th:only-of-type {\n",
       "        vertical-align: middle;\n",
       "    }\n",
       "\n",
       "    .dataframe tbody tr th {\n",
       "        vertical-align: top;\n",
       "    }\n",
       "\n",
       "    .dataframe thead th {\n",
       "        text-align: right;\n",
       "    }\n",
       "</style>\n",
       "<table border=\"1\" class=\"dataframe\">\n",
       "  <thead>\n",
       "    <tr style=\"text-align: right;\">\n",
       "      <th></th>\n",
       "      <th>AccountId</th>\n",
       "      <th>PlayerNr</th>\n",
       "      <th>Country</th>\n",
       "      <th>DateOfBirth</th>\n",
       "      <th>Source</th>\n",
       "      <th>Selfban_start</th>\n",
       "      <th>Selfban_end</th>\n",
       "      <th>First_genre</th>\n",
       "      <th>Registration_date</th>\n",
       "      <th>Currency</th>\n",
       "    </tr>\n",
       "  </thead>\n",
       "  <tbody>\n",
       "    <tr>\n",
       "      <th>0</th>\n",
       "      <td>3s85cau8v9</td>\n",
       "      <td>3887581556</td>\n",
       "      <td>PL</td>\n",
       "      <td>1967-12-13</td>\n",
       "      <td>newspaper</td>\n",
       "      <td>NaN</td>\n",
       "      <td>NaN</td>\n",
       "      <td>Games</td>\n",
       "      <td>2017-07-06</td>\n",
       "      <td>NaN</td>\n",
       "    </tr>\n",
       "    <tr>\n",
       "      <th>1</th>\n",
       "      <td>77tetovrax</td>\n",
       "      <td>7847705450</td>\n",
       "      <td>PL</td>\n",
       "      <td>1975-06-03</td>\n",
       "      <td>newspaper</td>\n",
       "      <td>NaN</td>\n",
       "      <td>NaN</td>\n",
       "      <td>Scratchard</td>\n",
       "      <td>2013-09-07</td>\n",
       "      <td>NaN</td>\n",
       "    </tr>\n",
       "    <tr>\n",
       "      <th>2</th>\n",
       "      <td>9if26dd8is</td>\n",
       "      <td>7005121609</td>\n",
       "      <td>SE</td>\n",
       "      <td>1975-06-26</td>\n",
       "      <td>tv</td>\n",
       "      <td>NaN</td>\n",
       "      <td>NaN</td>\n",
       "      <td>Sportsbook</td>\n",
       "      <td>2019-02-14</td>\n",
       "      <td>SEK</td>\n",
       "    </tr>\n",
       "    <tr>\n",
       "      <th>3</th>\n",
       "      <td>hae7koqlzm</td>\n",
       "      <td>8437991648</td>\n",
       "      <td>PL</td>\n",
       "      <td>1964-10-07</td>\n",
       "      <td>facebook</td>\n",
       "      <td>NaN</td>\n",
       "      <td>NaN</td>\n",
       "      <td>Bingo</td>\n",
       "      <td>2020-05-03</td>\n",
       "      <td>NaN</td>\n",
       "    </tr>\n",
       "    <tr>\n",
       "      <th>4</th>\n",
       "      <td>ye9qkt7b35</td>\n",
       "      <td>3609218616</td>\n",
       "      <td>AT</td>\n",
       "      <td>1980-12-28</td>\n",
       "      <td>newspaper</td>\n",
       "      <td>NaN</td>\n",
       "      <td>NaN</td>\n",
       "      <td>Bingo</td>\n",
       "      <td>2019-05-30</td>\n",
       "      <td>EUR</td>\n",
       "    </tr>\n",
       "    <tr>\n",
       "      <th>...</th>\n",
       "      <td>...</td>\n",
       "      <td>...</td>\n",
       "      <td>...</td>\n",
       "      <td>...</td>\n",
       "      <td>...</td>\n",
       "      <td>...</td>\n",
       "      <td>...</td>\n",
       "      <td>...</td>\n",
       "      <td>...</td>\n",
       "      <td>...</td>\n",
       "    </tr>\n",
       "    <tr>\n",
       "      <th>995</th>\n",
       "      <td>ibi9p03lja</td>\n",
       "      <td>6482640039</td>\n",
       "      <td>ES</td>\n",
       "      <td>1977-06-30</td>\n",
       "      <td>newspaper</td>\n",
       "      <td>NaN</td>\n",
       "      <td>NaN</td>\n",
       "      <td>Scratchard</td>\n",
       "      <td>2019-04-09</td>\n",
       "      <td>EUR</td>\n",
       "    </tr>\n",
       "    <tr>\n",
       "      <th>996</th>\n",
       "      <td>qn24k3kt2m</td>\n",
       "      <td>7360398683</td>\n",
       "      <td>RO</td>\n",
       "      <td>1943-04-29</td>\n",
       "      <td>direct</td>\n",
       "      <td>NaN</td>\n",
       "      <td>NaN</td>\n",
       "      <td>Scratchard</td>\n",
       "      <td>2020-12-01</td>\n",
       "      <td>NaN</td>\n",
       "    </tr>\n",
       "    <tr>\n",
       "      <th>997</th>\n",
       "      <td>z39mcqia8s</td>\n",
       "      <td>6877956071</td>\n",
       "      <td>DE</td>\n",
       "      <td>2000-10-17</td>\n",
       "      <td>direct</td>\n",
       "      <td>NaN</td>\n",
       "      <td>NaN</td>\n",
       "      <td>Lottery</td>\n",
       "      <td>2016-02-06</td>\n",
       "      <td>EUR</td>\n",
       "    </tr>\n",
       "    <tr>\n",
       "      <th>998</th>\n",
       "      <td>gznrfd648a</td>\n",
       "      <td>5076578596</td>\n",
       "      <td>SE</td>\n",
       "      <td>1983-01-25</td>\n",
       "      <td>direct</td>\n",
       "      <td>NaN</td>\n",
       "      <td>NaN</td>\n",
       "      <td>Scratchard</td>\n",
       "      <td>2016-02-15</td>\n",
       "      <td>SEK</td>\n",
       "    </tr>\n",
       "    <tr>\n",
       "      <th>999</th>\n",
       "      <td>qu482mi38y</td>\n",
       "      <td>2126018298</td>\n",
       "      <td>PL</td>\n",
       "      <td>1984-08-23</td>\n",
       "      <td>web</td>\n",
       "      <td>NaN</td>\n",
       "      <td>NaN</td>\n",
       "      <td>Bingo</td>\n",
       "      <td>2011-10-27</td>\n",
       "      <td>NaN</td>\n",
       "    </tr>\n",
       "  </tbody>\n",
       "</table>\n",
       "<p>1000 rows × 10 columns</p>\n",
       "</div>"
      ],
      "text/plain": [
       "      AccountId    PlayerNr Country DateOfBirth     Source Selfban_start  \\\n",
       "0    3s85cau8v9  3887581556      PL  1967-12-13  newspaper           NaN   \n",
       "1    77tetovrax  7847705450      PL  1975-06-03  newspaper           NaN   \n",
       "2    9if26dd8is  7005121609      SE  1975-06-26         tv           NaN   \n",
       "3    hae7koqlzm  8437991648      PL  1964-10-07   facebook           NaN   \n",
       "4    ye9qkt7b35  3609218616      AT  1980-12-28  newspaper           NaN   \n",
       "..          ...         ...     ...         ...        ...           ...   \n",
       "995  ibi9p03lja  6482640039      ES  1977-06-30  newspaper           NaN   \n",
       "996  qn24k3kt2m  7360398683      RO  1943-04-29     direct           NaN   \n",
       "997  z39mcqia8s  6877956071      DE  2000-10-17     direct           NaN   \n",
       "998  gznrfd648a  5076578596      SE  1983-01-25     direct           NaN   \n",
       "999  qu482mi38y  2126018298      PL  1984-08-23        web           NaN   \n",
       "\n",
       "    Selfban_end First_genre Registration_date Currency  \n",
       "0           NaN       Games        2017-07-06      NaN  \n",
       "1           NaN  Scratchard        2013-09-07      NaN  \n",
       "2           NaN  Sportsbook        2019-02-14      SEK  \n",
       "3           NaN       Bingo        2020-05-03      NaN  \n",
       "4           NaN       Bingo        2019-05-30      EUR  \n",
       "..          ...         ...               ...      ...  \n",
       "995         NaN  Scratchard        2019-04-09      EUR  \n",
       "996         NaN  Scratchard        2020-12-01      NaN  \n",
       "997         NaN     Lottery        2016-02-06      EUR  \n",
       "998         NaN  Scratchard        2016-02-15      SEK  \n",
       "999         NaN       Bingo        2011-10-27      NaN  \n",
       "\n",
       "[1000 rows x 10 columns]"
      ]
     },
     "execution_count": 67,
     "metadata": {},
     "output_type": "execute_result"
    }
   ],
   "source": [
    "players"
   ]
  },
  {
   "cell_type": "code",
   "execution_count": 12,
   "metadata": {},
   "outputs": [
    {
     "data": {
      "text/plain": [
       "array(['3s85cau8v9', '77tetovrax', '9if26dd8is', 'hae7koqlzm',\n",
       "       'ye9qkt7b35', 'dj9v34qkhb', '27qae75za6', 'mx89kdza9i',\n",
       "       'ykbbvstq3e', 'zs7lqmgnn7', '36bt5u3l3b', 'eq0mordsce',\n",
       "       '3ptmmi394k', 'vxhn7txm91', 'pzshpyygkm', 'iuceuy66vf',\n",
       "       'lwyi4648fq', 'i7w5zgaupe', 'bq2zwae1v0', 'vh4w5py6cs',\n",
       "       'i2925d11sp', 'jma19opoxu', 'j4b25q4cvu', 'p20v6oeybi',\n",
       "       '8rwdsja2gk', 'hxbkfe0q2s', '5l89q9x8ss', 'lmwcde8ief',\n",
       "       'jr2brtp8ks', '0lxdhrrfgx', 'hob2i6iqkk', 'gv2o1cwxzy',\n",
       "       'cb46d7z92b', 'sma9o0ldic', 'b2ewqtd4z8', '8jaa57kgpc',\n",
       "       'etmwg9102c', '776dwr2xji', 'ctvw68m164', 'pg30taorfd',\n",
       "       '4z6fwnwp1o', 'cjsm74wpxg', 'g6e5wzy89r', '0emwer0r06',\n",
       "       'p4rppifn5y', '02vunjsycq', 'kvnb7l9g9z', 'm3iamx8xz5',\n",
       "       'u20jwb1i47', 'l3noy5ncu8', 'xqjd5jthuj', 'fkl9appqov',\n",
       "       'o5x68go1cd', 'ohzz3pweqh', 'n4g39byeub', '3hqx6m8ngj',\n",
       "       'bbeaa0k5c7', '7xlc9gwgqj', '28yjiq4vaz', 'gylx11znxf',\n",
       "       '50xx3upinf', '1riy3izjvx', 'qrlc01w3ci', 'z13kx2qaaa',\n",
       "       'coih60icfy', '89ppu3535m', 'xxwrfr777u', 'mk9u0ls0pu',\n",
       "       '9l1ud8nm9w', '6h0cj8a6sy', 'aqnzj0cak4', 'nwwaz6uve7',\n",
       "       'jbchl0q0q7', '6ahn54f6io', 'p8gbrzc32p', 'byfrdvsogs',\n",
       "       'wkvn9f1pis', 'aqk2iu3wy8', 'lvhdukskxt', '552xegjgm8',\n",
       "       'd0wo5wsrpp', 'k6xqdwvm3b', 'cczpugo74o', '6r6s5y5xfr',\n",
       "       'jluu6wc11t', '6gne6u7ntz', 'qpdo0budsx', 'or8rbqjydo',\n",
       "       't0o75qhczp', 'ck6ra5yh2k', 'mmz8bfstje', 'syltwad549',\n",
       "       '48lfgzhj44', '76gro8np9e', 'f5pa04ntun', 'scrszhsqyp',\n",
       "       'mb0pihqog9', 'dytyy6m5zx', '0533wiwceb', 'uw2cuc3fsd',\n",
       "       '0xwc7mqyzv', 'n2shu4b54f', 'b0wqwkigk7', 'xsysaz62q0',\n",
       "       'xdvm3n400v', 'burq5vozzc', '2qirco5uvk', 'rgzpchfw34',\n",
       "       'jjjathgoe4', 'mvrnvymj20', '03513r7v9b', 'j7oh3gjwgb',\n",
       "       'vep0kn4h9y', 'dw9xayhgsf', 'ujzz8c0jb3', 'xxayu377fo',\n",
       "       '6aguw6lw0z', 'ywbpeokmsg', 'l38p82u6au', 'e7lsdgnrxn',\n",
       "       'eznrvtmkyl', 'rmkbfpp0br', 'mw4mj8sajl', '44pwwbgjn2',\n",
       "       'gbrw0wiiju', '3ywmx5hfho', 'yonqkoouxv', 'rquhyauhxq',\n",
       "       'mcfkfk63qt', 'cqulc4z8g7', '3g12h43uic', 'uhyvjl2gct',\n",
       "       '2mif8xr962', 'nxgqrj1439', 'vr7u77wxhj', '4he9s8guni',\n",
       "       'm5p8k7ui9j', 'kl4wssqw5y', 'dpnne4cto9', 'h6fyvbsvkt',\n",
       "       'skj8htx5sc', '6f6zjzur2z', '8r8y4yk714', 'hp1gvij4uf',\n",
       "       'laxoonyemp', '6av3cl4mij', 'u034iyd7s8', 'ievpi8xs4r',\n",
       "       'ato1n9upqc', 'kld9jz2rcd', 'ggrel73hbg', '1r833hbij1',\n",
       "       '12ftpamlxf', '71hlas8xkx', 'jedgt77494', '4nqn0mtjyb',\n",
       "       'g1o8q94c62', '6k2j3s0hzr', 'x89ssj4omc', 'lciimmd3ds',\n",
       "       '0jswadmqkd', 'ng15iqiw33', 'f62lv3jvge', '8no12gi34p',\n",
       "       '5a5usbi7ae', 'fqff0tlnop', 'ynj798iysu', '8ewsq9rxi1',\n",
       "       'ihx3d3hh45', 'mw6x91v81t', '1st3pzwugq', '5ioopuqn16',\n",
       "       'cgaqrzvvhl', 'mxwqpb4454', 'xbnfo6tlfc', 'otoky4xrd9',\n",
       "       '9jcmph2lxg', 'keu9wop9cp', 'iah1oumc9v', 'ce3bt29opa',\n",
       "       'eqnzyk22jm', 's3r99rdxqg', '7cq5anv57b', 'u7vo1b0emx',\n",
       "       'tsa919fkpz', '7jkacb61jd', 'tqh3hffkt1', '2lq5yuo67h',\n",
       "       'k0mk193w59', 'sxfotzz189', 'tkizz2wvl6', 'ec43x2n40p',\n",
       "       'psbmp639ra', 'j2jbg3smce', 'pyc2cmi2pi', 'n86ja3mymy',\n",
       "       'aruj3fp8s7', 'a235b1ryzw', 'xj8j0ck65b', 'gvdfdlqmzs',\n",
       "       'f7me9v8ex6', '7c4sfqopt2', '8o2xcgaryl', '66cxpsxw2p',\n",
       "       'l0r76g7wfc', '6qn8bb12q8', 'u60wdswbw2', 'p4x2bbl9ut',\n",
       "       'aimndrhgk0', 'isi7xndz3h', '7uvdp4wvs9', '1mj8sp7vb6',\n",
       "       'ccpkzuhb25', 'ghrr4t462i', 'otue79k94y', '44mugtmtgo',\n",
       "       'nui8hgowyj', '3hgaagpunf', 'mjj0syh2zn', '5lxo5fdpqj',\n",
       "       'ln2foyb5p5', 'qyykj84e0q', 'bthm6uybrm', '1hnh27nxqr',\n",
       "       'xv9i2oukk5', 'l1juiwg1dn', 'jlc44s60r3', 'yx6exaniu7',\n",
       "       'grwku2blrm', 'ij3hzj7wwi', 'qr4buj37lu', '01lq9wcqqa',\n",
       "       '98bbehq9sx', 'ib38hd2xaw', 'l8qm3anwdc', '9n1jzsk3oo',\n",
       "       'zcfmqb4zew', 'eswumb3egw', 'jt41814nr1', 'ky4aewa5z9',\n",
       "       'sfcbalcpo8', 'px925zdok5', 'h37c8wv8ye', 'tryl3tw03c',\n",
       "       '2281atel5e', 'rhec3fcjku', 'v3j2rzhoeq', 'znoivpwulc',\n",
       "       'z1glmq2ss8', '95lwnlg3nz', '5ydq0ie44u', 'o1ol0bh86r',\n",
       "       '3d1unkjm2q', 'pbr6826u3p', 'ch4fnnsl8l', '1nexc7yjpx',\n",
       "       '4ztff7xj6p', 'z5vwadcled', 'a49ng8zs9e', 'bn2oqb2ctu',\n",
       "       'lntf9y6z1p', 'f07kkb79g7', 'fgbnkpo326', 'tjf1htgxod',\n",
       "       'nw1wt5je9c', 'mkgjqq7wny', 'wy8mefjz4g', '7te7s3t9yb',\n",
       "       'g3ftukhsj6', 'xpmvt1626e', 'r5pxtv8tb2', 'bpr15xz0bl',\n",
       "       '4aumxl45pj', 'a5nu7u8026', 'a7x15calqi', '4u65z3f3ud',\n",
       "       '67cp4jt3nr', 'en1fudfe01', 'eklyqx9zt0', 't7pbd2sup9',\n",
       "       'hm149g5gc1', '3u3rdxgk1m', 'lbgyv8gdwb', '29xkxjmjwl',\n",
       "       'r3ji1mb7t7', 'c0h180hmka', '0h54dk2lwr', '4j0lqa21a6',\n",
       "       '6ktcu6s0aj', 'n5laavgv9n', 'lguwqpg64b', 'e2vgabyi6j',\n",
       "       'oz5oyxnqv3', 'vmg836nahs', 'mdbzgqryvs', '7zfabuf5i8',\n",
       "       '2td0crez08', 'mzcqgyc3f7', '70oo2pjchx', 'i99wmf381g',\n",
       "       'a8px5ocq13', '866bug5uvl', '6ef5pvdobk', 'nsfbai5ybl',\n",
       "       'xpq0qsxsmo', 'h9bi3azmui', 'vcoj87vpow', 'jpy834jenb',\n",
       "       '8dshmpamae', 'o9wujn6qs2', 'fiouecc1bt', 'uofi9p5w57',\n",
       "       '756goh7wbn', 'zjgxi07nz0', 'zsunofbh30', 'vzbsxofep0',\n",
       "       '66h0sbtmw3', 'c9xdqi402j', 'tcd1js1rkd', 'm1tlk56t6l',\n",
       "       'trksdjxmin', '0nzoyud9pq', 'j1onr8vtfy', 'b6blxwrezb',\n",
       "       'uyzudwbxsq', '34agssxd4r', '7fs6bxxlb7', 'jmbebkq6rf',\n",
       "       '02gpdkskx5', 'gvsil71pu5', 'qob9if0zjc', 't3ybx0odas',\n",
       "       'huyrzo45wr', 'pkkanjvk2w', 'voxzwg2lde', '0ofmjijcdd',\n",
       "       'it98kfk3p2', '0b2ulel7o0', '9jakiwqklg', 'susm2jfvxs',\n",
       "       'w5t86kmw5f', '40jwuzjsan', 'fwf5sl8v1q', 'jx42trsdxr',\n",
       "       '89pcvwymin', 'fgfylts2v3', 'g82pt0txj4', 'm41ssag299',\n",
       "       'yhjqrqsbbm', 'cd4z66zetn', '6hnvcdvves', 'awrxuzu6wn',\n",
       "       'cenh9l2r7o', 'k65yt1w58n', 'lla65ysn2n', 'z3ewnvw420',\n",
       "       'lwsgw8yuu6', '6lthtkwqv3', 'ldjpkgraj8', '0e63qngkxj',\n",
       "       'yxpzvuso3f', 'kca9as796j', 'ku1s60fqbk', 'ydp2q2vmea',\n",
       "       'and2huyvs1', '1k9fqffjnd', 'i42u86vojd', 'ebuz6j83x3',\n",
       "       'p8lq8aa75a', 'uhse36vi9y', '6ak8hb9p5o', 'hjv0a0zpe7',\n",
       "       'dij77px3sk', 'yliy8zgu57', 'pf5d2mj3gb', 'tlsaxd09tm',\n",
       "       'yug63rgvky', 'ur5xl2k7ee', 'fcc4hi4fm4', 'l2vex36fur',\n",
       "       'myg0vwqc2r', 'q77urslwvh', 'f1xw1msk8f', 'j5d1ihh459',\n",
       "       'wsdkl0r0ob', 'kdv2osch0m', 'ovx84u6juw', '2t8sh2a15x',\n",
       "       'n1y6oq7p5h', 'v6aionym2o', 'm5saco390k', '88ybhro26y',\n",
       "       'aiaecb31ri', 'lf69p02xcn', 'vq4gunupxg', 'rijm5bcbz8',\n",
       "       'nouqiaj2vr', 'ym3lk69zqj', 'oq7d87tfpo', 'zl443xj3bt',\n",
       "       'rssv37mdk8', 'izhe99bpp1', '91wqomcb9x', 'qe6elw1qtn',\n",
       "       'htw2ablisg', '2hpkbs7u0s', '9uii6l2tsh', 'xpe11bbixf',\n",
       "       'pgtilaswu3', 'k071b5zg7n', 'iza9mtjsgg', 'b9uani37ku',\n",
       "       '4mz1bxi2zg', 'vksgp9f5w6', '7fe124sb49', 'vffng7rkyf',\n",
       "       '8xza5ei2sh', 'yr9x2yns2x', '0hw2vcv6ru', 'ctfttwjskg',\n",
       "       'm0gqqdanxb', 'wpam1pvbch', 'ruccgt4pgy', 'jw78m86hct',\n",
       "       'lvfqgbsemd', 'nvwfobmljc', 'ifdh87v7li', 'ov0ggei6ir',\n",
       "       'rlc5zvpch8', 'j5ikwzyqc9', 'dom4taq4kf', 'bg9u20elu9',\n",
       "       '2tcyn6gb8r', '4uo22ja9fz', 'xhud2k84ge', 'uk68onu65x',\n",
       "       'nap5brodj8', 'c7dlpbjpuz', 'wvran37gog', 'd4u2d21ny3',\n",
       "       '66y4d457ea', 'xtmxokoftg', 'jvi5t4no0w', '7kdb18g2vr',\n",
       "       '44x9i0q106', 'jkiv1r0i9x', 'zorou5zsdk', 'jj8xrcxrp6',\n",
       "       'cadc1z1vwj', 'wa17qps2dk', 'enj5xrc51x', 'rdx3lwfzz3',\n",
       "       'doqq2btzyb', '91pkj8ei4i', '7hg3vdrpqn', 'iqldb8ik0w',\n",
       "       'l0kfspzai1', 'gnq1y05a1s', 'rq2ey30ta2', '9xnz7lkem6',\n",
       "       'em15rx53qg', '15cclailj5', 'ybxzumspvv', 'jbweku2wi1',\n",
       "       '5t0drt2djc', 'yjo42cxtrn', 'unzlg8cama', 'l5tm7jhm8l',\n",
       "       'v3aowyasvh', 'lekjc0hwht', 'zloaowbu80', 'e02a1o31xr',\n",
       "       'ggz2332tvl', 'xvn1to9kem', 'n4v1f1p175', 'asxt1jiv0i',\n",
       "       'ssi4tidptj', '2uvlqt5s2s', 'kgwsmeydrx', 'aztsstrfei',\n",
       "       'ahmbj4m0mr', 'voldlq5nks', '05te057kdk', 'yyfc5xy95t',\n",
       "       '52y8ktrci9', 't8x0ns5s5d', 'bxb6s8ivmz', '1r7rsa18w6',\n",
       "       '5lmtwd5xqg', '9kqrbcuxtz', 'k4kzvz78jo', '22uh7tg9un',\n",
       "       'nz5yedz83g', 'w16a4owwcg', 'iijqzmwi19', '2zptz5igdq',\n",
       "       '9f2yg7q6k9', '2vottqwdxp', 'zx6l7fdlxj', 'josgy8a7c4',\n",
       "       'vzistopbzz', 'mjjycdil4q', 'b7224k5xcx', '5nrofmqm46',\n",
       "       '9tjdkzlbq5', 'r3tf0qzww0', 'd519bzkrcj', 'vceaocdm4e',\n",
       "       '2z3y52fnbj', '9qgt20gfx1', 'amh8jhyafu', 'jcrba1pllq',\n",
       "       '09tg20ch31', 'alb4ztnxqt', 'tnd3aqtz95', 'qspahhry2j',\n",
       "       'qfc5hpez9m', 'l1mk6sw87e', 'x8fql7o3of', 'mbx7u1pfe4',\n",
       "       '58mg56c3kp', '15c3zchgf5', 'g8zaigkgbs', '6mjb9tjy35',\n",
       "       'eqk4tmttv1', 'b11fnnwlfs', 'ak23yiwv0w', 'loy84zyw28',\n",
       "       'fowohno7w6', 'kopa9hxaic', 'uehq8nzkbt', '4cm4p9vxrw',\n",
       "       'vf59lzxgrn', 'p8k7hcuxwb', 'zxfz251tyb', 'j2uemn345w',\n",
       "       'ocu2c6lmje', '5n4mqbz1c3', 'axrao9mp5b', 'gjgpbn2s09',\n",
       "       'h6htdmyita', '9cz1p5bjwb', 'wlmmj1467t', 'rs7mkgp3nh',\n",
       "       'nalvdgnyr8', 'grmfvp315v', 'tv1c15lhdx', '73aou14unt',\n",
       "       'y30iutwqed', '7d0p8rll03', '4qhiquzr96', 's9c2gm5dh2',\n",
       "       'n2pvxd6wz2', '2tdt2s4t4g', 'j5w9mgzzes', '8j32rbezmf',\n",
       "       'h5qsk047sn', 'wdhe6aoae2', 'b1duwjzp6s', 'x1m4mpfp1n',\n",
       "       'r1xa9s20q8', 'iraneaxpwe', 'fz5ilhf2c5', 'gas4fwgpnj',\n",
       "       'htz8ze6ggd', 'zfdm4jhbs5', 'nl8zze9ho4', 'p6nkdl0hf0',\n",
       "       't2ps6g4i5h', 'lji6yk0oro', 'af0sz65jtn', 'ciz2qf6r1f',\n",
       "       'ix0qmbk3p7', 'z04p57ukxs', 'kmn7dwhffk', '0r1kf7ge38',\n",
       "       'rlu1fjlgy4', 'hd0kbaa1pr', 'ypn0ake4de', 'jcasm910vl',\n",
       "       '3ndbw300w0', 'fvsxvg6udz', 'tvpovfgk47', 'scmn82tuh5',\n",
       "       'kvanvf1l8a', 'c9htvaq3id', 'eminoa1z5w', 'w1xod0h5dl',\n",
       "       'flmnyxv2he', 'ua64c8jeg9', 'a5mv3kefab', 'styagm31sl',\n",
       "       'pc837he401', '7hm7akbqcy', 'avjfocenxy', 'hol87r8jtb',\n",
       "       '26a5qc07an', 'b9kfl0u1qf', '7tswgivbvz', 'rj232oe550',\n",
       "       '54ctlj4bwx', 'i0g6l8aujk', 'w1igfgkwmx', 'n454k0t001',\n",
       "       'b70f2333sx', 'qfklpz8th8', 'evpytf2ebt', '9su5qw894r',\n",
       "       'yyxf2nezx5', 'dzxpj0eicb', 'yf86l4dg71', 'ed58hjcijs',\n",
       "       'bqzy7am763', 'znjnvf4ttg', '90mt8ywpwi', '1pmsr8zsqc',\n",
       "       '89crsvy9yy', 'mt1vwbtsl9', 'nq4kiyu7s8', 'i1llpq24nt',\n",
       "       '20j21o6hio', 'o1xbmxn1f8', 'edj26vhem4', 'vrvb1hlpia',\n",
       "       'rjx2xqe2w3', 'ifs76cnqkm', 'xlsrithpns', 'mdwvxpxkyi',\n",
       "       '7ui3bamtxl', 'g91q31myb3', '8tkwx95ii7', 'hw1coq8clp',\n",
       "       'hvg2iwlqwc', 'm2fbl50cbh', '1p25zei8pp', 'ssajn5q70l',\n",
       "       'co40aoczkf', 'idzkt07za7', 'irxbgcel0q', 'wvmvlbi9jj',\n",
       "       'ptxthf9vjf', '2bvqbqtlqz', 'fysdvymsy9', '3hyuq7kdcn',\n",
       "       'el1vvk5oac', 'gtnj087o0j', 'kcy2ck1lyq', 'fm02oklqng',\n",
       "       'nd4uk3k5cv', '1apslfataj', '35y3galqby', 'sd9i79q6bq',\n",
       "       'cp92cam8l1', 'h2jwy33h4t', 'w42itaosdi', 'yw6rvay1op',\n",
       "       'o113kcug35', 'zvydn7xjj8', 'mqd5bmddaw', '4algno2zcu',\n",
       "       'btoy4fwzle', 'obz27bl5s1', '8399p3hwim', 'n23xbbkki1',\n",
       "       'q77hiv6xtk', 'fzhhx67kkj', 'qmnob6p99n', 'd4k9stsn6l',\n",
       "       'ubmg8gh1ch', 'uwllhng7d8', '6mm7kbrakx', 'elorhd2f27',\n",
       "       '2gs4l50uyz', 'mqu6oia6fv', 'x2nm2wcjoy', '5i7cwq2alh',\n",
       "       'q3huaaatul', '1br3apdhoy', 'izqqn0mg2g', 'uat504rjfg',\n",
       "       'e9ehsirhs6', 'fo1hzdbedn', 'oioh8d8r0m', 'bmfl2ensqn',\n",
       "       '04ysyi4log', 'eugj0rpysa', 'l2mw65uoif', 'ow9gqb7xdp',\n",
       "       'c5nfebolq3', '1g0j29wbov', 'h43gm2fixy', 'ieafmjmskg',\n",
       "       'd7550l5la2', 'br8uwieikr', 'weyy9irew2', 'op15sailr1',\n",
       "       'zzyh9iy2p0', 'i4wpae4ka9', 'a3tnzezkoh', 'q4zxo56hoc',\n",
       "       'sreuke2zho', 'z01wtjdqr8', 'qnar046gw8', 'zffy4n8m1z',\n",
       "       'jmysrsf6uw', 'mam7xlip7l', '4og2mmvrn7', 'sobtre5uio',\n",
       "       '8mmcwbnyac', 'j4khpfwtue', '8wmklcgqgb', 'lbwkge83bk',\n",
       "       'qnsbf7idfb', 'acm0oq171n', 's4dk1mbgfd', 'k3u5xj6fsw',\n",
       "       '1vtzvk2qnt', 'z0t8tnw1hn', 'chgrmtlcg2', 'hl8xto0yql',\n",
       "       'w6igtedcwz', 'y6azcsgpae', '41ladqfyge', 'a8wmie1c0i',\n",
       "       'g86uf30bfb', '92kqm0gnkb', '2mkvvowkx1', 'yqu69u9cwc',\n",
       "       'hl2fljwtdc', 'gnh776wn4s', 'lspvhacb08', 'z07w3ojn8c',\n",
       "       'nrw3qti22x', 'fdbhud8hn1', 'hc2yjc6lme', 'srxb5ylk9x',\n",
       "       'xnktoeqakj', 'p131hf4mza', 'ec2u2a4phh', 'niuqadxpp1',\n",
       "       '3j06gfhnpb', 'yfrt88ma17', '4zjpjhksdi', 'peeg4zwqr6',\n",
       "       'sankppez26', '6g7wmtlvgh', 'p5d513w7mi', '1x43e9zhy4',\n",
       "       'uuy1vzqjfs', 'ry3luhrecm', 'bkr9jpvosg', 'lamf5ofi50',\n",
       "       '4wlxkl8v8w', 'mkiibkj648', 'vmbbw9pgmx', 'e7xoxs3r6j',\n",
       "       'bjaw6ini8m', 'rwm7yetzve', 'kby5ceqdtp', 'b14vbnmczm',\n",
       "       'yvdc4rz8by', '22s2up9y72', 'z4m1miuoyj', 'ntnu3tabcl',\n",
       "       'vqo4rkh8sn', '3ehy0g3imr', 'mp3ibzdwd7', 'f38qtnx0x5',\n",
       "       '637oethetg', 'utvz3wnh39', 'whi4wdtaqy', 'u7kkd291a9',\n",
       "       'ny1imme8if', '287esd2kwo', 'va2ckr1z01', '84oib7acaa',\n",
       "       'ymt48h7g03', 'rrvjgjmyoj', 'f2k74zks2a', '1u3h1nqhdh',\n",
       "       'ra5q2my14g', '8unttec776', 'r0i7kkg4gx', 'a6f00ogup5',\n",
       "       'vyp1xabegd', 'woujqq4qhu', 'cyntoxchty', '7qsk1hkjy7',\n",
       "       'xzr7w5s03t', 'ntcggxsgp4', 'yonf6zn53n', 'n9y88xe8ih',\n",
       "       'i60thzqp0w', 'vt3q9nd5a8', 'rqyerqlwfz', '4yqrxgbzyc',\n",
       "       'vlrih4qqep', '65n67yp52f', 'zcm7e4svtf', 'oxatpqjwmm',\n",
       "       '6smrs9l4ji', 'mto0n8368i', 'mlva59pf3a', '5j62q3c066',\n",
       "       'nhdi9vm0yc', 's37j76rjef', 'usgk0g2tgv', 'b959nc9l6x',\n",
       "       'lpcp4m133y', 'qyboe4eryc', 'wpo26wetg9', 'okzm6ola5t',\n",
       "       'tkr79y43yl', 'rpobfkf5l2', 'vghsrc0agc', 'ihbuhk0dg0',\n",
       "       'edcvqf9c3y', 'x2zk7ugjk4', 'vu41czl5ow', 'winn1rujjv',\n",
       "       'j05f1vr7b9', 'xutpnf3gdt', 'bgyj1n006n', 'tzc8ecxmp7',\n",
       "       'd1t9slrg78', '201lr6umjp', 'pvjz9j2cmr', 'mldekna6zb',\n",
       "       '1q12p33xti', 'y1hqqajm9s', 'ntti136rga', 'mscujvt2lp',\n",
       "       '3vnl23db0z', '7qc8xburnm', 'uxflxx5u1b', 'adwg0gh9rb',\n",
       "       'rs1tah8vll', 'pr1kd8ehzd', '5q2gducubf', 'tn9gbuadi0',\n",
       "       'e7pycx17cq', 'ngkxne3rde', 'xxkb2px9i2', 'ru544v7qbo',\n",
       "       'r2659g591m', 'xawklqhp1a', 'zdh8xf7m61', '5rstl8hx5u',\n",
       "       '3ytzbgdeom', '4l599j1ws2', 'ypxk2z881c', '6j07edkdzd',\n",
       "       '62nvjgiz5f', 'fc9lx7vqqi', 'zl3gwu42o5', 'nu4ylwce8j',\n",
       "       '8ftl6w06b3', 'btibxkf4f8', 'zdjmqnief9', 'rsmpeix6ui',\n",
       "       'g090vwc9nv', 'he62ggkqop', 'mprkun12gj', '5m91u533bp',\n",
       "       '3q3xuw4lkc', 'er7clbqhaa', '0xmenggai3', '1eoj0e0jeq',\n",
       "       'fuqda3lnhh', 'ijw2fqyx0d', '2ai8b5rt5s', 'pnw10qpnxl',\n",
       "       'gb2rp6w1yy', 'chqcr0qxgg', '2guutcc0gv', 'dt8lh5fuue',\n",
       "       'aaynld18zm', 'rj76ca3luy', 'r63ysves70', 'dkmypuq7ir',\n",
       "       '9axf9h8lms', '2e990hfb31', 'rlnt4sd22t', '2w42trpsoy',\n",
       "       '5o8h7u2yb6', '8kx0jqbj3c', 'q775hm1a0p', 'l6n3to4at1',\n",
       "       'ofr81wburw', 'oneh08q7bi', 'ono5ak2236', '2t37wvgfj3',\n",
       "       'm39kbpua0b', '1pibxvs6ho', 'cp9jg04smf', '1p5vbodvxb',\n",
       "       '9k6pwiv0ue', 's7xpknfjmu', 'dyp3mrc0x4', 'yxbgdu5350',\n",
       "       'rr8essu8fs', 'w0ofegehi6', 'egznhe4ydy', 'ujdbcvxk1n',\n",
       "       'vyf8hqvkx4', '7j550zwk1c', '5um02nrkk1', '70ym1ebrwq',\n",
       "       '278zuc81c9', 'wng3h2vrrd', 'dojc0o57g0', 'rzivxvngey',\n",
       "       'cyov8tp6ml', '24qctz7o9e', 'ry0op8y7vi', 'z45o426kmd',\n",
       "       'igrh6uz3yb', 'pl5vxq7rss', '0q3yf8rrxs', 'mht71qbzp0',\n",
       "       'w20andh3b6', 'xuymfq6pky', 'lvrfb6hogc', 'tncxp3nc7h',\n",
       "       'cf9a4u3g5i', 'gzfed63z6x', 'y4x1f170qc', 'gkeg0ic7ya',\n",
       "       '4ujge04u7l', '5pkhd000km', '7t06lcsbrg', 'pbox0d13y7',\n",
       "       'vegmmr52cw', 'jzvrvkq0uj', 'gj6r1unb70', '6wzawownwo',\n",
       "       'jlovkeqmgx', 'ptx6kt7wt1', 'x78hyi2v4z', 'zl7oo7lvgf',\n",
       "       'nqdpm5nh9t', '6gfypgph6o', 'qe713r2zkk', 'szpjufp0mj',\n",
       "       '3jhj495sx8', 'yd7o9a15h5', 'dab7rj1n56', 'mezcew7ppl',\n",
       "       'mbbqvklodd', 'hr3hvcpn11', 'rl05leld4l', 'iz36z0wk2a',\n",
       "       '5frh37o7fk', 'vqeoy2iifx', 'hrmmfh6piz', '4o280xro4p',\n",
       "       'd4ra0njqkg', 'qqifutcaxm', '9g2ueei9y8', '0yeq1awsx6',\n",
       "       'ehr7qy3hs3', '4ah3r28x52', 'ul6xmhux1f', 'af596t72qp',\n",
       "       'motly75p5p', '9ylku7k7dz', 'e9mr5tw9in', '59svvzydp2',\n",
       "       'x5n577qu3g', 'zo4qmwq9r4', 'n5fotjquhz', 'iyq3md35ok',\n",
       "       'z4b0lx3phd', 'mnxq5h99s2', '6n7cegfqaz', 'ed462l5smd',\n",
       "       'zsom5r24r7', 'x8rdu1weeh', 'jh792xnqci', 'hozaute75g',\n",
       "       '0qoch3sg8n', 'pmymztmxgt', 't99ymgebgq', '0ixhryr2nm',\n",
       "       'lfna1xdx1c', 'a6enerydgp', '5r3ctkwpzc', 'c2iju9wekp',\n",
       "       '422itzivlg', 'hhpjbcn4mx', 'uj6wf005my', 'vusrlt9ftr',\n",
       "       'iqxegsn0ox', 'jl36tys86q', 'wzsalwza8d', 'ibi9p03lja',\n",
       "       'qn24k3kt2m', 'z39mcqia8s', 'gznrfd648a', 'qu482mi38y'],\n",
       "      dtype=object)"
      ]
     },
     "execution_count": 12,
     "metadata": {},
     "output_type": "execute_result"
    }
   ],
   "source": [
    "players[\"AccountId\"].unique()"
   ]
  },
  {
   "cell_type": "code",
   "execution_count": 13,
   "metadata": {},
   "outputs": [
    {
     "data": {
      "text/plain": [
       "1000"
      ]
     },
     "execution_count": 13,
     "metadata": {},
     "output_type": "execute_result"
    }
   ],
   "source": [
    "players[\"AccountId\"].nunique()"
   ]
  },
  {
   "cell_type": "code",
   "execution_count": 14,
   "metadata": {},
   "outputs": [
    {
     "data": {
      "text/plain": [
       "array([3887581556, 7847705450, 7005121609, 8437991648, 3609218616,\n",
       "       7031986051, 5182028432, 3665734373, 3488097433, 3562040739,\n",
       "       6723870281, 8722967993, 5370833538, 1752071508, 9408543320,\n",
       "       8685006215, 3422001834, 4027358199, 5836746031, 4356511110,\n",
       "       6536059946, 7681922086, 7533178935, 3594038539, 4031051835,\n",
       "       5029980789, 3545262772, 9512321150, 4971858537, 8242389685,\n",
       "       5692012672, 4738425000, 5835867002, 2346816385, 7807236984,\n",
       "       6902437625, 2256133419, 8493765890, 9870304417, 8387186855,\n",
       "       4145122027, 7876309986, 5493279528, 1279000595, 1502962507,\n",
       "       5119714752, 6631191922, 1816729060, 3273206733, 4217470070,\n",
       "       4187035053, 8540747987, 1910216990, 7852530658, 4205934848,\n",
       "       7681189725, 1139495753, 9233256770, 6901582385, 3490297765,\n",
       "       8417073921, 2378116701, 5452125578, 5569413188, 2783796726,\n",
       "       8225935418, 6441323808, 3727116599, 6309322483, 4020798464,\n",
       "       9307866463, 6969537527, 9125778192, 2004478966, 5354227956,\n",
       "       7926298931, 2919298634, 8936299782, 1752121632, 6020436354,\n",
       "       6593305246, 8481909783, 6863841779, 2771147490, 3822840370,\n",
       "       2933397413, 6079943514, 2854926593, 2197515341, 7987776529,\n",
       "       4714472888, 5603620464, 2418340702, 5719578803, 6811970624,\n",
       "       1456044119, 9374448344, 1862461968, 3039625951, 6411194864,\n",
       "       3598649459, 8847052979, 9788544818, 8201907628, 4124383653,\n",
       "       8897506848, 8654028418, 1718976016, 7447662063, 6536173661,\n",
       "       3997355951, 3978091577, 7109593642, 1766373215, 3169263239,\n",
       "       2730081960, 5350521753, 8249341981, 6692316206, 6249245828,\n",
       "       9111942388, 2258058891, 3973521224, 7765254498, 9911004914,\n",
       "       9408892762, 1036020982, 2869042835, 6227261306, 5776449444,\n",
       "       1897835110, 9330011386, 5028449753, 5183897899, 2517732149,\n",
       "       5952950913, 2780613081, 5159337063, 9082747726, 2729531333,\n",
       "       5108564405, 3443196705, 5844329264, 8769457061, 6776592890,\n",
       "       4915175880, 4809187404, 3295554010, 9280817790, 3138089406,\n",
       "       5059677080, 5020149236, 4399532870, 9076185047, 6454227191,\n",
       "       7386003760, 5847410968, 1048117176, 1992632533, 1727820178,\n",
       "       2041105448, 1187628327, 6188622350, 6350784460, 4320576608,\n",
       "       8472369131, 8513977096, 7850356930, 3168527231, 7749705286,\n",
       "       8777273645, 8437710692, 1944662055, 1996175798, 1667100655,\n",
       "       4494890697, 8972150859, 5241979249, 7968717305, 4948410766,\n",
       "       1367057505, 9550304081, 7930289495, 3765945215, 5260661544,\n",
       "       8469546949, 7909261668, 6207183339, 5591327881, 6110275923,\n",
       "       5319878736, 3679157558, 8789559478, 5975532588, 5590353255,\n",
       "       2934211186, 1708297073, 4180084805, 9597589475, 4000846777,\n",
       "       8416016383, 1515544038, 5648246733, 9186918832, 7583536828,\n",
       "       6263514268, 3407806857, 8912699321, 7156548211, 9350479393,\n",
       "       7796848045, 1021879209, 8094254028, 4795256297, 8821973953,\n",
       "       7196320971, 6858978623, 8257635691, 9142768434, 9553648054,\n",
       "       7682009516, 9318805215, 7602889861, 4420711043, 6056008753,\n",
       "       9617352143, 3381222091, 5469194979, 8466100623, 9591329818,\n",
       "       6934551288, 9585591209, 9658709390, 2623283609, 5353640172,\n",
       "       9715650351, 1077825933, 6925828862, 9134893416, 6535162498,\n",
       "       8277160625, 1816774519, 4930767824, 2508688490, 5374681156,\n",
       "       4049814995, 9728286346, 3299518083, 5656036765, 9826780166,\n",
       "       9921328392, 3778143709, 7716123384, 1134481326, 4160140627,\n",
       "       5445932740, 1895106323, 2856829379, 9999018879, 2407960604,\n",
       "       5095607352, 5712498542, 7001613641, 5844938083, 6683340389,\n",
       "       6428239246, 7512358693, 3241886772, 6647962503, 6022884158,\n",
       "       4628414499, 2921528550, 4795329415, 8134758300, 3935373805,\n",
       "       4706862924, 6982551820, 2731406850, 9545251757, 9419526066,\n",
       "       5962103643, 6120781753, 6248602523, 4404340539, 1639673044,\n",
       "       9058947957, 3421286587, 9248919117, 9788777883, 5782684796,\n",
       "       9713706217, 9444450429, 6685390516, 5217310024, 9618415445,\n",
       "       9347696464, 7229614068, 4534697142, 1222667537, 5301464570,\n",
       "       5014230319, 4479208260, 5138328026, 3260350038, 3376418352,\n",
       "       9864624292, 8835289726, 2167857335, 4313304363, 6111030771,\n",
       "       4773968640, 1374242481, 6342549048, 4312716535, 5684879266,\n",
       "       3630073091, 5168256560, 8209806297, 5886509256, 4788982906,\n",
       "       4906498466, 9389350104, 5016408432, 1008024186, 6882779408,\n",
       "       4733111789, 3795189497, 4428329907, 4019273981, 2657993842,\n",
       "       2750066265, 2257213006, 3685668916, 9626751996, 3784916704,\n",
       "       7854319509, 1129466949, 5126880330, 2551389194, 7148722615,\n",
       "       3089456795, 5788951893, 3644753014, 4776092946, 2235270409,\n",
       "       8905287137, 5089175048, 3153409044, 9466072469, 1950922825,\n",
       "       6325769549, 2134627190, 7045165178, 4530090218, 1249023625,\n",
       "       6858357142, 9207467953, 9767869811, 9669299342, 1073108488,\n",
       "       8305077365, 3721973090, 1996760440, 4313151992, 4304130519,\n",
       "       4215494709, 4966418989, 2889954002, 5485951792, 8875524474,\n",
       "       3081971721, 1003452062, 1720597878, 5579879986, 9545432015,\n",
       "       4374699486, 5424628707, 8294890270, 9631049242, 1907898280,\n",
       "       2906323424, 2171657140, 3784401811, 7990125543, 6958633636,\n",
       "       7101629444, 1166918249, 5825308976, 4279109801, 3923747925,\n",
       "       1329891140, 6084817052, 5237160675, 6110668549, 5480955684,\n",
       "       2766944760, 4454426269, 9174587162, 4272877555, 7022630949,\n",
       "       3120236711, 8089534537, 9648377048, 7414014998, 6602260253,\n",
       "       4154827763, 4167573353, 4319489037, 1919609615, 1817914683,\n",
       "       9161143085, 9123198269, 6950960500, 9383894093, 3625485559,\n",
       "       8683467958, 1074763648, 9924350063, 2142867327, 8395845941,\n",
       "       3229561613, 4757794143, 1071849434, 8727886641, 6939238903,\n",
       "       1491679158, 4085356648, 6819231534, 5508268742, 8197749281,\n",
       "       6757211987, 8253611796, 2065130619, 7877484586, 8319163953,\n",
       "       8872640962, 8964586634, 4521880467, 5932142067, 6240452481,\n",
       "       2826791451, 4225726186, 8954649603, 9762320595, 8991114912,\n",
       "       3405417598, 4570265314, 5334787429, 5811282760, 1753309400,\n",
       "       9861904236, 6687325310, 9697920754, 1802383654, 4878137000,\n",
       "       4447471264, 5313307886, 2693212479, 1899873539, 2153922776,\n",
       "       6424111008, 2320840478, 7198372054, 5215092720, 2384706059,\n",
       "       8987661596, 4479770352, 8191162120, 7539629902, 3545184673,\n",
       "       5990831768, 6051224684, 3925295409, 5320553803, 9977516550,\n",
       "       1348061482, 5261641749, 9501354476, 7843202547, 7375289060,\n",
       "       2800179301, 7910929361, 7130953524, 3202751815, 6531370651,\n",
       "       3673910263, 7934190511, 1315332882, 4625963827, 7760271911,\n",
       "       2723177118, 4060459252, 2708965235, 9233207489, 7860355714,\n",
       "       4964485362, 6958065571, 7716028867, 8965654772, 9649663091,\n",
       "       4663468439, 9137324017, 8981481727, 3536879161, 3756539045,\n",
       "       8892408786, 6955467978, 2815548609, 7414997384, 8628705878,\n",
       "       4831091818, 8032458306, 8863136498, 1851253707, 6734549224,\n",
       "       7422054146, 4163739670, 4829698086, 6712940409, 3759344205,\n",
       "       8243894495, 4034830897, 7004871464, 1744417332, 2432121753,\n",
       "       3392437624, 9237289851, 7659913522, 2886671673, 7620204911,\n",
       "       9384357723, 6486077772, 5649881802, 3989308925, 2497988312,\n",
       "       2873088390, 8824775593, 9913484834, 1187887960, 6502642559,\n",
       "       3069121875, 1567761365, 7607172937, 7730005491, 3477828375,\n",
       "       9209310152, 3993169407, 5632825369, 5321193454, 2555452617,\n",
       "       4249915854, 4992001157, 7227399558, 2049153692, 6643546114,\n",
       "       8846366373, 4286934622, 2280860969, 5489947958, 3611613045,\n",
       "       9144089115, 1173943570, 2788649998, 2400042258, 2057158538,\n",
       "       4609056780, 4908197324, 2875389074, 7887921094, 6009338965,\n",
       "       4304161254, 3589643214, 4219318204, 1401279702, 7015291220,\n",
       "       4879337649, 7220156559, 9619987381, 2666911961, 6851586773,\n",
       "       3868040170, 7427534630, 4502838895, 9187053437, 3172417116,\n",
       "       4879856339, 8960039152, 5282226078, 6894357758, 3982636771,\n",
       "       7222960171, 4071816233, 4224531105, 7960859397, 1391642687,\n",
       "       7140386835, 7946201393, 5721867428, 1665025341, 3604687614,\n",
       "       9143053710, 2997128862, 7401325702, 6095038289, 8813009515,\n",
       "       4105801839, 3197580905, 6968684654, 9753875177, 9576714078,\n",
       "       6173879323, 5963893341, 2566905445, 4567655299, 8802835442,\n",
       "       9134238552, 4135393607, 6448871425, 2605699635, 3755701106,\n",
       "       9406796098, 2929604125, 5307520758, 1220725533, 4247278145,\n",
       "       9329873881, 6959737216, 3663720933, 2631000445, 6266518346,\n",
       "       5872042602, 3331283699, 6486256426, 5251985217, 7564442303,\n",
       "       2426669052, 1543081705, 2799796389, 9310218208, 9753830378,\n",
       "       6737484067, 9941847462, 8677536247, 8286044987, 5504404257,\n",
       "       6113320792, 8879649469, 1110851301, 6603457419, 8387480307,\n",
       "       6923954188, 7687349501, 7918009044, 1056774753, 9477306913,\n",
       "       7128077773, 4724544883, 9617608846, 7724732802, 7161799269,\n",
       "       1407937647, 6175894664, 1225443491, 1797698393, 2049342450,\n",
       "       3036605361, 9293758692, 4356217318, 2951163226, 8250468647,\n",
       "       8755587349, 9311172845, 2649043767, 3542098940, 9302723313,\n",
       "       6593724222, 9488610679, 4822429682, 5729769708, 7395233439,\n",
       "       2598048600, 7204275743, 7398086589, 5042213040, 8284846896,\n",
       "       2986326032, 5903388780, 7251536930, 8455498081, 1259866000,\n",
       "       9920690603, 9901341834, 4064042387, 7935369112, 1377040479,\n",
       "       1363350151, 5088228455, 9562382785, 7395026024, 6896824707,\n",
       "       5269039539, 7401563317, 8681455827, 3142992964, 9835187141,\n",
       "       4627619785, 4224432131, 3636455228, 8493185248, 5272587414,\n",
       "       9243318139, 7704173390, 2329485190, 7124160291, 4838197394,\n",
       "       3345013177, 7648851343, 7119410370, 6258052927, 4798520506,\n",
       "       2055882670, 2402014068, 2376188704, 4364984233, 9223106184,\n",
       "       4539857982, 4394147024, 9409264590, 8882949245, 1384358756,\n",
       "       7276030383, 6129426904, 9494237535, 4026382135, 6698854303,\n",
       "       8696116871, 5776897577, 7152710287, 2017100714, 4981129877,\n",
       "       1175477128, 6455289545, 1263150848, 6570464506, 5352747602,\n",
       "       4960388549, 5755230391, 4440280094, 3557525996, 3733469127,\n",
       "       6242157677, 5595521587, 8473025823, 7708163600, 8779051317,\n",
       "       6682597356, 5334159843, 6460500081, 1039530254, 5410855127,\n",
       "       3210317840, 2650853236, 9461469132, 1113772739, 3271992562,\n",
       "       4327394662, 3561224330, 1350125524, 9002053499, 4589005703,\n",
       "       9090923541, 1670574742, 3630477141, 3570320410, 1217988677,\n",
       "       2902091833, 6767100191, 8042777287, 6718413299, 9520118148,\n",
       "       5715781216, 1799467633, 6475014099, 2768924634, 3530455256,\n",
       "       8410770892, 3894866060, 6004864613, 3359424950, 8381684178,\n",
       "       5640613392, 2441178681, 2482891095, 3561311808, 7173990591,\n",
       "       9816051899, 2757181653, 5723231781, 1855445009, 4256102660,\n",
       "       1859485810, 3703258041, 1993551460, 3228956903, 2295691189,\n",
       "       5719638320, 5180118709, 2228736135, 3004740779, 8452441052,\n",
       "       7120245757, 3038568726, 9180273354, 9855025364, 3240554066,\n",
       "       2673716017, 5957497601, 5897164557, 7899414077, 5928185989,\n",
       "       7839974907, 4842805879, 2558475640, 6829921208, 9910321229,\n",
       "       2667302850, 5298229795, 7366963306, 9536171022, 6124735115,\n",
       "       2788018481, 1835753942, 6287176975, 6653418070, 6002979110,\n",
       "       6579146164, 3780726869, 7168634930, 5018626260, 1480124058,\n",
       "       4042740749, 7968512611, 7753111426, 2270513421, 1305270417,\n",
       "       2009742838, 5440868831, 8811323256, 8806291039, 7184209444,\n",
       "       2720536088, 4290862535, 8214493674, 7480596887, 5180640101,\n",
       "       7977666971, 1725607938, 9623749151, 1657964752, 5704806589,\n",
       "       5657458942, 5266326652, 8412694174, 5719681004, 3719638472,\n",
       "       3568394052, 9158396250, 8404036403, 7009977809, 6725423820,\n",
       "       2258686032, 5001772424, 9630861695, 8212304711, 9563018833,\n",
       "       9751017515, 2381191860, 4353601507, 7599120247, 6887687007,\n",
       "       7139669830, 1923617176, 5577302403, 9560331032, 7550564954,\n",
       "       9423618444, 7038684572, 3180083415, 9799710372, 4349469328,\n",
       "       1101433139, 2102129472, 2277854666, 4622252570, 2752259310,\n",
       "       5201986063, 7609587639, 5999371707, 1147165269, 8630819387,\n",
       "       6872834906, 3238423166, 3960636483, 7911667585, 6444622508,\n",
       "       8542315784, 4966148032, 4450771376, 2458831810, 4854330952,\n",
       "       6314174061, 9175102949, 8312430965, 6296724756, 6439579199,\n",
       "       9099796993, 9683319570, 5175582438, 8325062560, 6454004952,\n",
       "       8308045070, 4848474613, 7246186821, 2688196569, 1590099955,\n",
       "       4629747977, 1669353164, 1438693298, 4010670848, 4442554830,\n",
       "       1905744017, 6395412297, 2522280171, 3698305709, 2872761292,\n",
       "       5599894411, 6237242496, 8616240350, 1433627374, 9341350367,\n",
       "       4291178566, 1104242070, 1257429873, 3334692224, 9416723241,\n",
       "       4147359622, 9817736749, 2550536315, 5441542989, 2322271391,\n",
       "       9008391581, 6138129749, 7968409170, 4677626720, 9826072896,\n",
       "       3003632964, 3790376925, 3955762151, 7567958026, 5210308980,\n",
       "       2375106696, 2656639420, 3488995114, 9281332056, 5676898561,\n",
       "       1605689737, 1418441391, 5636954038, 2679084421, 3571891436,\n",
       "       2420178452, 9208550370, 7294754188, 4338238709, 5409834735,\n",
       "       4256760247, 2432239860, 7858138614, 5819651284, 4147513695,\n",
       "       9214442275, 2291009854, 8489065372, 5807315605, 9901889476,\n",
       "       4636538480, 9937523708, 9750556308, 9110892172, 9306507014,\n",
       "       9622840752, 3713956284, 6677439984, 4421431461, 8746199414,\n",
       "       6482640039, 7360398683, 6877956071, 5076578596, 2126018298],\n",
       "      dtype=int64)"
      ]
     },
     "execution_count": 14,
     "metadata": {},
     "output_type": "execute_result"
    }
   ],
   "source": [
    "players[\"PlayerNr\"].unique()"
   ]
  },
  {
   "cell_type": "code",
   "execution_count": 15,
   "metadata": {},
   "outputs": [
    {
     "data": {
      "text/plain": [
       "1000"
      ]
     },
     "execution_count": 15,
     "metadata": {},
     "output_type": "execute_result"
    }
   ],
   "source": [
    "players[\"PlayerNr\"].nunique()"
   ]
  },
  {
   "cell_type": "code",
   "execution_count": 16,
   "metadata": {},
   "outputs": [
    {
     "data": {
      "text/plain": [
       "array(['newspaper', 'tv', 'facebook', 'web', 'direct'], dtype=object)"
      ]
     },
     "execution_count": 16,
     "metadata": {},
     "output_type": "execute_result"
    }
   ],
   "source": [
    "players[\"Source\"].unique()"
   ]
  },
  {
   "cell_type": "code",
   "execution_count": 17,
   "metadata": {},
   "outputs": [
    {
     "data": {
      "text/plain": [
       "5"
      ]
     },
     "execution_count": 17,
     "metadata": {},
     "output_type": "execute_result"
    }
   ],
   "source": [
    "players[\"Source\"].nunique()"
   ]
  },
  {
   "cell_type": "code",
   "execution_count": 18,
   "metadata": {},
   "outputs": [
    {
     "data": {
      "text/plain": [
       "array(['Games', 'Scratchard', 'Sportsbook', 'Bingo', 'Lottery'],\n",
       "      dtype=object)"
      ]
     },
     "execution_count": 18,
     "metadata": {},
     "output_type": "execute_result"
    }
   ],
   "source": [
    "players[\"First_genre\"].unique()"
   ]
  },
  {
   "cell_type": "code",
   "execution_count": 19,
   "metadata": {},
   "outputs": [
    {
     "data": {
      "text/plain": [
       "5"
      ]
     },
     "execution_count": 19,
     "metadata": {},
     "output_type": "execute_result"
    }
   ],
   "source": [
    "players[\"First_genre\"].nunique()"
   ]
  },
  {
   "cell_type": "code",
   "execution_count": 20,
   "metadata": {},
   "outputs": [
    {
     "data": {
      "text/plain": [
       "array([nan, 'SEK', 'EUR', 'NZD'], dtype=object)"
      ]
     },
     "execution_count": 20,
     "metadata": {},
     "output_type": "execute_result"
    }
   ],
   "source": [
    "players[\"Currency\"].unique()"
   ]
  },
  {
   "cell_type": "code",
   "execution_count": 21,
   "metadata": {},
   "outputs": [
    {
     "data": {
      "text/plain": [
       "3"
      ]
     },
     "execution_count": 21,
     "metadata": {},
     "output_type": "execute_result"
    }
   ],
   "source": [
    "players[\"Currency\"].nunique()"
   ]
  },
  {
   "cell_type": "markdown",
   "metadata": {},
   "source": [
    "## SELFBANS"
   ]
  },
  {
   "cell_type": "code",
   "execution_count": 22,
   "metadata": {},
   "outputs": [],
   "source": [
    "selfbans = pd.read_csv(\n",
    "    INPUTS + \"\\\\\" + SELFBANS,\n",
    "    delimiter=SELFBANS_SEPARATOR,\n",
    "    parse_dates=True,\n",
    "    infer_datetime_format=True\n",
    "#     dtype=SELFBANS_DTYPE,\n",
    "#     parse_dates=SELFBANS_DATES,\n",
    "#     date_parser=myparser\n",
    ")"
   ]
  },
  {
   "cell_type": "code",
   "execution_count": 23,
   "metadata": {},
   "outputs": [
    {
     "name": "stdout",
     "output_type": "stream",
     "text": [
      "<class 'pandas.core.frame.DataFrame'>\n",
      "RangeIndex: 95 entries, 0 to 94\n",
      "Data columns (total 3 columns):\n",
      " #   Column         Non-Null Count  Dtype \n",
      "---  ------         --------------  ----- \n",
      " 0   AccountId      95 non-null     object\n",
      " 1   Selfban_start  95 non-null     object\n",
      " 2   Selfban_end    95 non-null     object\n",
      "dtypes: object(3)\n",
      "memory usage: 2.4+ KB\n"
     ]
    }
   ],
   "source": [
    "selfbans.info()"
   ]
  },
  {
   "cell_type": "code",
   "execution_count": 24,
   "metadata": {},
   "outputs": [
    {
     "data": {
      "text/html": [
       "<div>\n",
       "<style scoped>\n",
       "    .dataframe tbody tr th:only-of-type {\n",
       "        vertical-align: middle;\n",
       "    }\n",
       "\n",
       "    .dataframe tbody tr th {\n",
       "        vertical-align: top;\n",
       "    }\n",
       "\n",
       "    .dataframe thead th {\n",
       "        text-align: right;\n",
       "    }\n",
       "</style>\n",
       "<table border=\"1\" class=\"dataframe\">\n",
       "  <thead>\n",
       "    <tr style=\"text-align: right;\">\n",
       "      <th></th>\n",
       "      <th>AccountId</th>\n",
       "      <th>Selfban_start</th>\n",
       "      <th>Selfban_end</th>\n",
       "    </tr>\n",
       "  </thead>\n",
       "  <tbody>\n",
       "    <tr>\n",
       "      <th>0</th>\n",
       "      <td>eq0mordsce</td>\n",
       "      <td>2014-10-01</td>\n",
       "      <td>2020-07-12</td>\n",
       "    </tr>\n",
       "    <tr>\n",
       "      <th>1</th>\n",
       "      <td>g6e5wzy89r</td>\n",
       "      <td>2021-08-03</td>\n",
       "      <td>2021-09-02</td>\n",
       "    </tr>\n",
       "    <tr>\n",
       "      <th>2</th>\n",
       "      <td>fkl9appqov</td>\n",
       "      <td>2021-07-26</td>\n",
       "      <td>2021-08-28</td>\n",
       "    </tr>\n",
       "    <tr>\n",
       "      <th>3</th>\n",
       "      <td>z13kx2qaaa</td>\n",
       "      <td>2019-09-14</td>\n",
       "      <td>2021-02-01</td>\n",
       "    </tr>\n",
       "    <tr>\n",
       "      <th>4</th>\n",
       "      <td>aqnzj0cak4</td>\n",
       "      <td>2013-09-22</td>\n",
       "      <td>2016-12-02</td>\n",
       "    </tr>\n",
       "  </tbody>\n",
       "</table>\n",
       "</div>"
      ],
      "text/plain": [
       "    AccountId Selfban_start Selfban_end\n",
       "0  eq0mordsce    2014-10-01  2020-07-12\n",
       "1  g6e5wzy89r    2021-08-03  2021-09-02\n",
       "2  fkl9appqov    2021-07-26  2021-08-28\n",
       "3  z13kx2qaaa    2019-09-14  2021-02-01\n",
       "4  aqnzj0cak4    2013-09-22  2016-12-02"
      ]
     },
     "execution_count": 24,
     "metadata": {},
     "output_type": "execute_result"
    }
   ],
   "source": [
    "selfbans.head()"
   ]
  },
  {
   "cell_type": "code",
   "execution_count": 25,
   "metadata": {},
   "outputs": [
    {
     "data": {
      "text/plain": [
       "array(['eq0mordsce', 'g6e5wzy89r', 'fkl9appqov', 'z13kx2qaaa',\n",
       "       'aqnzj0cak4', 'f5pa04ntun', 'cqulc4z8g7', 'skj8htx5sc',\n",
       "       '6k2j3s0hzr', '2lq5yuo67h', 'j2jbg3smce', 'xv9i2oukk5',\n",
       "       'qr4buj37lu', '98bbehq9sx', '1nexc7yjpx', 'xpmvt1626e',\n",
       "       'nsfbai5ybl', '8dshmpamae', 'uofi9p5w57', '756goh7wbn',\n",
       "       '02gpdkskx5', 'g82pt0txj4', 'lla65ysn2n', 'kca9as796j',\n",
       "       'and2huyvs1', 'fcc4hi4fm4', '88ybhro26y', 'htw2ablisg',\n",
       "       'xpe11bbixf', 'ov0ggei6ir', '2tcyn6gb8r', 'xhud2k84ge',\n",
       "       'nap5brodj8', 'enj5xrc51x', '91pkj8ei4i', 'iqldb8ik0w',\n",
       "       'gnq1y05a1s', 'jbweku2wi1', 'yjo42cxtrn', 'unzlg8cama',\n",
       "       'v3aowyasvh', '52y8ktrci9', '9kqrbcuxtz', 'w16a4owwcg',\n",
       "       '4cm4p9vxrw', 'n2pvxd6wz2', 'b1duwjzp6s', 'fz5ilhf2c5',\n",
       "       'htz8ze6ggd', 'kvanvf1l8a', 'w1xod0h5dl', 'pc837he401',\n",
       "       'avjfocenxy', 'w1igfgkwmx', 'ifs76cnqkm', 'hw1coq8clp',\n",
       "       '6mm7kbrakx', 'bmfl2ensqn', 'yqu69u9cwc', '3j06gfhnpb',\n",
       "       '4zjpjhksdi', '637oethetg', '287esd2kwo', 'va2ckr1z01',\n",
       "       '65n67yp52f', '5j62q3c066', 'mscujvt2lp', 'r2659g591m',\n",
       "       'btibxkf4f8', 'pnw10qpnxl', 'rj76ca3luy', 'rlnt4sd22t',\n",
       "       'l6n3to4at1', 'vyf8hqvkx4', 'z45o426kmd', 'y4x1f170qc',\n",
       "       '7t06lcsbrg', 'x78hyi2v4z', '6n7cegfqaz', 'zsom5r24r7',\n",
       "       'jh792xnqci'], dtype=object)"
      ]
     },
     "execution_count": 25,
     "metadata": {},
     "output_type": "execute_result"
    }
   ],
   "source": [
    "selfbans[\"AccountId\"].unique()"
   ]
  },
  {
   "cell_type": "code",
   "execution_count": 26,
   "metadata": {},
   "outputs": [
    {
     "data": {
      "text/plain": [
       "81"
      ]
     },
     "execution_count": 26,
     "metadata": {},
     "output_type": "execute_result"
    }
   ],
   "source": [
    "selfbans[\"AccountId\"].nunique()"
   ]
  },
  {
   "cell_type": "code",
   "execution_count": 27,
   "metadata": {},
   "outputs": [
    {
     "data": {
      "text/plain": [
       "array(['2014-10-01', '2021-08-03', '2021-07-26', '2019-09-14',\n",
       "       '2013-09-22', '2017-05-19', '2019-06-12', '2017-01-15',\n",
       "       '2020-12-29', '2017-06-28', '2019-03-27', '2020-10-24',\n",
       "       '2019-11-21', '2021-12-17', '2019-06-23', '2019-07-24',\n",
       "       '2021-04-13', '2019-10-07', '2021-08-06', '2015-05-13',\n",
       "       '2017-05-02', '2020-12-11', '2019-06-07', '2021-03-20',\n",
       "       '2021-04-18', '2021-01-13', '2020-03-03', '2019-04-07',\n",
       "       '2021-06-10', '2018-05-30', '2019-03-22', '2021-09-09',\n",
       "       '2018-04-03', '2021-07-21', '2020-10-07', '2016-09-04',\n",
       "       '2015-08-08', '2020-02-08', '2021-11-13', '2020-01-30',\n",
       "       '2020-01-28', '2019-03-14', '2020-04-15', '2018-11-03',\n",
       "       '2020-04-05', '2016-07-15', '2015-07-10', '2020-10-04',\n",
       "       '2016-01-02', '2019-08-23', '2021-11-22', '2019-10-29',\n",
       "       '2015-10-08', '2019-08-07', '2015-08-26', '2017-10-15',\n",
       "       '2014-11-14', '2020-12-18', '2016-07-26', '2019-02-28',\n",
       "       '2021-09-12', '2020-02-14', '2017-01-03', '2021-06-09',\n",
       "       '2019-12-14', '2016-04-21', '2021-03-08', '2018-01-03',\n",
       "       '2021-04-11', '2016-12-23', '2020-11-22', '2014-03-30',\n",
       "       '2017-10-31', '2020-02-03', '2017-07-02', '2020-04-21',\n",
       "       '2018-11-10', '2020-12-09', '2019-05-13', '2020-04-06',\n",
       "       '2019-02-06', '2018-04-12', '2019-05-09', '2015-10-14',\n",
       "       '2011-04-19', '2016-05-14', '2019-01-12', '2018-11-29',\n",
       "       '2021-05-13', '2021-09-24'], dtype=object)"
      ]
     },
     "execution_count": 27,
     "metadata": {},
     "output_type": "execute_result"
    }
   ],
   "source": [
    "selfbans[\"Selfban_start\"].unique()"
   ]
  },
  {
   "cell_type": "code",
   "execution_count": 28,
   "metadata": {},
   "outputs": [
    {
     "data": {
      "text/plain": [
       "90"
      ]
     },
     "execution_count": 28,
     "metadata": {},
     "output_type": "execute_result"
    }
   ],
   "source": [
    "selfbans[\"Selfban_start\"].nunique()"
   ]
  },
  {
   "cell_type": "code",
   "execution_count": 29,
   "metadata": {},
   "outputs": [
    {
     "data": {
      "text/plain": [
       "array(['2020-07-12', '2021-09-02', '2021-08-28', '2021-02-01',\n",
       "       '2016-12-02', '2020-01-23', '2020-11-21', '2021-09-11',\n",
       "       '2021-03-24', '2018-03-11', '2020-02-06', '2021-10-18',\n",
       "       '2022-01-24', '2021-12-04', '2020-07-09', '2021-04-21',\n",
       "       '2021-08-15', '2021-09-21', '2018-02-26', '2021-04-27',\n",
       "       '2021-01-16', '2021-02-10', '2021-10-24', '2021-05-08',\n",
       "       '2021-08-05', '2021-04-17', '2021-08-11', '2021-07-14',\n",
       "       '2021-04-15', '2020-10-22', '2022-01-13', '2020-04-03',\n",
       "       '2022-01-04', '2020-10-19', '2019-02-25', '2022-01-03',\n",
       "       '2019-07-06', '2020-05-10', '2021-12-09', '2021-02-12',\n",
       "       '2020-02-05', '2021-03-12', '2021-11-28', '2019-03-22',\n",
       "       '2020-08-12', '2019-05-05', '2019-01-18', '2015-12-19',\n",
       "       '2020-12-27', '2017-06-07', '2022-01-10', '2021-12-23',\n",
       "       '2020-06-16', '2019-08-10', '2018-11-29', '2018-02-04',\n",
       "       '2021-12-05', '2021-09-26', '2020-08-08', '2020-08-17',\n",
       "       '2021-11-03', '2020-03-25', '2021-07-13', '2020-01-01',\n",
       "       '2021-05-06', '2021-03-01', '2021-08-12', '2017-09-17',\n",
       "       '2021-09-03', '2014-10-27', '2021-10-29', '2021-04-13',\n",
       "       '2017-11-09', '2021-11-11', '2019-11-27', '2021-05-14',\n",
       "       '2019-05-19', '2021-01-03', '2019-08-15', '2019-03-04',\n",
       "       '2020-04-25', '2019-06-05', '2017-05-28', '2011-11-01',\n",
       "       '2018-07-12', '2019-01-29', '2018-12-17', '2021-05-21',\n",
       "       '2021-11-23'], dtype=object)"
      ]
     },
     "execution_count": 29,
     "metadata": {},
     "output_type": "execute_result"
    }
   ],
   "source": [
    "selfbans[\"Selfban_end\"].unique()"
   ]
  },
  {
   "cell_type": "code",
   "execution_count": 30,
   "metadata": {},
   "outputs": [
    {
     "data": {
      "text/plain": [
       "89"
      ]
     },
     "execution_count": 30,
     "metadata": {},
     "output_type": "execute_result"
    }
   ],
   "source": [
    "selfbans[\"Selfban_end\"].nunique()"
   ]
  },
  {
   "cell_type": "markdown",
   "metadata": {},
   "source": [
    "## TRANSACTIONS"
   ]
  },
  {
   "cell_type": "code",
   "execution_count": 31,
   "metadata": {},
   "outputs": [],
   "source": [
    "transactions = pd.read_csv(\n",
    "    INPUTS + \"\\\\\" + TRANSACTIONS,\n",
    "    delimiter=TRANSACTIONS_SEPARATOR,\n",
    "    parse_dates=True,\n",
    "    infer_datetime_format=True\n",
    "#     dtype=TRANSACTIONS_DTYPE,\n",
    "#     parse_dates=TRANSACTIONS_DATES,\n",
    "#     date_parser=myparser\n",
    ")"
   ]
  },
  {
   "cell_type": "code",
   "execution_count": 32,
   "metadata": {},
   "outputs": [
    {
     "name": "stdout",
     "output_type": "stream",
     "text": [
      "<class 'pandas.core.frame.DataFrame'>\n",
      "RangeIndex: 49250 entries, 0 to 49249\n",
      "Data columns (total 5 columns):\n",
      " #   Column          Non-Null Count  Dtype  \n",
      "---  ------          --------------  -----  \n",
      " 0   PlayerNr        49250 non-null  int64  \n",
      " 1   Trx_Type        49250 non-null  object \n",
      " 2   Trx_time        49250 non-null  object \n",
      " 3   Balance_before  49250 non-null  float64\n",
      " 4   Balance_after   49250 non-null  float64\n",
      "dtypes: float64(2), int64(1), object(2)\n",
      "memory usage: 1.9+ MB\n"
     ]
    }
   ],
   "source": [
    "transactions.info()"
   ]
  },
  {
   "cell_type": "code",
   "execution_count": 33,
   "metadata": {},
   "outputs": [
    {
     "data": {
      "text/html": [
       "<div>\n",
       "<style scoped>\n",
       "    .dataframe tbody tr th:only-of-type {\n",
       "        vertical-align: middle;\n",
       "    }\n",
       "\n",
       "    .dataframe tbody tr th {\n",
       "        vertical-align: top;\n",
       "    }\n",
       "\n",
       "    .dataframe thead th {\n",
       "        text-align: right;\n",
       "    }\n",
       "</style>\n",
       "<table border=\"1\" class=\"dataframe\">\n",
       "  <thead>\n",
       "    <tr style=\"text-align: right;\">\n",
       "      <th></th>\n",
       "      <th>PlayerNr</th>\n",
       "      <th>Trx_Type</th>\n",
       "      <th>Trx_time</th>\n",
       "      <th>Balance_before</th>\n",
       "      <th>Balance_after</th>\n",
       "    </tr>\n",
       "  </thead>\n",
       "  <tbody>\n",
       "    <tr>\n",
       "      <th>0</th>\n",
       "      <td>3887581556</td>\n",
       "      <td>bonus</td>\n",
       "      <td>2017-07-24 01:24:24</td>\n",
       "      <td>0</td>\n",
       "      <td>796</td>\n",
       "    </tr>\n",
       "    <tr>\n",
       "      <th>1</th>\n",
       "      <td>3887581556</td>\n",
       "      <td>stake</td>\n",
       "      <td>2017-09-07 17:11:17</td>\n",
       "      <td>796</td>\n",
       "      <td>548</td>\n",
       "    </tr>\n",
       "    <tr>\n",
       "      <th>2</th>\n",
       "      <td>3887581556</td>\n",
       "      <td>withdrawal</td>\n",
       "      <td>2017-09-21 01:57:25</td>\n",
       "      <td>548</td>\n",
       "      <td>367</td>\n",
       "    </tr>\n",
       "  </tbody>\n",
       "</table>\n",
       "</div>"
      ],
      "text/plain": [
       "     PlayerNr    Trx_Type             Trx_time  Balance_before  Balance_after\n",
       "0  3887581556       bonus  2017-07-24 01:24:24               0            796\n",
       "1  3887581556       stake  2017-09-07 17:11:17             796            548\n",
       "2  3887581556  withdrawal  2017-09-21 01:57:25             548            367"
      ]
     },
     "execution_count": 33,
     "metadata": {},
     "output_type": "execute_result"
    }
   ],
   "source": [
    "transactions.head(3)"
   ]
  },
  {
   "cell_type": "code",
   "execution_count": 34,
   "metadata": {},
   "outputs": [
    {
     "data": {
      "text/plain": [
       "array([3887581556, 7847705450, 7005121609, 8437991648, 3609218616,\n",
       "       7031986051, 5182028432, 3665734373, 3488097433, 3562040739,\n",
       "       6723870281, 8722967993, 5370833538, 1752071508, 9408543320,\n",
       "       8685006215, 3422001834, 4027358199, 5836746031, 4356511110,\n",
       "       6536059946, 7681922086, 7533178935, 3594038539, 4031051835,\n",
       "       5029980789, 3545262772, 9512321150, 4971858537, 8242389685,\n",
       "       5692012672, 4738425000, 5835867002, 2346816385, 7807236984,\n",
       "       6902437625, 2256133419, 8493765890, 9870304417, 8387186855,\n",
       "       4145122027, 7876309986, 5493279528, 1279000595, 1502962507,\n",
       "       5119714752, 6631191922, 1816729060, 3273206733, 4217470070,\n",
       "       4187035053, 8540747987, 1910216990, 7852530658, 4205934848,\n",
       "       7681189725, 1139495753, 9233256770, 6901582385, 3490297765,\n",
       "       8417073921, 2378116701, 5452125578, 5569413188, 2783796726,\n",
       "       8225935418, 6441323808, 3727116599, 6309322483, 4020798464,\n",
       "       9307866463, 6969537527, 9125778192, 2004478966, 5354227956,\n",
       "       7926298931, 2919298634, 8936299782, 1752121632, 6020436354,\n",
       "       6593305246, 8481909783, 6863841779, 2771147490, 3822840370,\n",
       "       2933397413, 6079943514, 2854926593, 2197515341, 7987776529,\n",
       "       4714472888, 5603620464, 2418340702, 5719578803, 6811970624,\n",
       "       1456044119, 9374448344, 1862461968, 3039625951, 6411194864,\n",
       "       3598649459, 8847052979, 9788544818, 8201907628, 4124383653,\n",
       "       8897506848, 8654028418, 1718976016, 7447662063, 6536173661,\n",
       "       3997355951, 7109593642, 1766373215, 3169263239, 2730081960,\n",
       "       5350521753, 8249341981, 6692316206, 6249245828, 9111942388,\n",
       "       2258058891, 3973521224, 7765254498, 9911004914, 9408892762,\n",
       "       1036020982, 2869042835, 6227261306, 5776449444, 1897835110,\n",
       "       9330011386, 5028449753, 5183897899, 2517732149, 5952950913,\n",
       "       2780613081, 5159337063, 9082747726, 2729531333, 5108564405,\n",
       "       3443196705, 5844329264, 8769457061, 6776592890, 4915175880,\n",
       "       4809187404, 3295554010, 9280817790, 3138089406, 5059677080,\n",
       "       5020149236, 4399532870, 9076185047, 6454227191, 7386003760,\n",
       "       5847410968, 1048117176, 1992632533, 1727820178, 2041105448,\n",
       "       1187628327, 6188622350, 6350784460, 4320576608, 8472369131,\n",
       "       8513977096, 7850356930, 3168527231, 7749705286, 8777273645,\n",
       "       8437710692, 1944662055, 1996175798, 1667100655, 4494890697,\n",
       "       8972150859, 5241979249, 7968717305, 4948410766, 1367057505,\n",
       "       9550304081, 7930289495, 3765945215, 5260661544, 8469546949,\n",
       "       7909261668, 6207183339, 5591327881, 6110275923, 5319878736,\n",
       "       3679157558, 8789559478, 5975532588, 5590353255, 2934211186,\n",
       "       1708297073, 4180084805, 9597589475, 4000846777, 8416016383,\n",
       "       1515544038, 5648246733, 9186918832, 7583536828, 6263514268,\n",
       "       3407806857, 8912699321, 7156548211, 9350479393, 7796848045,\n",
       "       1021879209, 8094254028, 4795256297, 8821973953, 7196320971,\n",
       "       6858978623, 8257635691, 9142768434, 9553648054, 7682009516,\n",
       "       9318805215, 7602889861, 4420711043, 6056008753, 9617352143,\n",
       "       3381222091, 5469194979, 8466100623, 9591329818, 6934551288,\n",
       "       9585591209, 9658709390, 2623283609, 5353640172, 9715650351,\n",
       "       1077825933, 6925828862, 9134893416, 6535162498, 8277160625,\n",
       "       1816774519, 4930767824, 2508688490, 5374681156, 4049814995,\n",
       "       9728286346, 3299518083, 5656036765, 9826780166, 9921328392,\n",
       "       3778143709, 7716123384, 1134481326, 4160140627, 5445932740,\n",
       "       1895106323, 2856829379, 9999018879, 2407960604, 5095607352,\n",
       "       5712498542, 7001613641, 5844938083, 6683340389, 6428239246,\n",
       "       7512358693, 3241886772, 6647962503, 6022884158, 4628414499,\n",
       "       2921528550, 4795329415, 8134758300, 3935373805, 4706862924,\n",
       "       6982551820, 2731406850, 9545251757, 9419526066, 5962103643,\n",
       "       6120781753, 6248602523, 4404340539, 1639673044, 9058947957,\n",
       "       3421286587, 9248919117, 9788777883, 5782684796, 9713706217,\n",
       "       9444450429, 6685390516, 5217310024, 9618415445, 9347696464,\n",
       "       7229614068, 4534697142, 1222667537, 5301464570, 5014230319,\n",
       "       4479208260, 5138328026, 3260350038, 3376418352, 9864624292,\n",
       "       8835289726, 2167857335, 4313304363, 6111030771, 4773968640,\n",
       "       1374242481, 6342549048, 4312716535, 5684879266, 3630073091,\n",
       "       5168256560, 8209806297, 5886509256, 4788982906, 4906498466,\n",
       "       9389350104, 5016408432, 1008024186, 6882779408, 4733111789,\n",
       "       3795189497, 4428329907, 4019273981, 2657993842, 2750066265,\n",
       "       2257213006, 3685668916, 9626751996, 3784916704, 7854319509,\n",
       "       1129466949, 5126880330, 2551389194, 7148722615, 3089456795,\n",
       "       5788951893, 3644753014, 4776092946, 2235270409, 8905287137,\n",
       "       5089175048, 3153409044, 9466072469, 1950922825, 6325769549,\n",
       "       2134627190, 7045165178, 4530090218, 1249023625, 6858357142,\n",
       "       9207467953, 9767869811, 9669299342, 1073108488, 8305077365,\n",
       "       3721973090, 1996760440, 4313151992, 4304130519, 4215494709,\n",
       "       4966418989, 2889954002, 5485951792, 8875524474, 3081971721,\n",
       "       1003452062, 1720597878, 5579879986, 9545432015, 4374699486,\n",
       "       5424628707, 8294890270, 9631049242, 1907898280, 2906323424,\n",
       "       2171657140, 3784401811, 7990125543, 6958633636, 7101629444,\n",
       "       1166918249, 5825308976, 4279109801, 3923747925, 1329891140,\n",
       "       6084817052, 5237160675, 6110668549, 5480955684, 2766944760,\n",
       "       4454426269, 9174587162, 4272877555, 7022630949, 3120236711,\n",
       "       8089534537, 9648377048, 7414014998, 6602260253, 4154827763,\n",
       "       4167573353, 4319489037, 1919609615, 1817914683, 9161143085,\n",
       "       9123198269, 6950960500, 9383894093, 3625485559, 8683467958,\n",
       "       1074763648, 9924350063, 2142867327, 8395845941, 3229561613,\n",
       "       4757794143, 1071849434, 8727886641, 6939238903, 1491679158,\n",
       "       4085356648, 6819231534, 5508268742, 8197749281, 6757211987,\n",
       "       8253611796, 2065130619, 7877484586, 8319163953, 8872640962,\n",
       "       8964586634, 4521880467, 5932142067, 6240452481, 2826791451,\n",
       "       4225726186, 8954649603, 9762320595, 8991114912, 3405417598,\n",
       "       4570265314, 5334787429, 5811282760, 1753309400, 9861904236,\n",
       "       6687325310, 9697920754, 1802383654, 4878137000, 4447471264,\n",
       "       5313307886, 2693212479, 1899873539, 2153922776, 6424111008,\n",
       "       2320840478, 7198372054, 5215092720, 2384706059, 8987661596,\n",
       "       4479770352, 8191162120, 7539629902, 3545184673, 5990831768,\n",
       "       6051224684, 3925295409, 5320553803, 9977516550, 1348061482,\n",
       "       5261641749, 9501354476, 7843202547, 7375289060, 2800179301,\n",
       "       7910929361, 7130953524, 3202751815, 6531370651, 3673910263,\n",
       "       7934190511, 1315332882, 4625963827, 7760271911, 2723177118,\n",
       "       4060459252, 2708965235, 7860355714, 4964485362, 6958065571,\n",
       "       7716028867, 8965654772, 9649663091, 4663468439, 9137324017,\n",
       "       8981481727, 3536879161, 3756539045, 8892408786, 6955467978,\n",
       "       2815548609, 7414997384, 8628705878, 4831091818, 8032458306,\n",
       "       8863136498, 1851253707, 6734549224, 7422054146, 4163739670,\n",
       "       4829698086, 6712940409, 3759344205, 8243894495, 4034830897,\n",
       "       7004871464, 1744417332, 2432121753, 3392437624, 9237289851,\n",
       "       7659913522, 2886671673, 7620204911, 9384357723, 6486077772,\n",
       "       5649881802, 3989308925, 2497988312, 2873088390, 8824775593,\n",
       "       9913484834, 1187887960, 6502642559, 3069121875, 1567761365,\n",
       "       7607172937, 7730005491, 3477828375, 9209310152, 3993169407,\n",
       "       5632825369, 5321193454, 2555452617, 4249915854, 4992001157,\n",
       "       7227399558, 2049153692, 6643546114, 8846366373, 4286934622,\n",
       "       2280860969, 5489947958, 3611613045, 9144089115, 1173943570,\n",
       "       2788649998, 2400042258, 2057158538, 4609056780, 4908197324,\n",
       "       2875389074, 7887921094, 6009338965, 4304161254, 3589643214,\n",
       "       4219318204, 1401279702, 7015291220, 4879337649, 7220156559,\n",
       "       9619987381, 2666911961, 6851586773, 3868040170, 7427534630,\n",
       "       4502838895, 9187053437, 3172417116, 4879856339, 8960039152,\n",
       "       5282226078, 6894357758, 3982636771, 7222960171, 4071816233,\n",
       "       4224531105, 7960859397, 1391642687, 7140386835, 7946201393,\n",
       "       5721867428, 1665025341, 3604687614, 9143053710, 2997128862,\n",
       "       7401325702, 6095038289, 8813009515, 4105801839, 3197580905,\n",
       "       6968684654, 9753875177, 9576714078, 6173879323, 5963893341,\n",
       "       2566905445, 4567655299, 8802835442, 9134238552, 4135393607,\n",
       "       6448871425, 2605699635, 3755701106, 9406796098, 2929604125,\n",
       "       5307520758, 1220725533, 4247278145, 9329873881, 6959737216,\n",
       "       3663720933, 2631000445, 6266518346, 5872042602, 3331283699,\n",
       "       6486256426, 5251985217, 7564442303, 2426669052, 1543081705,\n",
       "       2799796389, 9310218208, 9753830378, 6737484067, 9941847462,\n",
       "       8677536247, 8286044987, 5504404257, 6113320792, 8879649469,\n",
       "       1110851301, 6603457419, 8387480307, 6923954188, 7687349501,\n",
       "       7918009044, 1056774753, 9477306913, 7128077773, 4724544883,\n",
       "       9617608846, 7724732802, 7161799269, 1407937647, 6175894664,\n",
       "       1225443491, 1797698393, 2049342450, 3036605361, 9293758692,\n",
       "       4356217318, 2951163226, 8250468647, 8755587349, 9311172845,\n",
       "       2649043767, 3542098940, 9302723313, 6593724222, 9488610679,\n",
       "       4822429682, 5729769708, 7395233439, 2598048600, 7204275743,\n",
       "       7398086589, 5042213040, 8284846896, 2986326032, 5903388780,\n",
       "       7251536930, 8455498081, 1259866000, 9920690603, 9901341834,\n",
       "       4064042387, 7935369112, 1377040479, 1363350151, 5088228455,\n",
       "       9562382785, 7395026024, 6896824707, 5269039539, 7401563317,\n",
       "       8681455827, 3142992964, 9835187141, 4627619785, 4224432131,\n",
       "       3636455228, 8493185248, 5272587414, 9243318139, 7704173390,\n",
       "       2329485190, 7124160291, 4838197394, 3345013177, 7648851343,\n",
       "       7119410370, 6258052927, 4798520506, 2055882670, 2402014068,\n",
       "       2376188704, 4364984233, 9223106184, 4539857982, 4394147024,\n",
       "       9409264590, 8882949245, 1384358756, 7276030383, 6129426904,\n",
       "       9494237535, 4026382135, 6698854303, 8696116871, 5776897577,\n",
       "       7152710287, 2017100714, 4981129877, 1175477128, 6455289545,\n",
       "       6570464506, 5352747602, 4960388549, 5755230391, 4440280094,\n",
       "       3557525996, 3733469127, 6242157677, 5595521587, 8473025823,\n",
       "       7708163600, 8779051317, 6682597356, 5334159843, 6460500081,\n",
       "       1039530254, 5410855127, 3210317840, 9461469132, 1113772739,\n",
       "       3271992562, 4327394662, 3561224330, 1350125524, 9002053499,\n",
       "       4589005703, 9090923541, 3630477141, 3570320410, 1217988677,\n",
       "       2902091833, 6767100191, 8042777287, 6718413299, 9520118148,\n",
       "       5715781216, 1799467633, 6475014099, 2768924634, 3530455256,\n",
       "       8410770892, 3894866060, 6004864613, 3359424950, 8381684178,\n",
       "       5640613392, 2441178681, 2482891095, 3561311808, 7173990591,\n",
       "       9816051899, 2757181653, 5723231781, 1855445009, 4256102660,\n",
       "       1859485810, 3703258041, 1993551460, 3228956903, 2295691189,\n",
       "       5719638320, 5180118709, 2228736135, 3004740779, 8452441052,\n",
       "       7120245757, 3038568726, 9180273354, 9855025364, 3240554066,\n",
       "       5957497601, 5897164557, 7899414077, 5928185989, 7839974907,\n",
       "       4842805879, 2558475640, 6829921208, 9910321229, 2667302850,\n",
       "       5298229795, 7366963306, 9536171022, 6124735115, 2788018481,\n",
       "       1835753942, 6287176975, 6653418070, 6002979110, 6579146164,\n",
       "       3780726869, 7168634930, 5018626260, 1480124058, 4042740749,\n",
       "       7968512611, 7753111426, 2270513421, 1305270417, 2009742838,\n",
       "       5440868831, 8811323256, 8806291039, 7184209444, 2720536088,\n",
       "       4290862535, 8214493674, 7480596887, 5180640101, 7977666971,\n",
       "       1725607938, 9623749151, 1657964752, 5704806589, 5657458942,\n",
       "       5266326652, 8412694174, 5719681004, 3719638472, 3568394052,\n",
       "       9158396250, 8404036403, 7009977809, 6725423820, 2258686032,\n",
       "       5001772424, 9630861695, 8212304711, 9563018833, 9751017515,\n",
       "       2381191860, 4353601507, 7599120247, 6887687007, 7139669830,\n",
       "       1923617176, 5577302403, 9560331032, 7550564954, 9423618444,\n",
       "       7038684572, 3180083415, 9799710372, 4349469328, 1101433139,\n",
       "       2102129472, 2277854666, 4622252570, 2752259310, 5201986063,\n",
       "       7609587639, 5999371707, 1147165269, 8630819387, 6872834906,\n",
       "       3238423166, 3960636483, 7911667585, 6444622508, 8542315784,\n",
       "       4966148032, 4450771376, 2458831810, 4854330952, 6314174061,\n",
       "       9175102949, 8312430965, 6296724756, 6439579199, 9099796993,\n",
       "       9683319570, 5175582438, 8325062560, 6454004952, 8308045070,\n",
       "       4848474613, 7246186821, 2688196569, 1590099955, 4629747977,\n",
       "       1669353164, 1438693298, 4010670848, 4442554830, 1905744017,\n",
       "       6395412297, 2522280171, 3698305709, 2872761292, 5599894411,\n",
       "       6237242496, 8616240350, 1433627374, 9341350367, 4291178566,\n",
       "       1104242070, 1257429873, 3334692224, 9416723241, 4147359622,\n",
       "       9817736749, 2550536315, 5441542989, 2322271391, 9008391581,\n",
       "       6138129749, 7968409170, 4677626720, 9826072896, 3003632964,\n",
       "       3790376925, 3955762151, 7567958026, 5210308980, 2375106696,\n",
       "       2656639420, 3488995114, 9281332056, 5676898561, 1605689737,\n",
       "       1418441391, 5636954038, 2679084421, 3571891436, 2420178452,\n",
       "       9208550370, 7294754188, 4338238709, 5409834735, 4256760247,\n",
       "       2432239860, 7858138614, 5819651284, 4147513695, 9214442275,\n",
       "       2291009854, 8489065372, 5807315605, 9901889476, 4636538480,\n",
       "       9937523708, 9750556308, 9110892172, 9306507014, 9622840752,\n",
       "       3713956284, 6677439984, 4421431461, 8746199414, 6482640039,\n",
       "       7360398683, 6877956071, 5076578596, 2126018298], dtype=int64)"
      ]
     },
     "execution_count": 34,
     "metadata": {},
     "output_type": "execute_result"
    }
   ],
   "source": [
    "transactions[\"PlayerNr\"].unique()"
   ]
  },
  {
   "cell_type": "code",
   "execution_count": 35,
   "metadata": {},
   "outputs": [
    {
     "data": {
      "text/plain": [
       "994"
      ]
     },
     "execution_count": 35,
     "metadata": {},
     "output_type": "execute_result"
    }
   ],
   "source": [
    "transactions[\"PlayerNr\"].nunique()"
   ]
  },
  {
   "cell_type": "code",
   "execution_count": 36,
   "metadata": {},
   "outputs": [
    {
     "data": {
      "text/plain": [
       "array(['bonus', 'stake', 'withdrawal', 'win', 'deposit'], dtype=object)"
      ]
     },
     "execution_count": 36,
     "metadata": {},
     "output_type": "execute_result"
    }
   ],
   "source": [
    "transactions[\"Trx_Type\"].unique()"
   ]
  },
  {
   "cell_type": "code",
   "execution_count": 37,
   "metadata": {},
   "outputs": [
    {
     "data": {
      "text/plain": [
       "5"
      ]
     },
     "execution_count": 37,
     "metadata": {},
     "output_type": "execute_result"
    }
   ],
   "source": [
    "transactions[\"Trx_Type\"].nunique()"
   ]
  },
  {
   "cell_type": "code",
   "execution_count": 38,
   "metadata": {},
   "outputs": [
    {
     "data": {
      "text/plain": [
       "array(['2017-07-24 01:24:24', '2017-09-07 17:11:17',\n",
       "       '2017-09-21 01:57:25', ..., '2021-11-02 21:37:09',\n",
       "       '2021-12-07 21:12:39', '2022-01-26 14:38:41'], dtype=object)"
      ]
     },
     "execution_count": 38,
     "metadata": {},
     "output_type": "execute_result"
    }
   ],
   "source": [
    "transactions[\"Trx_time\"].unique()"
   ]
  },
  {
   "cell_type": "code",
   "execution_count": 39,
   "metadata": {},
   "outputs": [
    {
     "data": {
      "text/plain": [
       "49242"
      ]
     },
     "execution_count": 39,
     "metadata": {},
     "output_type": "execute_result"
    }
   ],
   "source": [
    "transactions[\"Trx_time\"].nunique()"
   ]
  },
  {
   "cell_type": "markdown",
   "metadata": {},
   "source": [
    "## Questions:\n",
    "#### 1. What was the average deposit in Spain in 2021?"
   ]
  },
  {
   "cell_type": "code",
   "execution_count": 194,
   "metadata": {},
   "outputs": [],
   "source": [
    "q3 = \"\"\"\n",
    "WITH players_spain AS (\n",
    "SELECT DISTINCT\n",
    "    p.PlayerNr,\n",
    "    p.country\n",
    "FROM players as p\n",
    "WHERe Country =\"ES\"\n",
    "\n",
    "), balance AS (\n",
    "    SELECT \n",
    "            PlayerNr,\n",
    "            SUM(Balance_after- Balance_before) as sum_deposite\n",
    "            FROM transactions\n",
    "            WHERE Trx_Type=\"deposit\"\n",
    "            GROUP BY PlayerNr\n",
    "            \n",
    ")\n",
    "\n",
    "SElECT\n",
    "--ps.country,\n",
    "AVG(b.sum_deposite) as average_deposit_spain\n",
    "FROM players_spain as ps\n",
    "INNER JOIN balance as b\n",
    "ON ps.PlayerNr = b.PlayerNr\n",
    "\"\"\""
   ]
  },
  {
   "cell_type": "code",
   "execution_count": 195,
   "metadata": {},
   "outputs": [],
   "source": [
    "q3_result = ps.sqldf(q3, locals())"
   ]
  },
  {
   "cell_type": "code",
   "execution_count": 196,
   "metadata": {},
   "outputs": [
    {
     "data": {
      "text/html": [
       "<div>\n",
       "<style scoped>\n",
       "    .dataframe tbody tr th:only-of-type {\n",
       "        vertical-align: middle;\n",
       "    }\n",
       "\n",
       "    .dataframe tbody tr th {\n",
       "        vertical-align: top;\n",
       "    }\n",
       "\n",
       "    .dataframe thead th {\n",
       "        text-align: right;\n",
       "    }\n",
       "</style>\n",
       "<table border=\"1\" class=\"dataframe\">\n",
       "  <thead>\n",
       "    <tr style=\"text-align: right;\">\n",
       "      <th></th>\n",
       "      <th>average_deposit_spain</th>\n",
       "    </tr>\n",
       "  </thead>\n",
       "  <tbody>\n",
       "    <tr>\n",
       "      <th>0</th>\n",
       "      <td>876</td>\n",
       "    </tr>\n",
       "  </tbody>\n",
       "</table>\n",
       "</div>"
      ],
      "text/plain": [
       "   average_deposit_spain\n",
       "0                    876"
      ]
     },
     "execution_count": 196,
     "metadata": {},
     "output_type": "execute_result"
    }
   ],
   "source": [
    "q3_result"
   ]
  },
  {
   "cell_type": "markdown",
   "metadata": {},
   "source": [
    "#### 2. Show Top 10 depositor and their deposits."
   ]
  },
  {
   "cell_type": "code",
   "execution_count": null,
   "metadata": {},
   "outputs": [],
   "source": []
  },
  {
   "cell_type": "markdown",
   "metadata": {},
   "source": [
    "#### 3. How many active players there are?"
   ]
  },
  {
   "cell_type": "code",
   "execution_count": null,
   "metadata": {},
   "outputs": [],
   "source": []
  },
  {
   "cell_type": "markdown",
   "metadata": {},
   "source": [
    "#### 4. How many players currently have self-ban active?"
   ]
  },
  {
   "cell_type": "code",
   "execution_count": null,
   "metadata": {},
   "outputs": [],
   "source": []
  },
  {
   "cell_type": "markdown",
   "metadata": {},
   "source": [
    "#### 5. How many self-bans were activated in 2021?"
   ]
  },
  {
   "cell_type": "code",
   "execution_count": null,
   "metadata": {},
   "outputs": [],
   "source": []
  },
  {
   "cell_type": "markdown",
   "metadata": {},
   "source": [
    "#### 6. How many players had active self-ban on 1st of May 2021?"
   ]
  },
  {
   "cell_type": "code",
   "execution_count": null,
   "metadata": {},
   "outputs": [],
   "source": []
  }
 ],
 "metadata": {
  "kernelspec": {
   "display_name": "Python 3",
   "language": "python",
   "name": "python3"
  },
  "language_info": {
   "codemirror_mode": {
    "name": "ipython",
    "version": 3
   },
   "file_extension": ".py",
   "mimetype": "text/x-python",
   "name": "python",
   "nbconvert_exporter": "python",
   "pygments_lexer": "ipython3",
   "version": "3.9.7"
  }
 },
 "nbformat": 4,
 "nbformat_minor": 1
}
